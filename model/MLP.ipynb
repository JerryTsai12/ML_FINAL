{
  "cells": [
    {
      "cell_type": "code",
      "execution_count": 1,
      "metadata": {
        "id": "HEmT9VhRK_dF"
      },
      "outputs": [],
      "source": [
        "# import xgboost as xgb\n",
        "import numpy as np\n",
        "from tqdm import tqdm\n",
        "from itertools import *\n",
        "from scipy.stats import uniform, randint\n",
        "import json\n",
        "import matplotlib.pyplot as plt\n",
        "from sklearn.neural_network import MLPRegressor\n",
        "from sklearn.preprocessing import StandardScaler"
      ]
    },
    {
      "cell_type": "code",
      "execution_count": 2,
      "metadata": {
        "colab": {
          "base_uri": "https://localhost:8080/"
        },
        "id": "4wfCq6h0SA49",
        "outputId": "c389dc8c-65c0-4b58-db81-ba38adb63848"
      },
      "outputs": [
        {
          "name": "stdout",
          "output_type": "stream",
          "text": [
            "predict_stns: ['500101001', '500101002', '500101003', '500101004', '500101005', '500101006', '500101007', '500101008', '500101009', '500101010', '500101013', '500101014', '500101015', '500101018', '500101019', '500101020', '500101021', '500101022', '500101023', '500101024', '500101025', '500101026', '500101027', '500101028', '500101029', '500101030', '500101031', '500101032', '500101033', '500101034', '500101035', '500101036', '500101037', '500101038', '500101039', '500101040', '500101041', '500101042', '500101091', '500101092', '500101093', '500101094', '500101114', '500101115', '500101123', '500101166', '500101175', '500101176', '500101181', '500101184', '500101185', '500101188', '500101189', '500101190', '500101191', '500101193', '500101199', '500101209', '500101216', '500101219', '500105066', '500106002', '500106003', '500106004', '500119043', '500119044', '500119045', '500119046', '500119047', '500119048', '500119049', '500119050', '500119051', '500119052', '500119053', '500119054', '500119055', '500119056', '500119057', '500119058', '500119059', '500119060', '500119061', '500119062', '500119063', '500119064', '500119065', '500119066', '500119067', '500119068', '500119069', '500119070', '500119071', '500119072', '500119074', '500119075', '500119076', '500119077', '500119078', '500119079', '500119080', '500119081', '500119082', '500119083', '500119084', '500119085', '500119086', '500119087', '500119088', '500119089', '500119090', '500119091']\n"
          ]
        }
      ],
      "source": [
        "with open(\"./data_sno_test_set.txt\", \"r\") as f:\n",
        "    predict_stns = f.read().split()\n",
        "    predict_stns.sort()\n",
        "print(\"predict_stns:\", predict_stns)\n",
        "stn_pre = 0"
      ]
    },
    {
      "cell_type": "code",
      "execution_count": 3,
      "metadata": {
        "id": "BsdGB3ifOg2O"
      },
      "outputs": [],
      "source": [
        "def Err_func(b_predict, b_truth, total):\n",
        "    return 3 * abs(b_predict - b_truth) / total * ( abs((3 * b_truth - total)/(3 *total)) + abs((3 * b_truth - 2 * total)/(3 * total)) )"
      ]
    },
    {
      "cell_type": "code",
      "execution_count": 4,
      "metadata": {
        "id": "5tC5e_rPOkFh"
      },
      "outputs": [],
      "source": [
        "import tensorflow as tf\n",
        "def val(predic_y, y, total):\n",
        "  err = 0\n",
        "  for i in range(len(y)):\n",
        "    err += Err_func(float(predic_y[i]), float(y[i]), float(total))\n",
        "\n",
        "  return err / len(y)"
      ]
    },
    {
      "cell_type": "code",
      "execution_count": 5,
      "metadata": {},
      "outputs": [],
      "source": [
        "def loss(yp, yt):\n",
        "    return Err_func(float(yp), float(yt), float(stn_pre))"
      ]
    },
    {
      "cell_type": "code",
      "execution_count": 6,
      "metadata": {
        "id": "mJscZbxSqTVP"
      },
      "outputs": [],
      "source": [
        "def Load_stn_tot():\n",
        "  with open(\"./data_stn_tot.json\", 'r') as f:\n",
        "    stn_tot = json.load(f)\n",
        "  return dict(stn_tot)"
      ]
    },
    {
      "cell_type": "code",
      "execution_count": 7,
      "metadata": {},
      "outputs": [],
      "source": [
        "def read_data(stn, mode):\n",
        "  data = []\n",
        "  x = []\n",
        "  y = []\n",
        "  path = f\"./data/{stn}_{mode}.txt\"\n",
        "\n",
        "  with open(path, 'r') as f:\n",
        "    for line in f.readlines():\n",
        "      tmp_list = line.split()\n",
        "      for i in range(len(tmp_list)):\n",
        "        if i not in [0, 1, 2]:\n",
        "          tmp_list[i] = float(tmp_list[i])\n",
        "      # if tmp_list[1] in week_list:\n",
        "      min = int(tmp_list[2][:2]) * 60 + int(tmp_list[2][3:])\n",
        "      weekday = int(tmp_list[4])\n",
        "      all_min = 1440 * (weekday - 1) + min\n",
        "      if tmp_list[4] == 5 and min > 1440 - 60 * 6:\n",
        "        tmp_list[5] = 0\n",
        "\n",
        "      def sin_a(a, b):\n",
        "        return np.sin(a * 2 * np.pi / b)\n",
        "      def cos_a(a, b):\n",
        "        return np.cos(a * 2 * np.pi / b)\n",
        "      k = 1440\n",
        "      x_input = []\n",
        "      for i in range(1, 10):\n",
        "        x_input.append(sin_a(all_min, k / i))\n",
        "        x_input.append(cos_a(all_min, k / i))\n",
        "      x_input = [sin_a(min, k), cos_a(min, k), sin_a(all_min, k * 7), cos_a(all_min, k * 7)] + tmp_list[5:8]\n",
        "      \n",
        "      x.append(list(x_input))\n",
        "      y.append(int(tmp_list[10]))\n",
        "      \n",
        "      frac = int(tmp_list[10])/ tmp_list[3]\n",
        "      N = 6\n",
        "      if mode == 'train':\n",
        "        for i in range(int(N * 3 * ( abs(frac - 1/3) + abs(frac - 2/3))) - N):\n",
        "          x.append(list(x_input))\n",
        "          y.append(int(tmp_list[10]))\n",
        "          # if min < 60 * 7 or min > 1440 - 60 * 2:\n",
        "          #   x.append(list(x_input))\n",
        "          #   y.append(int(tmp_list[10]))\n",
        "        # if min < 60 * 7 or min > 1440 - 60 * 2:\n",
        "        #     x.append(list(x_input))\n",
        "        #     y.append(int(tmp_list[10]))\n",
        "          \n",
        "      data.append(tmp_list)\n",
        "      \n",
        "  # print(\"data:\", data)\n",
        "  # print(\"x_train:\", x)\n",
        "  # print(\"y_train:\", y)\n",
        "  data = np.array(data)\n",
        "  x = np.array(x)\n",
        "  y = np.array(y)\n",
        "  scaler = StandardScaler()\n",
        "  x = scaler.fit_transform(x)\n",
        "  return data, x, y"
      ]
    },
    {
      "cell_type": "code",
      "execution_count": 8,
      "metadata": {
        "id": "f99RZ62fAP6Q"
      },
      "outputs": [
        {
          "name": "stdout",
          "output_type": "stream",
          "text": [
            "Epoch 1/3\n",
            "12106/12106 [==============================] - 9s 740us/step - loss: 19.4292\n",
            "Epoch 2/3\n",
            "12106/12106 [==============================] - 8s 641us/step - loss: 16.7549\n",
            "Epoch 3/3\n",
            "12106/12106 [==============================] - 8s 682us/step - loss: 16.2729\n",
            "12106/12106 [==============================] - 5s 443us/step\n",
            "315/315 [==============================] - 0s 793us/step\n"
          ]
        },
        {
          "name": "stderr",
          "output_type": "stream",
          "text": [
            "/var/folders/59/0dhfqywn3jld8bd1k8dfjg640000gn/T/ipykernel_29659/2686421191.py:5: DeprecationWarning: Conversion of an array with ndim > 0 to a scalar is deprecated, and will error in future. Ensure you extract a single element from your array before performing this operation. (Deprecated NumPy 1.25.)\n",
            "  err += Err_func(float(predic_y[i]), float(y[i]), float(total))\n"
          ]
        },
        {
          "name": "stdout",
          "output_type": "stream",
          "text": [
            "500101001: train: 0.19571043542801078, \u001b[34mval: 0.2777079547718238 \u001b[0m, avg_train: 0.19571043542801078, avg_val: 0.2777079547718238 \n",
            "495/495 [==============================] - 0s 315us/step\n"
          ]
        },
        {
          "name": "stderr",
          "output_type": "stream",
          "text": [
            "/var/folders/59/0dhfqywn3jld8bd1k8dfjg640000gn/T/ipykernel_29659/2769502317.py:72: DeprecationWarning: Conversion of an array with ndim > 0 to a scalar is deprecated, and will error in future. Ensure you extract a single element from your array before performing this operation. (Deprecated NumPy 1.25.)\n",
            "  predict_file.write(f\"{id},{int(pre_test[i])}\\n\")\n"
          ]
        },
        {
          "name": "stdout",
          "output_type": "stream",
          "text": [
            "Epoch 1/3\n",
            "13112/13112 [==============================] - 9s 665us/step - loss: 8.2122\n",
            "Epoch 2/3\n",
            "13112/13112 [==============================] - 9s 696us/step - loss: 7.2116\n",
            "Epoch 3/3\n",
            "13112/13112 [==============================] - 9s 667us/step - loss: 7.0486\n",
            "13112/13112 [==============================] - 6s 429us/step\n",
            "315/315 [==============================] - 0s 611us/step\n"
          ]
        },
        {
          "name": "stderr",
          "output_type": "stream",
          "text": [
            "/var/folders/59/0dhfqywn3jld8bd1k8dfjg640000gn/T/ipykernel_29659/2686421191.py:5: DeprecationWarning: Conversion of an array with ndim > 0 to a scalar is deprecated, and will error in future. Ensure you extract a single element from your array before performing this operation. (Deprecated NumPy 1.25.)\n",
            "  err += Err_func(float(predic_y[i]), float(y[i]), float(total))\n"
          ]
        },
        {
          "name": "stdout",
          "output_type": "stream",
          "text": [
            "500101002: train: 0.16680512373784104, \u001b[34mval: 0.2579618027619998 \u001b[0m, avg_train: 0.1812577795829259 , avg_val: 0.2678348787669118 \n",
            "495/495 [==============================] - 0s 336us/step\n"
          ]
        },
        {
          "name": "stderr",
          "output_type": "stream",
          "text": [
            "/var/folders/59/0dhfqywn3jld8bd1k8dfjg640000gn/T/ipykernel_29659/2769502317.py:72: DeprecationWarning: Conversion of an array with ndim > 0 to a scalar is deprecated, and will error in future. Ensure you extract a single element from your array before performing this operation. (Deprecated NumPy 1.25.)\n",
            "  predict_file.write(f\"{id},{int(pre_test[i])}\\n\")\n"
          ]
        },
        {
          "name": "stdout",
          "output_type": "stream",
          "text": [
            "Epoch 1/3\n",
            "12667/12667 [==============================] - 9s 723us/step - loss: 10.6088\n",
            "Epoch 2/3\n",
            "12667/12667 [==============================] - 9s 695us/step - loss: 9.6842\n",
            "Epoch 3/3\n",
            "12667/12667 [==============================] - 10s 827us/step - loss: 9.5592\n",
            "12667/12667 [==============================] - 7s 539us/step\n",
            "315/315 [==============================] - 0s 442us/step\n"
          ]
        },
        {
          "name": "stderr",
          "output_type": "stream",
          "text": [
            "/var/folders/59/0dhfqywn3jld8bd1k8dfjg640000gn/T/ipykernel_29659/2686421191.py:5: DeprecationWarning: Conversion of an array with ndim > 0 to a scalar is deprecated, and will error in future. Ensure you extract a single element from your array before performing this operation. (Deprecated NumPy 1.25.)\n",
            "  err += Err_func(float(predic_y[i]), float(y[i]), float(total))\n"
          ]
        },
        {
          "name": "stdout",
          "output_type": "stream",
          "text": [
            "500101003: train: 0.2798066740587471 , \u001b[34mval: 0.3992748910316593 \u001b[0m, avg_train: 0.2141074110748663 , avg_val: 0.3116482161884943 \n",
            "495/495 [==============================] - 0s 527us/step\n"
          ]
        },
        {
          "name": "stderr",
          "output_type": "stream",
          "text": [
            "/var/folders/59/0dhfqywn3jld8bd1k8dfjg640000gn/T/ipykernel_29659/2769502317.py:72: DeprecationWarning: Conversion of an array with ndim > 0 to a scalar is deprecated, and will error in future. Ensure you extract a single element from your array before performing this operation. (Deprecated NumPy 1.25.)\n",
            "  predict_file.write(f\"{id},{int(pre_test[i])}\\n\")\n"
          ]
        },
        {
          "name": "stdout",
          "output_type": "stream",
          "text": [
            "Epoch 1/3\n",
            "12164/12164 [==============================] - 13s 1ms/step - loss: 5.5523\n",
            "Epoch 2/3\n",
            "12164/12164 [==============================] - 11s 940us/step - loss: 5.0080\n",
            "Epoch 3/3\n",
            "12164/12164 [==============================] - 10s 804us/step - loss: 4.9168\n",
            "12164/12164 [==============================] - 5s 443us/step\n",
            "315/315 [==============================] - 0s 884us/step\n"
          ]
        },
        {
          "name": "stderr",
          "output_type": "stream",
          "text": [
            "/var/folders/59/0dhfqywn3jld8bd1k8dfjg640000gn/T/ipykernel_29659/2686421191.py:5: DeprecationWarning: Conversion of an array with ndim > 0 to a scalar is deprecated, and will error in future. Ensure you extract a single element from your array before performing this operation. (Deprecated NumPy 1.25.)\n",
            "  err += Err_func(float(predic_y[i]), float(y[i]), float(total))\n"
          ]
        },
        {
          "name": "stdout",
          "output_type": "stream",
          "text": [
            "500101004: train: 0.3239688250535627 , \u001b[34mval: 0.5063163523912272 \u001b[0m, avg_train: 0.2415727645695404 , avg_val: 0.36031525023917754\n",
            "495/495 [==============================] - 0s 355us/step\n"
          ]
        },
        {
          "name": "stderr",
          "output_type": "stream",
          "text": [
            "/var/folders/59/0dhfqywn3jld8bd1k8dfjg640000gn/T/ipykernel_29659/2769502317.py:72: DeprecationWarning: Conversion of an array with ndim > 0 to a scalar is deprecated, and will error in future. Ensure you extract a single element from your array before performing this operation. (Deprecated NumPy 1.25.)\n",
            "  predict_file.write(f\"{id},{int(pre_test[i])}\\n\")\n"
          ]
        },
        {
          "name": "stdout",
          "output_type": "stream",
          "text": [
            "Epoch 1/3\n",
            "11775/11775 [==============================] - 11s 908us/step - loss: 8.6934\n",
            "Epoch 2/3\n",
            "11775/11775 [==============================] - 9s 795us/step - loss: 8.0387\n",
            "Epoch 3/3\n",
            "11775/11775 [==============================] - 11s 899us/step - loss: 7.9160\n",
            "11775/11775 [==============================] - 6s 490us/step\n",
            "315/315 [==============================] - 0s 820us/step\n"
          ]
        },
        {
          "name": "stderr",
          "output_type": "stream",
          "text": [
            "/var/folders/59/0dhfqywn3jld8bd1k8dfjg640000gn/T/ipykernel_29659/2686421191.py:5: DeprecationWarning: Conversion of an array with ndim > 0 to a scalar is deprecated, and will error in future. Ensure you extract a single element from your array before performing this operation. (Deprecated NumPy 1.25.)\n",
            "  err += Err_func(float(predic_y[i]), float(y[i]), float(total))\n"
          ]
        },
        {
          "name": "stdout",
          "output_type": "stream",
          "text": [
            "500101005: train: 0.2587898753745233 , \u001b[34mval: 0.36430643723823963\u001b[0m, avg_train: 0.245016186730537  , avg_val: 0.36111348763899   \n",
            "495/495 [==============================] - 0s 450us/step\n"
          ]
        },
        {
          "name": "stderr",
          "output_type": "stream",
          "text": [
            "/var/folders/59/0dhfqywn3jld8bd1k8dfjg640000gn/T/ipykernel_29659/2769502317.py:72: DeprecationWarning: Conversion of an array with ndim > 0 to a scalar is deprecated, and will error in future. Ensure you extract a single element from your array before performing this operation. (Deprecated NumPy 1.25.)\n",
            "  predict_file.write(f\"{id},{int(pre_test[i])}\\n\")\n"
          ]
        },
        {
          "name": "stdout",
          "output_type": "stream",
          "text": [
            "Epoch 1/3\n",
            "15589/15589 [==============================] - 14s 901us/step - loss: 4.0494\n",
            "Epoch 2/3\n",
            "15589/15589 [==============================] - 13s 845us/step - loss: 3.8165\n",
            "Epoch 3/3\n",
            "15589/15589 [==============================] - 18s 1ms/step - loss: 3.7685\n",
            "15589/15589 [==============================] - 9s 598us/step\n",
            "315/315 [==============================] - 1s 1ms/step\n"
          ]
        },
        {
          "name": "stderr",
          "output_type": "stream",
          "text": [
            "/var/folders/59/0dhfqywn3jld8bd1k8dfjg640000gn/T/ipykernel_29659/2686421191.py:5: DeprecationWarning: Conversion of an array with ndim > 0 to a scalar is deprecated, and will error in future. Ensure you extract a single element from your array before performing this operation. (Deprecated NumPy 1.25.)\n",
            "  err += Err_func(float(predic_y[i]), float(y[i]), float(total))\n"
          ]
        },
        {
          "name": "stdout",
          "output_type": "stream",
          "text": [
            "500101006: train: 0.2623497781678694 , \u001b[34mval: 0.26991015446962224\u001b[0m, avg_train: 0.24790511863675904, avg_val: 0.34591293211076196\n",
            "495/495 [==============================] - 0s 817us/step\n"
          ]
        },
        {
          "name": "stderr",
          "output_type": "stream",
          "text": [
            "/var/folders/59/0dhfqywn3jld8bd1k8dfjg640000gn/T/ipykernel_29659/2769502317.py:72: DeprecationWarning: Conversion of an array with ndim > 0 to a scalar is deprecated, and will error in future. Ensure you extract a single element from your array before performing this operation. (Deprecated NumPy 1.25.)\n",
            "  predict_file.write(f\"{id},{int(pre_test[i])}\\n\")\n"
          ]
        },
        {
          "name": "stdout",
          "output_type": "stream",
          "text": [
            "Epoch 1/3\n",
            "14053/14053 [==============================] - 18s 1ms/step - loss: 4.1343\n",
            "Epoch 2/3\n",
            "14053/14053 [==============================] - 20s 1ms/step - loss: 3.8307\n",
            "Epoch 3/3\n",
            "14053/14053 [==============================] - 15s 1ms/step - loss: 3.7716\n",
            "14053/14053 [==============================] - 6s 413us/step\n",
            "315/315 [==============================] - 0s 756us/step\n"
          ]
        },
        {
          "name": "stderr",
          "output_type": "stream",
          "text": [
            "/var/folders/59/0dhfqywn3jld8bd1k8dfjg640000gn/T/ipykernel_29659/2686421191.py:5: DeprecationWarning: Conversion of an array with ndim > 0 to a scalar is deprecated, and will error in future. Ensure you extract a single element from your array before performing this operation. (Deprecated NumPy 1.25.)\n",
            "  err += Err_func(float(predic_y[i]), float(y[i]), float(total))\n"
          ]
        },
        {
          "name": "stdout",
          "output_type": "stream",
          "text": [
            "500101007: train: 0.25497638777613774, \u001b[34mval: 0.2512132211988919 \u001b[0m, avg_train: 0.24891529994238457, avg_val: 0.33238440198049485\n",
            "495/495 [==============================] - 0s 342us/step\n"
          ]
        },
        {
          "name": "stderr",
          "output_type": "stream",
          "text": [
            "/var/folders/59/0dhfqywn3jld8bd1k8dfjg640000gn/T/ipykernel_29659/2769502317.py:72: DeprecationWarning: Conversion of an array with ndim > 0 to a scalar is deprecated, and will error in future. Ensure you extract a single element from your array before performing this operation. (Deprecated NumPy 1.25.)\n",
            "  predict_file.write(f\"{id},{int(pre_test[i])}\\n\")\n"
          ]
        },
        {
          "name": "stdout",
          "output_type": "stream",
          "text": [
            "Epoch 1/3\n",
            "13710/13710 [==============================] - 13s 905us/step - loss: 20.1478\n",
            "Epoch 2/3\n",
            "13710/13710 [==============================] - 11s 812us/step - loss: 18.7219\n",
            "Epoch 3/3\n",
            "13710/13710 [==============================] - 11s 781us/step - loss: 18.4302\n",
            "13710/13710 [==============================] - 6s 412us/step\n",
            "315/315 [==============================] - 0s 433us/step\n"
          ]
        },
        {
          "name": "stderr",
          "output_type": "stream",
          "text": [
            "/var/folders/59/0dhfqywn3jld8bd1k8dfjg640000gn/T/ipykernel_29659/2686421191.py:5: DeprecationWarning: Conversion of an array with ndim > 0 to a scalar is deprecated, and will error in future. Ensure you extract a single element from your array before performing this operation. (Deprecated NumPy 1.25.)\n",
            "  err += Err_func(float(predic_y[i]), float(y[i]), float(total))\n"
          ]
        },
        {
          "name": "stdout",
          "output_type": "stream",
          "text": [
            "500101008: train: 0.4292045051605751 , \u001b[34mval: 0.49116076686522525\u001b[0m, avg_train: 0.2714514505946584 , avg_val: 0.35223144759108616\n",
            "495/495 [==============================] - 0s 450us/step\n"
          ]
        },
        {
          "name": "stderr",
          "output_type": "stream",
          "text": [
            "/var/folders/59/0dhfqywn3jld8bd1k8dfjg640000gn/T/ipykernel_29659/2769502317.py:72: DeprecationWarning: Conversion of an array with ndim > 0 to a scalar is deprecated, and will error in future. Ensure you extract a single element from your array before performing this operation. (Deprecated NumPy 1.25.)\n",
            "  predict_file.write(f\"{id},{int(pre_test[i])}\\n\")\n"
          ]
        },
        {
          "name": "stdout",
          "output_type": "stream",
          "text": [
            "Epoch 1/3\n",
            "12173/12173 [==============================] - 10s 775us/step - loss: 15.2892\n",
            "Epoch 2/3\n",
            "12173/12173 [==============================] - 9s 735us/step - loss: 13.8695\n",
            "Epoch 3/3\n",
            "12173/12173 [==============================] - 9s 722us/step - loss: 13.6844\n",
            "12173/12173 [==============================] - 6s 463us/step\n",
            "315/315 [==============================] - 0s 469us/step\n"
          ]
        },
        {
          "name": "stderr",
          "output_type": "stream",
          "text": [
            "/var/folders/59/0dhfqywn3jld8bd1k8dfjg640000gn/T/ipykernel_29659/2686421191.py:5: DeprecationWarning: Conversion of an array with ndim > 0 to a scalar is deprecated, and will error in future. Ensure you extract a single element from your array before performing this operation. (Deprecated NumPy 1.25.)\n",
            "  err += Err_func(float(predic_y[i]), float(y[i]), float(total))\n"
          ]
        },
        {
          "name": "stdout",
          "output_type": "stream",
          "text": [
            "500101009: train: 0.37500937809396806, \u001b[34mval: 0.4237350520688028 \u001b[0m, avg_train: 0.2829578869834706 , avg_val: 0.36017629253305466\n",
            "495/495 [==============================] - 0s 457us/step\n"
          ]
        },
        {
          "name": "stderr",
          "output_type": "stream",
          "text": [
            "/var/folders/59/0dhfqywn3jld8bd1k8dfjg640000gn/T/ipykernel_29659/2769502317.py:72: DeprecationWarning: Conversion of an array with ndim > 0 to a scalar is deprecated, and will error in future. Ensure you extract a single element from your array before performing this operation. (Deprecated NumPy 1.25.)\n",
            "  predict_file.write(f\"{id},{int(pre_test[i])}\\n\")\n"
          ]
        },
        {
          "name": "stdout",
          "output_type": "stream",
          "text": [
            "Epoch 1/3\n",
            "13159/13159 [==============================] - 10s 755us/step - loss: 22.5893\n",
            "Epoch 2/3\n",
            "13159/13159 [==============================] - 12s 908us/step - loss: 19.9606\n",
            "Epoch 3/3\n",
            "13159/13159 [==============================] - 13s 960us/step - loss: 19.6103\n",
            "13159/13159 [==============================] - 6s 445us/step\n",
            "315/315 [==============================] - 0s 602us/step\n"
          ]
        },
        {
          "name": "stderr",
          "output_type": "stream",
          "text": [
            "/var/folders/59/0dhfqywn3jld8bd1k8dfjg640000gn/T/ipykernel_29659/2686421191.py:5: DeprecationWarning: Conversion of an array with ndim > 0 to a scalar is deprecated, and will error in future. Ensure you extract a single element from your array before performing this operation. (Deprecated NumPy 1.25.)\n",
            "  err += Err_func(float(predic_y[i]), float(y[i]), float(total))\n"
          ]
        },
        {
          "name": "stdout",
          "output_type": "stream",
          "text": [
            "500101010: train: 0.3570089599356736 , \u001b[34mval: 0.3786585526617171 \u001b[0m, avg_train: 0.2903629942786909 , avg_val: 0.3620245185459209 \n",
            "495/495 [==============================] - 0s 530us/step\n"
          ]
        },
        {
          "name": "stderr",
          "output_type": "stream",
          "text": [
            "/var/folders/59/0dhfqywn3jld8bd1k8dfjg640000gn/T/ipykernel_29659/2769502317.py:72: DeprecationWarning: Conversion of an array with ndim > 0 to a scalar is deprecated, and will error in future. Ensure you extract a single element from your array before performing this operation. (Deprecated NumPy 1.25.)\n",
            "  predict_file.write(f\"{id},{int(pre_test[i])}\\n\")\n"
          ]
        },
        {
          "name": "stdout",
          "output_type": "stream",
          "text": [
            "Epoch 1/3\n",
            "11167/11167 [==============================] - 10s 837us/step - loss: 5.3872\n",
            "Epoch 2/3\n",
            "11167/11167 [==============================] - 9s 762us/step - loss: 4.8892\n",
            "Epoch 3/3\n",
            "11167/11167 [==============================] - 9s 793us/step - loss: 4.7938\n",
            "11167/11167 [==============================] - 5s 433us/step\n",
            "315/315 [==============================] - 0s 471us/step\n"
          ]
        },
        {
          "name": "stderr",
          "output_type": "stream",
          "text": [
            "/var/folders/59/0dhfqywn3jld8bd1k8dfjg640000gn/T/ipykernel_29659/2686421191.py:5: DeprecationWarning: Conversion of an array with ndim > 0 to a scalar is deprecated, and will error in future. Ensure you extract a single element from your array before performing this operation. (Deprecated NumPy 1.25.)\n",
            "  err += Err_func(float(predic_y[i]), float(y[i]), float(total))\n"
          ]
        },
        {
          "name": "stdout",
          "output_type": "stream",
          "text": [
            "500101013: train: 0.425617082475277  , \u001b[34mval: 0.33378534181222036\u001b[0m, avg_train: 0.30265882047838055, avg_val: 0.359457320661039  \n",
            "495/495 [==============================] - 0s 353us/step\n"
          ]
        },
        {
          "name": "stderr",
          "output_type": "stream",
          "text": [
            "/var/folders/59/0dhfqywn3jld8bd1k8dfjg640000gn/T/ipykernel_29659/2769502317.py:72: DeprecationWarning: Conversion of an array with ndim > 0 to a scalar is deprecated, and will error in future. Ensure you extract a single element from your array before performing this operation. (Deprecated NumPy 1.25.)\n",
            "  predict_file.write(f\"{id},{int(pre_test[i])}\\n\")\n"
          ]
        },
        {
          "name": "stdout",
          "output_type": "stream",
          "text": [
            "Epoch 1/3\n",
            "11931/11931 [==============================] - 11s 916us/step - loss: 7.7859\n",
            "Epoch 2/3\n",
            "11931/11931 [==============================] - 13s 1ms/step - loss: 6.9178\n",
            "Epoch 3/3\n",
            "11931/11931 [==============================] - 14s 1ms/step - loss: 6.7309\n",
            "11931/11931 [==============================] - 6s 498us/step\n",
            "315/315 [==============================] - 0s 531us/step\n"
          ]
        },
        {
          "name": "stderr",
          "output_type": "stream",
          "text": [
            "/var/folders/59/0dhfqywn3jld8bd1k8dfjg640000gn/T/ipykernel_29659/2686421191.py:5: DeprecationWarning: Conversion of an array with ndim > 0 to a scalar is deprecated, and will error in future. Ensure you extract a single element from your array before performing this operation. (Deprecated NumPy 1.25.)\n",
            "  err += Err_func(float(predic_y[i]), float(y[i]), float(total))\n"
          ]
        },
        {
          "name": "stdout",
          "output_type": "stream",
          "text": [
            "500101014: train: 0.3998217326791135 , \u001b[34mval: 0.5293345160633769 \u001b[0m, avg_train: 0.31075572982844163, avg_val: 0.3736137536112339 \n",
            "495/495 [==============================] - 0s 854us/step\n"
          ]
        },
        {
          "name": "stderr",
          "output_type": "stream",
          "text": [
            "/var/folders/59/0dhfqywn3jld8bd1k8dfjg640000gn/T/ipykernel_29659/2769502317.py:72: DeprecationWarning: Conversion of an array with ndim > 0 to a scalar is deprecated, and will error in future. Ensure you extract a single element from your array before performing this operation. (Deprecated NumPy 1.25.)\n",
            "  predict_file.write(f\"{id},{int(pre_test[i])}\\n\")\n"
          ]
        },
        {
          "name": "stdout",
          "output_type": "stream",
          "text": [
            "Epoch 1/3\n",
            "10807/10807 [==============================] - 9s 829us/step - loss: 6.6265\n",
            "Epoch 2/3\n",
            "10807/10807 [==============================] - 9s 805us/step - loss: 5.9942\n",
            "Epoch 3/3\n",
            "10807/10807 [==============================] - 10s 892us/step - loss: 5.8585\n",
            "10807/10807 [==============================] - 5s 475us/step\n",
            "315/315 [==============================] - 0s 345us/step\n"
          ]
        },
        {
          "name": "stderr",
          "output_type": "stream",
          "text": [
            "/var/folders/59/0dhfqywn3jld8bd1k8dfjg640000gn/T/ipykernel_29659/2686421191.py:5: DeprecationWarning: Conversion of an array with ndim > 0 to a scalar is deprecated, and will error in future. Ensure you extract a single element from your array before performing this operation. (Deprecated NumPy 1.25.)\n",
            "  err += Err_func(float(predic_y[i]), float(y[i]), float(total))\n"
          ]
        },
        {
          "name": "stdout",
          "output_type": "stream",
          "text": [
            "500101015: train: 0.24602100684261433, \u001b[34mval: 0.3590413245709476 \u001b[0m, avg_train: 0.30577613575260876, avg_val: 0.3724927975312119 \n",
            "495/495 [==============================] - 0s 369us/step\n"
          ]
        },
        {
          "name": "stderr",
          "output_type": "stream",
          "text": [
            "/var/folders/59/0dhfqywn3jld8bd1k8dfjg640000gn/T/ipykernel_29659/2769502317.py:72: DeprecationWarning: Conversion of an array with ndim > 0 to a scalar is deprecated, and will error in future. Ensure you extract a single element from your array before performing this operation. (Deprecated NumPy 1.25.)\n",
            "  predict_file.write(f\"{id},{int(pre_test[i])}\\n\")\n"
          ]
        },
        {
          "name": "stdout",
          "output_type": "stream",
          "text": [
            "Epoch 1/3\n",
            "13223/13223 [==============================] - 11s 832us/step - loss: 2.2161\n",
            "Epoch 2/3\n",
            "13223/13223 [==============================] - 12s 870us/step - loss: 2.0250\n",
            "Epoch 3/3\n",
            "13223/13223 [==============================] - 11s 848us/step - loss: 1.9795\n",
            "13223/13223 [==============================] - 8s 627us/step\n",
            "315/315 [==============================] - 0s 992us/step\n"
          ]
        },
        {
          "name": "stderr",
          "output_type": "stream",
          "text": [
            "/var/folders/59/0dhfqywn3jld8bd1k8dfjg640000gn/T/ipykernel_29659/2686421191.py:5: DeprecationWarning: Conversion of an array with ndim > 0 to a scalar is deprecated, and will error in future. Ensure you extract a single element from your array before performing this operation. (Deprecated NumPy 1.25.)\n",
            "  err += Err_func(float(predic_y[i]), float(y[i]), float(total))\n"
          ]
        },
        {
          "name": "stdout",
          "output_type": "stream",
          "text": [
            "500101018: train: 0.5148162207767365 , \u001b[34mval: 0.5110303802726187 \u001b[0m, avg_train: 0.3207075703971893 , avg_val: 0.38238833915559806\n",
            "495/495 [==============================] - 0s 361us/step\n"
          ]
        },
        {
          "name": "stderr",
          "output_type": "stream",
          "text": [
            "/var/folders/59/0dhfqywn3jld8bd1k8dfjg640000gn/T/ipykernel_29659/2769502317.py:72: DeprecationWarning: Conversion of an array with ndim > 0 to a scalar is deprecated, and will error in future. Ensure you extract a single element from your array before performing this operation. (Deprecated NumPy 1.25.)\n",
            "  predict_file.write(f\"{id},{int(pre_test[i])}\\n\")\n"
          ]
        },
        {
          "name": "stdout",
          "output_type": "stream",
          "text": [
            "Epoch 1/3\n",
            "10542/10542 [==============================] - 10s 925us/step - loss: 8.7081\n",
            "Epoch 2/3\n",
            "10542/10542 [==============================] - 9s 864us/step - loss: 7.7877\n",
            "Epoch 3/3\n",
            "10542/10542 [==============================] - 10s 978us/step - loss: 7.6366\n",
            "10542/10542 [==============================] - 5s 485us/step\n",
            "315/315 [==============================] - 0s 372us/step\n"
          ]
        },
        {
          "name": "stderr",
          "output_type": "stream",
          "text": [
            "/var/folders/59/0dhfqywn3jld8bd1k8dfjg640000gn/T/ipykernel_29659/2686421191.py:5: DeprecationWarning: Conversion of an array with ndim > 0 to a scalar is deprecated, and will error in future. Ensure you extract a single element from your array before performing this operation. (Deprecated NumPy 1.25.)\n",
            "  err += Err_func(float(predic_y[i]), float(y[i]), float(total))\n"
          ]
        },
        {
          "name": "stdout",
          "output_type": "stream",
          "text": [
            "500101019: train: 0.25679692497927414, \u001b[34mval: 0.5002052637672932 \u001b[0m, avg_train: 0.31644686070266165, avg_val: 0.39024280079637774\n",
            "495/495 [==============================] - 0s 351us/step\n"
          ]
        },
        {
          "name": "stderr",
          "output_type": "stream",
          "text": [
            "/var/folders/59/0dhfqywn3jld8bd1k8dfjg640000gn/T/ipykernel_29659/2769502317.py:72: DeprecationWarning: Conversion of an array with ndim > 0 to a scalar is deprecated, and will error in future. Ensure you extract a single element from your array before performing this operation. (Deprecated NumPy 1.25.)\n",
            "  predict_file.write(f\"{id},{int(pre_test[i])}\\n\")\n"
          ]
        },
        {
          "name": "stdout",
          "output_type": "stream",
          "text": [
            "Epoch 1/3\n",
            "24570/24570 [==============================] - 21s 833us/step - loss: 1.3461e-05\n",
            "Epoch 2/3\n",
            "24570/24570 [==============================] - 19s 779us/step - loss: 8.9081e-10\n",
            "Epoch 3/3\n",
            "24570/24570 [==============================] - 16s 659us/step - loss: 0.0000e+00\n",
            "24570/24570 [==============================] - 8s 313us/step\n",
            "315/315 [==============================] - 0s 288us/step\n"
          ]
        },
        {
          "name": "stderr",
          "output_type": "stream",
          "text": [
            "/var/folders/59/0dhfqywn3jld8bd1k8dfjg640000gn/T/ipykernel_29659/2686421191.py:5: DeprecationWarning: Conversion of an array with ndim > 0 to a scalar is deprecated, and will error in future. Ensure you extract a single element from your array before performing this operation. (Deprecated NumPy 1.25.)\n",
            "  err += Err_func(float(predic_y[i]), float(y[i]), float(total))\n"
          ]
        },
        {
          "name": "stdout",
          "output_type": "stream",
          "text": [
            "500101020: train: 5.587935447617791e-10, \u001b[34mval: 1.1356099608487754e-05\u001b[0m, avg_train: 0.2966689319436699 , avg_val: 0.36585333550282967\n",
            "495/495 [==============================] - 0s 283us/step\n"
          ]
        },
        {
          "name": "stderr",
          "output_type": "stream",
          "text": [
            "/var/folders/59/0dhfqywn3jld8bd1k8dfjg640000gn/T/ipykernel_29659/2769502317.py:72: DeprecationWarning: Conversion of an array with ndim > 0 to a scalar is deprecated, and will error in future. Ensure you extract a single element from your array before performing this operation. (Deprecated NumPy 1.25.)\n",
            "  predict_file.write(f\"{id},{int(pre_test[i])}\\n\")\n"
          ]
        },
        {
          "name": "stdout",
          "output_type": "stream",
          "text": [
            "Epoch 1/3\n",
            "17704/17704 [==============================] - 10s 577us/step - loss: 1.7968\n",
            "Epoch 2/3\n",
            "17704/17704 [==============================] - 10s 551us/step - loss: 1.6948\n",
            "Epoch 3/3\n",
            "17704/17704 [==============================] - 10s 553us/step - loss: 1.6715\n",
            "17704/17704 [==============================] - 5s 302us/step\n",
            "315/315 [==============================] - 0s 303us/step\n"
          ]
        },
        {
          "name": "stderr",
          "output_type": "stream",
          "text": [
            "/var/folders/59/0dhfqywn3jld8bd1k8dfjg640000gn/T/ipykernel_29659/2686421191.py:5: DeprecationWarning: Conversion of an array with ndim > 0 to a scalar is deprecated, and will error in future. Ensure you extract a single element from your array before performing this operation. (Deprecated NumPy 1.25.)\n",
            "  err += Err_func(float(predic_y[i]), float(y[i]), float(total))\n"
          ]
        },
        {
          "name": "stdout",
          "output_type": "stream",
          "text": [
            "500101021: train: 0.2574924834894775 , \u001b[34mval: 0.34795316225306877\u001b[0m, avg_train: 0.29436443497577625, avg_val: 0.3648003841351967 \n",
            "495/495 [==============================] - 0s 316us/step\n"
          ]
        },
        {
          "name": "stderr",
          "output_type": "stream",
          "text": [
            "/var/folders/59/0dhfqywn3jld8bd1k8dfjg640000gn/T/ipykernel_29659/2769502317.py:72: DeprecationWarning: Conversion of an array with ndim > 0 to a scalar is deprecated, and will error in future. Ensure you extract a single element from your array before performing this operation. (Deprecated NumPy 1.25.)\n",
            "  predict_file.write(f\"{id},{int(pre_test[i])}\\n\")\n"
          ]
        },
        {
          "name": "stdout",
          "output_type": "stream",
          "text": [
            "Epoch 1/3\n",
            "12637/12637 [==============================] - 7s 567us/step - loss: 138.9128\n",
            "Epoch 2/3\n",
            "12637/12637 [==============================] - 8s 617us/step - loss: 117.2892\n",
            "Epoch 3/3\n",
            "12637/12637 [==============================] - 7s 574us/step - loss: 112.3852\n",
            "12637/12637 [==============================] - 4s 282us/step\n",
            "315/315 [==============================] - 0s 278us/step\n"
          ]
        },
        {
          "name": "stderr",
          "output_type": "stream",
          "text": [
            "/var/folders/59/0dhfqywn3jld8bd1k8dfjg640000gn/T/ipykernel_29659/2686421191.py:5: DeprecationWarning: Conversion of an array with ndim > 0 to a scalar is deprecated, and will error in future. Ensure you extract a single element from your array before performing this operation. (Deprecated NumPy 1.25.)\n",
            "  err += Err_func(float(predic_y[i]), float(y[i]), float(total))\n"
          ]
        },
        {
          "name": "stdout",
          "output_type": "stream",
          "text": [
            "500101022: train: 0.1287614903719313 , \u001b[34mval: 0.25682140923259955\u001b[0m, avg_train: 0.2851642713866738 , avg_val: 0.3588015521961635 \n",
            "495/495 [==============================] - 0s 302us/step\n"
          ]
        },
        {
          "name": "stderr",
          "output_type": "stream",
          "text": [
            "/var/folders/59/0dhfqywn3jld8bd1k8dfjg640000gn/T/ipykernel_29659/2769502317.py:72: DeprecationWarning: Conversion of an array with ndim > 0 to a scalar is deprecated, and will error in future. Ensure you extract a single element from your array before performing this operation. (Deprecated NumPy 1.25.)\n",
            "  predict_file.write(f\"{id},{int(pre_test[i])}\\n\")\n"
          ]
        },
        {
          "name": "stdout",
          "output_type": "stream",
          "text": [
            "Epoch 1/3\n",
            "16696/16696 [==============================] - 9s 556us/step - loss: 18.6799\n",
            "Epoch 2/3\n",
            "16696/16696 [==============================] - 9s 530us/step - loss: 17.7538\n",
            "Epoch 3/3\n",
            "16696/16696 [==============================] - 9s 549us/step - loss: 17.5972\n",
            "16696/16696 [==============================] - 5s 290us/step\n",
            "315/315 [==============================] - 0s 290us/step\n"
          ]
        },
        {
          "name": "stderr",
          "output_type": "stream",
          "text": [
            "/var/folders/59/0dhfqywn3jld8bd1k8dfjg640000gn/T/ipykernel_29659/2686421191.py:5: DeprecationWarning: Conversion of an array with ndim > 0 to a scalar is deprecated, and will error in future. Ensure you extract a single element from your array before performing this operation. (Deprecated NumPy 1.25.)\n",
            "  err += Err_func(float(predic_y[i]), float(y[i]), float(total))\n"
          ]
        },
        {
          "name": "stdout",
          "output_type": "stream",
          "text": [
            "500101023: train: 0.19195091766843642, \u001b[34mval: 0.33321248889676175\u001b[0m, avg_train: 0.28025830540150337, avg_val: 0.35745475939093185\n",
            "495/495 [==============================] - 0s 289us/step\n"
          ]
        },
        {
          "name": "stderr",
          "output_type": "stream",
          "text": [
            "/var/folders/59/0dhfqywn3jld8bd1k8dfjg640000gn/T/ipykernel_29659/2769502317.py:72: DeprecationWarning: Conversion of an array with ndim > 0 to a scalar is deprecated, and will error in future. Ensure you extract a single element from your array before performing this operation. (Deprecated NumPy 1.25.)\n",
            "  predict_file.write(f\"{id},{int(pre_test[i])}\\n\")\n"
          ]
        },
        {
          "name": "stdout",
          "output_type": "stream",
          "text": [
            "Epoch 1/3\n",
            "15114/15114 [==============================] - 8s 548us/step - loss: 8.8047\n",
            "Epoch 2/3\n",
            "15114/15114 [==============================] - 8s 517us/step - loss: 7.6968\n",
            "Epoch 3/3\n",
            "15114/15114 [==============================] - 8s 534us/step - loss: 7.5238\n",
            "15114/15114 [==============================] - 5s 313us/step\n",
            "315/315 [==============================] - 0s 281us/step\n"
          ]
        },
        {
          "name": "stderr",
          "output_type": "stream",
          "text": [
            "/var/folders/59/0dhfqywn3jld8bd1k8dfjg640000gn/T/ipykernel_29659/2686421191.py:5: DeprecationWarning: Conversion of an array with ndim > 0 to a scalar is deprecated, and will error in future. Ensure you extract a single element from your array before performing this operation. (Deprecated NumPy 1.25.)\n",
            "  err += Err_func(float(predic_y[i]), float(y[i]), float(total))\n"
          ]
        },
        {
          "name": "stdout",
          "output_type": "stream",
          "text": [
            "500101024: train: 0.12154131273655056, \u001b[34mval: 0.20619663330983487\u001b[0m, avg_train: 0.2723224557682557 , avg_val: 0.349891853086877  \n",
            "495/495 [==============================] - 0s 284us/step\n"
          ]
        },
        {
          "name": "stderr",
          "output_type": "stream",
          "text": [
            "/var/folders/59/0dhfqywn3jld8bd1k8dfjg640000gn/T/ipykernel_29659/2769502317.py:72: DeprecationWarning: Conversion of an array with ndim > 0 to a scalar is deprecated, and will error in future. Ensure you extract a single element from your array before performing this operation. (Deprecated NumPy 1.25.)\n",
            "  predict_file.write(f\"{id},{int(pre_test[i])}\\n\")\n"
          ]
        },
        {
          "name": "stdout",
          "output_type": "stream",
          "text": [
            "Epoch 1/3\n",
            "14476/14476 [==============================] - 7s 506us/step - loss: 74.6704\n",
            "Epoch 2/3\n",
            "14476/14476 [==============================] - 7s 513us/step - loss: 56.8408\n",
            "Epoch 3/3\n",
            "14476/14476 [==============================] - 7s 490us/step - loss: 54.4450\n",
            "14476/14476 [==============================] - 4s 277us/step\n",
            "315/315 [==============================] - 0s 290us/step\n"
          ]
        },
        {
          "name": "stderr",
          "output_type": "stream",
          "text": [
            "/var/folders/59/0dhfqywn3jld8bd1k8dfjg640000gn/T/ipykernel_29659/2686421191.py:5: DeprecationWarning: Conversion of an array with ndim > 0 to a scalar is deprecated, and will error in future. Ensure you extract a single element from your array before performing this operation. (Deprecated NumPy 1.25.)\n",
            "  err += Err_func(float(predic_y[i]), float(y[i]), float(total))\n"
          ]
        },
        {
          "name": "stdout",
          "output_type": "stream",
          "text": [
            "500101025: train: 0.08903937734197291, \u001b[34mval: 0.17021667428654574\u001b[0m, avg_train: 0.2635946901289089 , avg_val: 0.34133589219162314\n",
            "495/495 [==============================] - 0s 299us/step\n"
          ]
        },
        {
          "name": "stderr",
          "output_type": "stream",
          "text": [
            "/var/folders/59/0dhfqywn3jld8bd1k8dfjg640000gn/T/ipykernel_29659/2769502317.py:72: DeprecationWarning: Conversion of an array with ndim > 0 to a scalar is deprecated, and will error in future. Ensure you extract a single element from your array before performing this operation. (Deprecated NumPy 1.25.)\n",
            "  predict_file.write(f\"{id},{int(pre_test[i])}\\n\")\n"
          ]
        },
        {
          "name": "stdout",
          "output_type": "stream",
          "text": [
            "Epoch 1/3\n",
            "14618/14618 [==============================] - 8s 511us/step - loss: 11.4670\n",
            "Epoch 2/3\n",
            "14618/14618 [==============================] - 8s 554us/step - loss: 10.7188\n",
            "Epoch 3/3\n",
            "14618/14618 [==============================] - 8s 542us/step - loss: 10.5969\n",
            "14618/14618 [==============================] - 4s 290us/step\n",
            "315/315 [==============================] - 0s 301us/step\n"
          ]
        },
        {
          "name": "stderr",
          "output_type": "stream",
          "text": [
            "/var/folders/59/0dhfqywn3jld8bd1k8dfjg640000gn/T/ipykernel_29659/2686421191.py:5: DeprecationWarning: Conversion of an array with ndim > 0 to a scalar is deprecated, and will error in future. Ensure you extract a single element from your array before performing this operation. (Deprecated NumPy 1.25.)\n",
            "  err += Err_func(float(predic_y[i]), float(y[i]), float(total))\n"
          ]
        },
        {
          "name": "stdout",
          "output_type": "stream",
          "text": [
            "500101026: train: 0.3256561837078479 , \u001b[34mval: 0.3732218837105706 \u001b[0m, avg_train: 0.26641566710976977, avg_val: 0.3427852554424844 \n",
            "495/495 [==============================] - 0s 291us/step\n"
          ]
        },
        {
          "name": "stderr",
          "output_type": "stream",
          "text": [
            "/var/folders/59/0dhfqywn3jld8bd1k8dfjg640000gn/T/ipykernel_29659/2769502317.py:72: DeprecationWarning: Conversion of an array with ndim > 0 to a scalar is deprecated, and will error in future. Ensure you extract a single element from your array before performing this operation. (Deprecated NumPy 1.25.)\n",
            "  predict_file.write(f\"{id},{int(pre_test[i])}\\n\")\n"
          ]
        },
        {
          "name": "stdout",
          "output_type": "stream",
          "text": [
            "Epoch 1/3\n",
            "11541/11541 [==============================] - 6s 539us/step - loss: 57.5567\n",
            "Epoch 2/3\n",
            "11541/11541 [==============================] - 6s 559us/step - loss: 50.4122\n",
            "Epoch 3/3\n",
            "11541/11541 [==============================] - 6s 554us/step - loss: 49.5036\n",
            "11541/11541 [==============================] - 3s 300us/step\n",
            "315/315 [==============================] - 0s 283us/step\n"
          ]
        },
        {
          "name": "stderr",
          "output_type": "stream",
          "text": [
            "/var/folders/59/0dhfqywn3jld8bd1k8dfjg640000gn/T/ipykernel_29659/2686421191.py:5: DeprecationWarning: Conversion of an array with ndim > 0 to a scalar is deprecated, and will error in future. Ensure you extract a single element from your array before performing this operation. (Deprecated NumPy 1.25.)\n",
            "  err += Err_func(float(predic_y[i]), float(y[i]), float(total))\n"
          ]
        },
        {
          "name": "stdout",
          "output_type": "stream",
          "text": [
            "500101027: train: 0.24991445631769954, \u001b[34mval: 0.3676573485233313 \u001b[0m, avg_train: 0.26569822316228847, avg_val: 0.34386665079382556\n",
            "495/495 [==============================] - 0s 288us/step\n"
          ]
        },
        {
          "name": "stderr",
          "output_type": "stream",
          "text": [
            "/var/folders/59/0dhfqywn3jld8bd1k8dfjg640000gn/T/ipykernel_29659/2769502317.py:72: DeprecationWarning: Conversion of an array with ndim > 0 to a scalar is deprecated, and will error in future. Ensure you extract a single element from your array before performing this operation. (Deprecated NumPy 1.25.)\n",
            "  predict_file.write(f\"{id},{int(pre_test[i])}\\n\")\n"
          ]
        },
        {
          "name": "stdout",
          "output_type": "stream",
          "text": [
            "Epoch 1/3\n",
            "11495/11495 [==============================] - 7s 569us/step - loss: 16.1467\n",
            "Epoch 2/3\n",
            "11495/11495 [==============================] - 6s 562us/step - loss: 15.0304\n",
            "Epoch 3/3\n",
            "11495/11495 [==============================] - 6s 527us/step - loss: 14.7117\n",
            "11495/11495 [==============================] - 3s 295us/step\n",
            "315/315 [==============================] - 0s 275us/step\n"
          ]
        },
        {
          "name": "stderr",
          "output_type": "stream",
          "text": [
            "/var/folders/59/0dhfqywn3jld8bd1k8dfjg640000gn/T/ipykernel_29659/2686421191.py:5: DeprecationWarning: Conversion of an array with ndim > 0 to a scalar is deprecated, and will error in future. Ensure you extract a single element from your array before performing this operation. (Deprecated NumPy 1.25.)\n",
            "  err += Err_func(float(predic_y[i]), float(y[i]), float(total))\n"
          ]
        },
        {
          "name": "stdout",
          "output_type": "stream",
          "text": [
            "500101028: train: 0.2826350342992484 , \u001b[34mval: 0.3072077273191028 \u001b[0m, avg_train: 0.2664039236263285 , avg_val: 0.3423391956490454 \n",
            "495/495 [==============================] - 0s 284us/step\n"
          ]
        },
        {
          "name": "stderr",
          "output_type": "stream",
          "text": [
            "/var/folders/59/0dhfqywn3jld8bd1k8dfjg640000gn/T/ipykernel_29659/2769502317.py:72: DeprecationWarning: Conversion of an array with ndim > 0 to a scalar is deprecated, and will error in future. Ensure you extract a single element from your array before performing this operation. (Deprecated NumPy 1.25.)\n",
            "  predict_file.write(f\"{id},{int(pre_test[i])}\\n\")\n"
          ]
        },
        {
          "name": "stdout",
          "output_type": "stream",
          "text": [
            "Epoch 1/3\n",
            "13167/13167 [==============================] - 6s 481us/step - loss: 6.2594\n",
            "Epoch 2/3\n",
            "13167/13167 [==============================] - 6s 472us/step - loss: 5.8075\n",
            "Epoch 3/3\n",
            "13167/13167 [==============================] - 10s 732us/step - loss: 5.6878\n",
            "13167/13167 [==============================] - 5s 406us/step\n",
            "315/315 [==============================] - 0s 410us/step\n"
          ]
        },
        {
          "name": "stderr",
          "output_type": "stream",
          "text": [
            "/var/folders/59/0dhfqywn3jld8bd1k8dfjg640000gn/T/ipykernel_29659/2686421191.py:5: DeprecationWarning: Conversion of an array with ndim > 0 to a scalar is deprecated, and will error in future. Ensure you extract a single element from your array before performing this operation. (Deprecated NumPy 1.25.)\n",
            "  err += Err_func(float(predic_y[i]), float(y[i]), float(total))\n"
          ]
        },
        {
          "name": "stdout",
          "output_type": "stream",
          "text": [
            "500101029: train: 0.2156166796484792 , \u001b[34mval: 0.3112253375494328 \u001b[0m, avg_train: 0.26437243386721454, avg_val: 0.3410946413250609 \n",
            "495/495 [==============================] - 0s 407us/step\n"
          ]
        },
        {
          "name": "stderr",
          "output_type": "stream",
          "text": [
            "/var/folders/59/0dhfqywn3jld8bd1k8dfjg640000gn/T/ipykernel_29659/2769502317.py:72: DeprecationWarning: Conversion of an array with ndim > 0 to a scalar is deprecated, and will error in future. Ensure you extract a single element from your array before performing this operation. (Deprecated NumPy 1.25.)\n",
            "  predict_file.write(f\"{id},{int(pre_test[i])}\\n\")\n"
          ]
        },
        {
          "name": "stdout",
          "output_type": "stream",
          "text": [
            "Epoch 1/3\n",
            "12782/12782 [==============================] - 9s 687us/step - loss: 21.9630\n",
            "Epoch 2/3\n",
            "12782/12782 [==============================] - 2332s 182ms/step - loss: 19.5342\n",
            "Epoch 3/3\n",
            "12782/12782 [==============================] - 12s 944us/step - loss: 19.2696\n",
            "12782/12782 [==============================] - 8s 593us/step\n",
            "315/315 [==============================] - 0s 440us/step\n"
          ]
        },
        {
          "name": "stderr",
          "output_type": "stream",
          "text": [
            "/var/folders/59/0dhfqywn3jld8bd1k8dfjg640000gn/T/ipykernel_29659/2686421191.py:5: DeprecationWarning: Conversion of an array with ndim > 0 to a scalar is deprecated, and will error in future. Ensure you extract a single element from your array before performing this operation. (Deprecated NumPy 1.25.)\n",
            "  err += Err_func(float(predic_y[i]), float(y[i]), float(total))\n"
          ]
        },
        {
          "name": "stdout",
          "output_type": "stream",
          "text": [
            "500101030: train: 0.15922726264160467, \u001b[34mval: 0.24650196642707137\u001b[0m, avg_train: 0.2603283888200757 , avg_val: 0.3374564615212921 \n",
            "495/495 [==============================] - 0s 421us/step\n"
          ]
        },
        {
          "name": "stderr",
          "output_type": "stream",
          "text": [
            "/var/folders/59/0dhfqywn3jld8bd1k8dfjg640000gn/T/ipykernel_29659/2769502317.py:72: DeprecationWarning: Conversion of an array with ndim > 0 to a scalar is deprecated, and will error in future. Ensure you extract a single element from your array before performing this operation. (Deprecated NumPy 1.25.)\n",
            "  predict_file.write(f\"{id},{int(pre_test[i])}\\n\")\n"
          ]
        },
        {
          "name": "stdout",
          "output_type": "stream",
          "text": [
            "Epoch 1/3\n",
            "10760/10760 [==============================] - 8s 729us/step - loss: 17.9134\n",
            "Epoch 2/3\n",
            "10760/10760 [==============================] - 8s 714us/step - loss: 15.8248\n",
            "Epoch 3/3\n",
            "10760/10760 [==============================] - 8s 701us/step - loss: 15.5505\n",
            "10760/10760 [==============================] - 5s 414us/step\n",
            "315/315 [==============================] - 0s 475us/step\n"
          ]
        },
        {
          "name": "stderr",
          "output_type": "stream",
          "text": [
            "/var/folders/59/0dhfqywn3jld8bd1k8dfjg640000gn/T/ipykernel_29659/2686421191.py:5: DeprecationWarning: Conversion of an array with ndim > 0 to a scalar is deprecated, and will error in future. Ensure you extract a single element from your array before performing this operation. (Deprecated NumPy 1.25.)\n",
            "  err += Err_func(float(predic_y[i]), float(y[i]), float(total))\n"
          ]
        },
        {
          "name": "stdout",
          "output_type": "stream",
          "text": [
            "500101031: train: 0.2978372407179731 , \u001b[34mval: 0.42098738813574615\u001b[0m, avg_train: 0.2617176055570348 , avg_val: 0.34055019954404964\n",
            "495/495 [==============================] - 0s 460us/step\n"
          ]
        },
        {
          "name": "stderr",
          "output_type": "stream",
          "text": [
            "/var/folders/59/0dhfqywn3jld8bd1k8dfjg640000gn/T/ipykernel_29659/2769502317.py:72: DeprecationWarning: Conversion of an array with ndim > 0 to a scalar is deprecated, and will error in future. Ensure you extract a single element from your array before performing this operation. (Deprecated NumPy 1.25.)\n",
            "  predict_file.write(f\"{id},{int(pre_test[i])}\\n\")\n"
          ]
        },
        {
          "name": "stdout",
          "output_type": "stream",
          "text": [
            "Epoch 1/3\n",
            "13443/13443 [==============================] - 10s 740us/step - loss: 31.5993\n",
            "Epoch 2/3\n",
            "13443/13443 [==============================] - 11s 823us/step - loss: 26.0684\n",
            "Epoch 3/3\n",
            "13443/13443 [==============================] - 10s 741us/step - loss: 25.7131\n",
            "13443/13443 [==============================] - 6s 446us/step\n",
            "315/315 [==============================] - 0s 588us/step\n"
          ]
        },
        {
          "name": "stderr",
          "output_type": "stream",
          "text": [
            "/var/folders/59/0dhfqywn3jld8bd1k8dfjg640000gn/T/ipykernel_29659/2686421191.py:5: DeprecationWarning: Conversion of an array with ndim > 0 to a scalar is deprecated, and will error in future. Ensure you extract a single element from your array before performing this operation. (Deprecated NumPy 1.25.)\n",
            "  err += Err_func(float(predic_y[i]), float(y[i]), float(total))\n"
          ]
        },
        {
          "name": "stdout",
          "output_type": "stream",
          "text": [
            "500101032: train: 0.12215715897058767, \u001b[34mval: 0.23996249376681827\u001b[0m, avg_train: 0.2567333038932332 , avg_val: 0.3369577814805771 \n",
            "495/495 [==============================] - 0s 441us/step\n"
          ]
        },
        {
          "name": "stderr",
          "output_type": "stream",
          "text": [
            "/var/folders/59/0dhfqywn3jld8bd1k8dfjg640000gn/T/ipykernel_29659/2769502317.py:72: DeprecationWarning: Conversion of an array with ndim > 0 to a scalar is deprecated, and will error in future. Ensure you extract a single element from your array before performing this operation. (Deprecated NumPy 1.25.)\n",
            "  predict_file.write(f\"{id},{int(pre_test[i])}\\n\")\n"
          ]
        },
        {
          "name": "stdout",
          "output_type": "stream",
          "text": [
            "Epoch 1/3\n",
            "12070/12070 [==============================] - 12s 935us/step - loss: 22.2158\n",
            "Epoch 2/3\n",
            "12070/12070 [==============================] - 9s 780us/step - loss: 19.4486\n",
            "Epoch 3/3\n",
            "12070/12070 [==============================] - 12s 1ms/step - loss: 19.1420\n",
            "12070/12070 [==============================] - 6s 459us/step\n",
            "315/315 [==============================] - 0s 531us/step\n"
          ]
        },
        {
          "name": "stderr",
          "output_type": "stream",
          "text": [
            "/var/folders/59/0dhfqywn3jld8bd1k8dfjg640000gn/T/ipykernel_29659/2686421191.py:5: DeprecationWarning: Conversion of an array with ndim > 0 to a scalar is deprecated, and will error in future. Ensure you extract a single element from your array before performing this operation. (Deprecated NumPy 1.25.)\n",
            "  err += Err_func(float(predic_y[i]), float(y[i]), float(total))\n"
          ]
        },
        {
          "name": "stdout",
          "output_type": "stream",
          "text": [
            "500101033: train: 0.11602403745098513, \u001b[34mval: 0.22640333014679723\u001b[0m, avg_train: 0.2518812602228108 , avg_val: 0.33314555902079157\n",
            "495/495 [==============================] - 0s 453us/step\n"
          ]
        },
        {
          "name": "stderr",
          "output_type": "stream",
          "text": [
            "/var/folders/59/0dhfqywn3jld8bd1k8dfjg640000gn/T/ipykernel_29659/2769502317.py:72: DeprecationWarning: Conversion of an array with ndim > 0 to a scalar is deprecated, and will error in future. Ensure you extract a single element from your array before performing this operation. (Deprecated NumPy 1.25.)\n",
            "  predict_file.write(f\"{id},{int(pre_test[i])}\\n\")\n"
          ]
        },
        {
          "name": "stdout",
          "output_type": "stream",
          "text": [
            "Epoch 1/3\n",
            "16574/16574 [==============================] - 13s 785us/step - loss: 4.2149\n",
            "Epoch 2/3\n",
            "16574/16574 [==============================] - 17s 996us/step - loss: 3.5148\n",
            "Epoch 3/3\n",
            "16574/16574 [==============================] - 23s 1ms/step - loss: 3.4072\n",
            "16574/16574 [==============================] - 10s 618us/step\n",
            "315/315 [==============================] - 0s 443us/step\n"
          ]
        },
        {
          "name": "stderr",
          "output_type": "stream",
          "text": [
            "/var/folders/59/0dhfqywn3jld8bd1k8dfjg640000gn/T/ipykernel_29659/2686421191.py:5: DeprecationWarning: Conversion of an array with ndim > 0 to a scalar is deprecated, and will error in future. Ensure you extract a single element from your array before performing this operation. (Deprecated NumPy 1.25.)\n",
            "  err += Err_func(float(predic_y[i]), float(y[i]), float(total))\n"
          ]
        },
        {
          "name": "stdout",
          "output_type": "stream",
          "text": [
            "500101034: train: 0.13882217929735452, \u001b[34mval: 0.20532628307102568\u001b[0m, avg_train: 0.24811262419196226, avg_val: 0.3288849164891327 \n",
            "495/495 [==============================] - 0s 427us/step\n"
          ]
        },
        {
          "name": "stderr",
          "output_type": "stream",
          "text": [
            "/var/folders/59/0dhfqywn3jld8bd1k8dfjg640000gn/T/ipykernel_29659/2769502317.py:72: DeprecationWarning: Conversion of an array with ndim > 0 to a scalar is deprecated, and will error in future. Ensure you extract a single element from your array before performing this operation. (Deprecated NumPy 1.25.)\n",
            "  predict_file.write(f\"{id},{int(pre_test[i])}\\n\")\n"
          ]
        },
        {
          "name": "stdout",
          "output_type": "stream",
          "text": [
            "Epoch 1/3\n",
            "13706/13706 [==============================] - 17s 1ms/step - loss: 8.1584\n",
            "Epoch 2/3\n",
            "13706/13706 [==============================] - 18s 1ms/step - loss: 7.0054\n",
            "Epoch 3/3\n",
            "13706/13706 [==============================] - 16s 1ms/step - loss: 6.8605\n",
            "13706/13706 [==============================] - 8s 605us/step\n",
            "315/315 [==============================] - 0s 472us/step\n"
          ]
        },
        {
          "name": "stderr",
          "output_type": "stream",
          "text": [
            "/var/folders/59/0dhfqywn3jld8bd1k8dfjg640000gn/T/ipykernel_29659/2686421191.py:5: DeprecationWarning: Conversion of an array with ndim > 0 to a scalar is deprecated, and will error in future. Ensure you extract a single element from your array before performing this operation. (Deprecated NumPy 1.25.)\n",
            "  err += Err_func(float(predic_y[i]), float(y[i]), float(total))\n"
          ]
        },
        {
          "name": "stdout",
          "output_type": "stream",
          "text": [
            "500101035: train: 0.14142871714979238, \u001b[34mval: 0.22148459786268918\u001b[0m, avg_train: 0.2446712078357632 , avg_val: 0.32542039008182805\n",
            "495/495 [==============================] - 0s 473us/step\n"
          ]
        },
        {
          "name": "stderr",
          "output_type": "stream",
          "text": [
            "/var/folders/59/0dhfqywn3jld8bd1k8dfjg640000gn/T/ipykernel_29659/2769502317.py:72: DeprecationWarning: Conversion of an array with ndim > 0 to a scalar is deprecated, and will error in future. Ensure you extract a single element from your array before performing this operation. (Deprecated NumPy 1.25.)\n",
            "  predict_file.write(f\"{id},{int(pre_test[i])}\\n\")\n"
          ]
        },
        {
          "name": "stdout",
          "output_type": "stream",
          "text": [
            "Epoch 1/3\n",
            "17052/17052 [==============================] - 18s 1ms/step - loss: 5.1121\n",
            "Epoch 2/3\n",
            "17052/17052 [==============================] - 20s 1ms/step - loss: 4.3664\n",
            "Epoch 3/3\n",
            "17052/17052 [==============================] - 19s 1ms/step - loss: 4.2943\n",
            "17052/17052 [==============================] - 11s 612us/step\n",
            "315/315 [==============================] - 0s 809us/step\n"
          ]
        },
        {
          "name": "stderr",
          "output_type": "stream",
          "text": [
            "/var/folders/59/0dhfqywn3jld8bd1k8dfjg640000gn/T/ipykernel_29659/2686421191.py:5: DeprecationWarning: Conversion of an array with ndim > 0 to a scalar is deprecated, and will error in future. Ensure you extract a single element from your array before performing this operation. (Deprecated NumPy 1.25.)\n",
            "  err += Err_func(float(predic_y[i]), float(y[i]), float(total))\n"
          ]
        },
        {
          "name": "stdout",
          "output_type": "stream",
          "text": [
            "500101036: train: 0.12426689060270348, \u001b[34mval: 0.2870828402781094 \u001b[0m, avg_train: 0.24090857292223009, avg_val: 0.3242223416504619 \n",
            "495/495 [==============================] - 1s 2ms/step\n"
          ]
        },
        {
          "name": "stderr",
          "output_type": "stream",
          "text": [
            "/var/folders/59/0dhfqywn3jld8bd1k8dfjg640000gn/T/ipykernel_29659/2769502317.py:72: DeprecationWarning: Conversion of an array with ndim > 0 to a scalar is deprecated, and will error in future. Ensure you extract a single element from your array before performing this operation. (Deprecated NumPy 1.25.)\n",
            "  predict_file.write(f\"{id},{int(pre_test[i])}\\n\")\n"
          ]
        },
        {
          "name": "stdout",
          "output_type": "stream",
          "text": [
            "Epoch 1/3\n",
            "12368/12368 [==============================] - 15s 1ms/step - loss: 12.0960\n",
            "Epoch 2/3\n",
            "12368/12368 [==============================] - 17s 1ms/step - loss: 10.9885\n",
            "Epoch 3/3\n",
            "12368/12368 [==============================] - 14s 1ms/step - loss: 10.7968\n",
            "12368/12368 [==============================] - 7s 553us/step\n",
            "315/315 [==============================] - 0s 434us/step\n"
          ]
        },
        {
          "name": "stderr",
          "output_type": "stream",
          "text": [
            "/var/folders/59/0dhfqywn3jld8bd1k8dfjg640000gn/T/ipykernel_29659/2686421191.py:5: DeprecationWarning: Conversion of an array with ndim > 0 to a scalar is deprecated, and will error in future. Ensure you extract a single element from your array before performing this operation. (Deprecated NumPy 1.25.)\n",
            "  err += Err_func(float(predic_y[i]), float(y[i]), float(total))\n"
          ]
        },
        {
          "name": "stdout",
          "output_type": "stream",
          "text": [
            "500101037: train: 0.2331692227596451 , \u001b[34mval: 0.31080799807965936\u001b[0m, avg_train: 0.2406740471597275 , avg_val: 0.32381584639074057\n",
            "495/495 [==============================] - 0s 586us/step\n"
          ]
        },
        {
          "name": "stderr",
          "output_type": "stream",
          "text": [
            "/var/folders/59/0dhfqywn3jld8bd1k8dfjg640000gn/T/ipykernel_29659/2769502317.py:72: DeprecationWarning: Conversion of an array with ndim > 0 to a scalar is deprecated, and will error in future. Ensure you extract a single element from your array before performing this operation. (Deprecated NumPy 1.25.)\n",
            "  predict_file.write(f\"{id},{int(pre_test[i])}\\n\")\n"
          ]
        },
        {
          "name": "stdout",
          "output_type": "stream",
          "text": [
            "Epoch 1/3\n",
            "17566/17566 [==============================] - 19s 1ms/step - loss: 13.8048\n",
            "Epoch 2/3\n",
            "17566/17566 [==============================] - 19s 1ms/step - loss: 13.0035\n",
            "Epoch 3/3\n",
            "17566/17566 [==============================] - 18s 1ms/step - loss: 12.8116\n",
            "17566/17566 [==============================] - 12s 697us/step\n",
            "315/315 [==============================] - 0s 325us/step\n"
          ]
        },
        {
          "name": "stderr",
          "output_type": "stream",
          "text": [
            "/var/folders/59/0dhfqywn3jld8bd1k8dfjg640000gn/T/ipykernel_29659/2686421191.py:5: DeprecationWarning: Conversion of an array with ndim > 0 to a scalar is deprecated, and will error in future. Ensure you extract a single element from your array before performing this operation. (Deprecated NumPy 1.25.)\n",
            "  err += Err_func(float(predic_y[i]), float(y[i]), float(total))\n"
          ]
        },
        {
          "name": "stdout",
          "output_type": "stream",
          "text": [
            "500101038: train: 0.1585670573103841 , \u001b[34mval: 0.2324475323778219 \u001b[0m, avg_train: 0.23825913569357032, avg_val: 0.32112854303741944\n",
            "495/495 [==============================] - 0s 354us/step\n"
          ]
        },
        {
          "name": "stderr",
          "output_type": "stream",
          "text": [
            "/var/folders/59/0dhfqywn3jld8bd1k8dfjg640000gn/T/ipykernel_29659/2769502317.py:72: DeprecationWarning: Conversion of an array with ndim > 0 to a scalar is deprecated, and will error in future. Ensure you extract a single element from your array before performing this operation. (Deprecated NumPy 1.25.)\n",
            "  predict_file.write(f\"{id},{int(pre_test[i])}\\n\")\n"
          ]
        },
        {
          "name": "stdout",
          "output_type": "stream",
          "text": [
            "Epoch 1/3\n",
            "12584/12584 [==============================] - 11s 879us/step - loss: 29.1527\n",
            "Epoch 2/3\n",
            "12584/12584 [==============================] - 9s 713us/step - loss: 26.6658\n",
            "Epoch 3/3\n",
            "12584/12584 [==============================] - 9s 722us/step - loss: 26.0482\n",
            "12584/12584 [==============================] - 6s 499us/step\n",
            "315/315 [==============================] - 0s 303us/step\n"
          ]
        },
        {
          "name": "stderr",
          "output_type": "stream",
          "text": [
            "/var/folders/59/0dhfqywn3jld8bd1k8dfjg640000gn/T/ipykernel_29659/2686421191.py:5: DeprecationWarning: Conversion of an array with ndim > 0 to a scalar is deprecated, and will error in future. Ensure you extract a single element from your array before performing this operation. (Deprecated NumPy 1.25.)\n",
            "  err += Err_func(float(predic_y[i]), float(y[i]), float(total))\n"
          ]
        },
        {
          "name": "stdout",
          "output_type": "stream",
          "text": [
            "500101039: train: 0.24757010783130323, \u001b[34mval: 0.42175682874146586\u001b[0m, avg_train: 0.2385251634689341 , avg_val: 0.3240036369146779 \n",
            "495/495 [==============================] - 0s 331us/step\n"
          ]
        },
        {
          "name": "stderr",
          "output_type": "stream",
          "text": [
            "/var/folders/59/0dhfqywn3jld8bd1k8dfjg640000gn/T/ipykernel_29659/2769502317.py:72: DeprecationWarning: Conversion of an array with ndim > 0 to a scalar is deprecated, and will error in future. Ensure you extract a single element from your array before performing this operation. (Deprecated NumPy 1.25.)\n",
            "  predict_file.write(f\"{id},{int(pre_test[i])}\\n\")\n"
          ]
        },
        {
          "name": "stdout",
          "output_type": "stream",
          "text": [
            "Epoch 1/3\n",
            "15865/15865 [==============================] - 11s 653us/step - loss: 30.9977\n",
            "Epoch 2/3\n",
            "15865/15865 [==============================] - 10s 637us/step - loss: 30.1676\n",
            "Epoch 3/3\n",
            "15865/15865 [==============================] - 10s 622us/step - loss: 29.9934\n",
            "15865/15865 [==============================] - 6s 358us/step\n",
            "315/315 [==============================] - 0s 322us/step\n"
          ]
        },
        {
          "name": "stderr",
          "output_type": "stream",
          "text": [
            "/var/folders/59/0dhfqywn3jld8bd1k8dfjg640000gn/T/ipykernel_29659/2686421191.py:5: DeprecationWarning: Conversion of an array with ndim > 0 to a scalar is deprecated, and will error in future. Ensure you extract a single element from your array before performing this operation. (Deprecated NumPy 1.25.)\n",
            "  err += Err_func(float(predic_y[i]), float(y[i]), float(total))\n"
          ]
        },
        {
          "name": "stdout",
          "output_type": "stream",
          "text": [
            "500101040: train: 0.3170549083645305 , \u001b[34mval: 0.21563252864330548\u001b[0m, avg_train: 0.24070654527158958, avg_val: 0.32099332835158423\n",
            "495/495 [==============================] - 0s 295us/step\n"
          ]
        },
        {
          "name": "stderr",
          "output_type": "stream",
          "text": [
            "/var/folders/59/0dhfqywn3jld8bd1k8dfjg640000gn/T/ipykernel_29659/2769502317.py:72: DeprecationWarning: Conversion of an array with ndim > 0 to a scalar is deprecated, and will error in future. Ensure you extract a single element from your array before performing this operation. (Deprecated NumPy 1.25.)\n",
            "  predict_file.write(f\"{id},{int(pre_test[i])}\\n\")\n"
          ]
        },
        {
          "name": "stdout",
          "output_type": "stream",
          "text": [
            "Epoch 1/3\n",
            "14301/14301 [==============================] - 10s 657us/step - loss: 47.8199\n",
            "Epoch 2/3\n",
            "14301/14301 [==============================] - 9s 639us/step - loss: 45.7405\n",
            "Epoch 3/3\n",
            "14301/14301 [==============================] - 11s 754us/step - loss: 45.3167\n",
            "14301/14301 [==============================] - 5s 373us/step\n",
            "315/315 [==============================] - 0s 334us/step\n"
          ]
        },
        {
          "name": "stderr",
          "output_type": "stream",
          "text": [
            "/var/folders/59/0dhfqywn3jld8bd1k8dfjg640000gn/T/ipykernel_29659/2686421191.py:5: DeprecationWarning: Conversion of an array with ndim > 0 to a scalar is deprecated, and will error in future. Ensure you extract a single element from your array before performing this operation. (Deprecated NumPy 1.25.)\n",
            "  err += Err_func(float(predic_y[i]), float(y[i]), float(total))\n"
          ]
        },
        {
          "name": "stdout",
          "output_type": "stream",
          "text": [
            "500101041: train: 0.2147398892120462 , \u001b[34mval: 0.24183687092411793\u001b[0m, avg_train: 0.24000474375646677, avg_val: 0.3188539646373284 \n",
            "495/495 [==============================] - 0s 363us/step\n"
          ]
        },
        {
          "name": "stderr",
          "output_type": "stream",
          "text": [
            "/var/folders/59/0dhfqywn3jld8bd1k8dfjg640000gn/T/ipykernel_29659/2769502317.py:72: DeprecationWarning: Conversion of an array with ndim > 0 to a scalar is deprecated, and will error in future. Ensure you extract a single element from your array before performing this operation. (Deprecated NumPy 1.25.)\n",
            "  predict_file.write(f\"{id},{int(pre_test[i])}\\n\")\n"
          ]
        },
        {
          "name": "stdout",
          "output_type": "stream",
          "text": [
            "Epoch 1/3\n",
            "14516/14516 [==============================] - 9s 630us/step - loss: 5.1771\n",
            "Epoch 2/3\n",
            "14516/14516 [==============================] - 9s 634us/step - loss: 4.5887\n",
            "Epoch 3/3\n",
            "14516/14516 [==============================] - 9s 633us/step - loss: 4.4995\n",
            "14516/14516 [==============================] - 4s 275us/step\n",
            "315/315 [==============================] - 0s 277us/step\n"
          ]
        },
        {
          "name": "stderr",
          "output_type": "stream",
          "text": [
            "/var/folders/59/0dhfqywn3jld8bd1k8dfjg640000gn/T/ipykernel_29659/2686421191.py:5: DeprecationWarning: Conversion of an array with ndim > 0 to a scalar is deprecated, and will error in future. Ensure you extract a single element from your array before performing this operation. (Deprecated NumPy 1.25.)\n",
            "  err += Err_func(float(predic_y[i]), float(y[i]), float(total))\n"
          ]
        },
        {
          "name": "stdout",
          "output_type": "stream",
          "text": [
            "500101042: train: 0.19287320098572638, \u001b[34mval: 0.23568749774377534\u001b[0m, avg_train: 0.23876443999934202, avg_val: 0.31666537340328754\n",
            "495/495 [==============================] - 0s 275us/step\n"
          ]
        },
        {
          "name": "stderr",
          "output_type": "stream",
          "text": [
            "/var/folders/59/0dhfqywn3jld8bd1k8dfjg640000gn/T/ipykernel_29659/2769502317.py:72: DeprecationWarning: Conversion of an array with ndim > 0 to a scalar is deprecated, and will error in future. Ensure you extract a single element from your array before performing this operation. (Deprecated NumPy 1.25.)\n",
            "  predict_file.write(f\"{id},{int(pre_test[i])}\\n\")\n"
          ]
        },
        {
          "name": "stdout",
          "output_type": "stream",
          "text": [
            "Epoch 1/3\n",
            "10303/10303 [==============================] - 5s 518us/step - loss: 22.2308\n",
            "Epoch 2/3\n",
            "10303/10303 [==============================] - 6s 540us/step - loss: 20.2552\n",
            "Epoch 3/3\n",
            "10303/10303 [==============================] - 5s 517us/step - loss: 19.9789\n",
            "10303/10303 [==============================] - 3s 297us/step\n",
            "315/315 [==============================] - 0s 311us/step\n"
          ]
        },
        {
          "name": "stderr",
          "output_type": "stream",
          "text": [
            "/var/folders/59/0dhfqywn3jld8bd1k8dfjg640000gn/T/ipykernel_29659/2686421191.py:5: DeprecationWarning: Conversion of an array with ndim > 0 to a scalar is deprecated, and will error in future. Ensure you extract a single element from your array before performing this operation. (Deprecated NumPy 1.25.)\n",
            "  err += Err_func(float(predic_y[i]), float(y[i]), float(total))\n"
          ]
        },
        {
          "name": "stdout",
          "output_type": "stream",
          "text": [
            "500101091: train: 0.24420341211679322, \u001b[34mval: 0.27441218424007596\u001b[0m, avg_train: 0.23890390082286642, avg_val: 0.3155819582965385 \n",
            "495/495 [==============================] - 0s 304us/step\n"
          ]
        },
        {
          "name": "stderr",
          "output_type": "stream",
          "text": [
            "/var/folders/59/0dhfqywn3jld8bd1k8dfjg640000gn/T/ipykernel_29659/2769502317.py:72: DeprecationWarning: Conversion of an array with ndim > 0 to a scalar is deprecated, and will error in future. Ensure you extract a single element from your array before performing this operation. (Deprecated NumPy 1.25.)\n",
            "  predict_file.write(f\"{id},{int(pre_test[i])}\\n\")\n"
          ]
        },
        {
          "name": "stdout",
          "output_type": "stream",
          "text": [
            "Epoch 1/3\n",
            "10647/10647 [==============================] - 6s 540us/step - loss: 5.5420\n",
            "Epoch 2/3\n",
            "10647/10647 [==============================] - 6s 545us/step - loss: 4.9533\n",
            "Epoch 3/3\n",
            "10647/10647 [==============================] - 6s 529us/step - loss: 4.8767\n",
            "10647/10647 [==============================] - 3s 289us/step\n",
            "315/315 [==============================] - 0s 301us/step\n"
          ]
        },
        {
          "name": "stderr",
          "output_type": "stream",
          "text": [
            "/var/folders/59/0dhfqywn3jld8bd1k8dfjg640000gn/T/ipykernel_29659/2686421191.py:5: DeprecationWarning: Conversion of an array with ndim > 0 to a scalar is deprecated, and will error in future. Ensure you extract a single element from your array before performing this operation. (Deprecated NumPy 1.25.)\n",
            "  err += Err_func(float(predic_y[i]), float(y[i]), float(total))\n"
          ]
        },
        {
          "name": "stdout",
          "output_type": "stream",
          "text": [
            "500101092: train: 0.2445089369921684 , \u001b[34mval: 0.3334763320945083 \u001b[0m, avg_train: 0.23904402672709896, avg_val: 0.31602931764148773\n",
            "495/495 [==============================] - 0s 282us/step\n"
          ]
        },
        {
          "name": "stderr",
          "output_type": "stream",
          "text": [
            "/var/folders/59/0dhfqywn3jld8bd1k8dfjg640000gn/T/ipykernel_29659/2769502317.py:72: DeprecationWarning: Conversion of an array with ndim > 0 to a scalar is deprecated, and will error in future. Ensure you extract a single element from your array before performing this operation. (Deprecated NumPy 1.25.)\n",
            "  predict_file.write(f\"{id},{int(pre_test[i])}\\n\")\n"
          ]
        },
        {
          "name": "stdout",
          "output_type": "stream",
          "text": [
            "Epoch 1/3\n",
            "15360/15360 [==============================] - 8s 532us/step - loss: 5.9632\n",
            "Epoch 2/3\n",
            "15360/15360 [==============================] - 8s 529us/step - loss: 5.6919\n",
            "Epoch 3/3\n",
            "15360/15360 [==============================] - 8s 512us/step - loss: 5.6446\n",
            "15360/15360 [==============================] - 4s 282us/step\n",
            "315/315 [==============================] - 0s 287us/step\n"
          ]
        },
        {
          "name": "stderr",
          "output_type": "stream",
          "text": [
            "/var/folders/59/0dhfqywn3jld8bd1k8dfjg640000gn/T/ipykernel_29659/2686421191.py:5: DeprecationWarning: Conversion of an array with ndim > 0 to a scalar is deprecated, and will error in future. Ensure you extract a single element from your array before performing this operation. (Deprecated NumPy 1.25.)\n",
            "  err += Err_func(float(predic_y[i]), float(y[i]), float(total))\n"
          ]
        },
        {
          "name": "stdout",
          "output_type": "stream",
          "text": [
            "500101093: train: 0.22060273449857137, \u001b[34mval: 0.2889977315715525 \u001b[0m, avg_train: 0.23859423911176902, avg_val: 0.3153700106641722 \n",
            "495/495 [==============================] - 0s 289us/step\n"
          ]
        },
        {
          "name": "stderr",
          "output_type": "stream",
          "text": [
            "/var/folders/59/0dhfqywn3jld8bd1k8dfjg640000gn/T/ipykernel_29659/2769502317.py:72: DeprecationWarning: Conversion of an array with ndim > 0 to a scalar is deprecated, and will error in future. Ensure you extract a single element from your array before performing this operation. (Deprecated NumPy 1.25.)\n",
            "  predict_file.write(f\"{id},{int(pre_test[i])}\\n\")\n"
          ]
        },
        {
          "name": "stdout",
          "output_type": "stream",
          "text": [
            "Epoch 1/3\n",
            "10694/10694 [==============================] - 6s 522us/step - loss: 12.5009\n",
            "Epoch 2/3\n",
            "10694/10694 [==============================] - 5s 509us/step - loss: 10.5310\n",
            "Epoch 3/3\n",
            "10694/10694 [==============================] - 5s 500us/step - loss: 10.2264\n",
            "10694/10694 [==============================] - 3s 302us/step\n",
            "315/315 [==============================] - 0s 285us/step\n"
          ]
        },
        {
          "name": "stderr",
          "output_type": "stream",
          "text": [
            "/var/folders/59/0dhfqywn3jld8bd1k8dfjg640000gn/T/ipykernel_29659/2686421191.py:5: DeprecationWarning: Conversion of an array with ndim > 0 to a scalar is deprecated, and will error in future. Ensure you extract a single element from your array before performing this operation. (Deprecated NumPy 1.25.)\n",
            "  err += Err_func(float(predic_y[i]), float(y[i]), float(total))\n"
          ]
        },
        {
          "name": "stdout",
          "output_type": "stream",
          "text": [
            "500101094: train: 0.20427064666568548, \u001b[34mval: 0.2937552529204165 \u001b[0m, avg_train: 0.2377770107201956 , avg_val: 0.3148553735750352 \n",
            "495/495 [==============================] - 0s 291us/step\n"
          ]
        },
        {
          "name": "stderr",
          "output_type": "stream",
          "text": [
            "/var/folders/59/0dhfqywn3jld8bd1k8dfjg640000gn/T/ipykernel_29659/2769502317.py:72: DeprecationWarning: Conversion of an array with ndim > 0 to a scalar is deprecated, and will error in future. Ensure you extract a single element from your array before performing this operation. (Deprecated NumPy 1.25.)\n",
            "  predict_file.write(f\"{id},{int(pre_test[i])}\\n\")\n"
          ]
        },
        {
          "name": "stdout",
          "output_type": "stream",
          "text": [
            "Epoch 1/3\n",
            "10169/10169 [==============================] - 6s 543us/step - loss: 63.6145\n",
            "Epoch 2/3\n",
            "10169/10169 [==============================] - 5s 540us/step - loss: 56.2547\n",
            "Epoch 3/3\n",
            "10169/10169 [==============================] - 5s 520us/step - loss: 55.1021\n",
            "10169/10169 [==============================] - 3s 280us/step\n",
            "315/315 [==============================] - 0s 329us/step\n"
          ]
        },
        {
          "name": "stderr",
          "output_type": "stream",
          "text": [
            "/var/folders/59/0dhfqywn3jld8bd1k8dfjg640000gn/T/ipykernel_29659/2686421191.py:5: DeprecationWarning: Conversion of an array with ndim > 0 to a scalar is deprecated, and will error in future. Ensure you extract a single element from your array before performing this operation. (Deprecated NumPy 1.25.)\n",
            "  err += Err_func(float(predic_y[i]), float(y[i]), float(total))\n"
          ]
        },
        {
          "name": "stdout",
          "output_type": "stream",
          "text": [
            "500101114: train: 0.28665222493132797, \u001b[34mval: 0.33473768678702326\u001b[0m, avg_train: 0.23891364360882664, avg_val: 0.3153177529520581 \n",
            "495/495 [==============================] - 0s 298us/step\n"
          ]
        },
        {
          "name": "stderr",
          "output_type": "stream",
          "text": [
            "/var/folders/59/0dhfqywn3jld8bd1k8dfjg640000gn/T/ipykernel_29659/2769502317.py:72: DeprecationWarning: Conversion of an array with ndim > 0 to a scalar is deprecated, and will error in future. Ensure you extract a single element from your array before performing this operation. (Deprecated NumPy 1.25.)\n",
            "  predict_file.write(f\"{id},{int(pre_test[i])}\\n\")\n"
          ]
        },
        {
          "name": "stdout",
          "output_type": "stream",
          "text": [
            "Epoch 1/3\n",
            "10389/10389 [==============================] - 5s 513us/step - loss: 64.4848\n",
            "Epoch 2/3\n",
            "10389/10389 [==============================] - 6s 534us/step - loss: 53.4752\n",
            "Epoch 3/3\n",
            "10389/10389 [==============================] - 6s 529us/step - loss: 52.3221\n",
            "10389/10389 [==============================] - 3s 286us/step\n",
            "315/315 [==============================] - 0s 284us/step\n"
          ]
        },
        {
          "name": "stderr",
          "output_type": "stream",
          "text": [
            "/var/folders/59/0dhfqywn3jld8bd1k8dfjg640000gn/T/ipykernel_29659/2686421191.py:5: DeprecationWarning: Conversion of an array with ndim > 0 to a scalar is deprecated, and will error in future. Ensure you extract a single element from your array before performing this operation. (Deprecated NumPy 1.25.)\n",
            "  err += Err_func(float(predic_y[i]), float(y[i]), float(total))\n"
          ]
        },
        {
          "name": "stdout",
          "output_type": "stream",
          "text": [
            "500101115: train: 0.18063770759331746, \u001b[34mval: 0.3018855218138676 \u001b[0m, avg_train: 0.23758919051756508, avg_val: 0.3150124749716447 \n",
            "495/495 [==============================] - 0s 320us/step\n"
          ]
        },
        {
          "name": "stderr",
          "output_type": "stream",
          "text": [
            "/var/folders/59/0dhfqywn3jld8bd1k8dfjg640000gn/T/ipykernel_29659/2769502317.py:72: DeprecationWarning: Conversion of an array with ndim > 0 to a scalar is deprecated, and will error in future. Ensure you extract a single element from your array before performing this operation. (Deprecated NumPy 1.25.)\n",
            "  predict_file.write(f\"{id},{int(pre_test[i])}\\n\")\n"
          ]
        },
        {
          "name": "stdout",
          "output_type": "stream",
          "text": [
            "Epoch 1/3\n",
            "12196/12196 [==============================] - 6s 514us/step - loss: 13.8981\n",
            "Epoch 2/3\n",
            "12196/12196 [==============================] - 6s 516us/step - loss: 10.9821\n",
            "Epoch 3/3\n",
            "12196/12196 [==============================] - 6s 519us/step - loss: 10.6281\n",
            "12196/12196 [==============================] - 4s 295us/step\n",
            "315/315 [==============================] - 0s 302us/step\n"
          ]
        },
        {
          "name": "stderr",
          "output_type": "stream",
          "text": [
            "/var/folders/59/0dhfqywn3jld8bd1k8dfjg640000gn/T/ipykernel_29659/2686421191.py:5: DeprecationWarning: Conversion of an array with ndim > 0 to a scalar is deprecated, and will error in future. Ensure you extract a single element from your array before performing this operation. (Deprecated NumPy 1.25.)\n",
            "  err += Err_func(float(predic_y[i]), float(y[i]), float(total))\n"
          ]
        },
        {
          "name": "stdout",
          "output_type": "stream",
          "text": [
            "500101123: train: 0.1467186212319141 , \u001b[34mval: 0.23061978647937195\u001b[0m, avg_train: 0.2355698445334395 , avg_val: 0.3131370818940386 \n",
            "495/495 [==============================] - 0s 302us/step\n"
          ]
        },
        {
          "name": "stderr",
          "output_type": "stream",
          "text": [
            "/var/folders/59/0dhfqywn3jld8bd1k8dfjg640000gn/T/ipykernel_29659/2769502317.py:72: DeprecationWarning: Conversion of an array with ndim > 0 to a scalar is deprecated, and will error in future. Ensure you extract a single element from your array before performing this operation. (Deprecated NumPy 1.25.)\n",
            "  predict_file.write(f\"{id},{int(pre_test[i])}\\n\")\n"
          ]
        },
        {
          "name": "stdout",
          "output_type": "stream",
          "text": [
            "Epoch 1/3\n",
            "14353/14353 [==============================] - 8s 526us/step - loss: 21.8346\n",
            "Epoch 2/3\n",
            "14353/14353 [==============================] - 7s 515us/step - loss: 19.8357\n",
            "Epoch 3/3\n",
            "14353/14353 [==============================] - 7s 515us/step - loss: 19.4457\n",
            "14353/14353 [==============================] - 4s 291us/step\n",
            "315/315 [==============================] - 0s 278us/step\n"
          ]
        },
        {
          "name": "stderr",
          "output_type": "stream",
          "text": [
            "/var/folders/59/0dhfqywn3jld8bd1k8dfjg640000gn/T/ipykernel_29659/2686421191.py:5: DeprecationWarning: Conversion of an array with ndim > 0 to a scalar is deprecated, and will error in future. Ensure you extract a single element from your array before performing this operation. (Deprecated NumPy 1.25.)\n",
            "  err += Err_func(float(predic_y[i]), float(y[i]), float(total))\n"
          ]
        },
        {
          "name": "stdout",
          "output_type": "stream",
          "text": [
            "500101166: train: 0.12059615395775088, \u001b[34mval: 0.21397026171659161\u001b[0m, avg_train: 0.23307041647744625, avg_val: 0.31098128145539844\n",
            "495/495 [==============================] - 0s 275us/step\n"
          ]
        },
        {
          "name": "stderr",
          "output_type": "stream",
          "text": [
            "/var/folders/59/0dhfqywn3jld8bd1k8dfjg640000gn/T/ipykernel_29659/2769502317.py:72: DeprecationWarning: Conversion of an array with ndim > 0 to a scalar is deprecated, and will error in future. Ensure you extract a single element from your array before performing this operation. (Deprecated NumPy 1.25.)\n",
            "  predict_file.write(f\"{id},{int(pre_test[i])}\\n\")\n"
          ]
        },
        {
          "name": "stdout",
          "output_type": "stream",
          "text": [
            "Epoch 1/3\n",
            "11669/11669 [==============================] - 7s 565us/step - loss: 11.0546\n",
            "Epoch 2/3\n",
            "11669/11669 [==============================] - 8s 713us/step - loss: 9.1954\n",
            "Epoch 3/3\n",
            "11669/11669 [==============================] - 8s 717us/step - loss: 8.8591\n",
            "11669/11669 [==============================] - 5s 420us/step\n",
            "315/315 [==============================] - 0s 426us/step\n"
          ]
        },
        {
          "name": "stderr",
          "output_type": "stream",
          "text": [
            "/var/folders/59/0dhfqywn3jld8bd1k8dfjg640000gn/T/ipykernel_29659/2686421191.py:5: DeprecationWarning: Conversion of an array with ndim > 0 to a scalar is deprecated, and will error in future. Ensure you extract a single element from your array before performing this operation. (Deprecated NumPy 1.25.)\n",
            "  err += Err_func(float(predic_y[i]), float(y[i]), float(total))\n"
          ]
        },
        {
          "name": "stdout",
          "output_type": "stream",
          "text": [
            "500101175: train: 0.2521164141958788 , \u001b[34mval: 0.35865139002414864\u001b[0m, avg_train: 0.23347565047145544, avg_val: 0.31199553908452077\n",
            "495/495 [==============================] - 0s 432us/step\n"
          ]
        },
        {
          "name": "stderr",
          "output_type": "stream",
          "text": [
            "/var/folders/59/0dhfqywn3jld8bd1k8dfjg640000gn/T/ipykernel_29659/2769502317.py:72: DeprecationWarning: Conversion of an array with ndim > 0 to a scalar is deprecated, and will error in future. Ensure you extract a single element from your array before performing this operation. (Deprecated NumPy 1.25.)\n",
            "  predict_file.write(f\"{id},{int(pre_test[i])}\\n\")\n"
          ]
        },
        {
          "name": "stdout",
          "output_type": "stream",
          "text": [
            "Epoch 1/3\n",
            "6463/6463 [==============================] - 5s 720us/step - loss: 8.3325\n",
            "Epoch 2/3\n",
            "6463/6463 [==============================] - 5s 719us/step - loss: 7.8000\n",
            "Epoch 3/3\n",
            "6463/6463 [==============================] - 5s 708us/step - loss: 7.7178\n",
            "6463/6463 [==============================] - 3s 421us/step\n",
            "315/315 [==============================] - 0s 421us/step\n"
          ]
        },
        {
          "name": "stderr",
          "output_type": "stream",
          "text": [
            "/var/folders/59/0dhfqywn3jld8bd1k8dfjg640000gn/T/ipykernel_29659/2686421191.py:5: DeprecationWarning: Conversion of an array with ndim > 0 to a scalar is deprecated, and will error in future. Ensure you extract a single element from your array before performing this operation. (Deprecated NumPy 1.25.)\n",
            "  err += Err_func(float(predic_y[i]), float(y[i]), float(total))\n"
          ]
        },
        {
          "name": "stdout",
          "output_type": "stream",
          "text": [
            "500101176: train: 0.22977114031881213, \u001b[34mval: 0.2514315145553112 \u001b[0m, avg_train: 0.2333984731766087 , avg_val: 0.3107337885734956 \n",
            "495/495 [==============================] - 0s 428us/step\n"
          ]
        },
        {
          "name": "stderr",
          "output_type": "stream",
          "text": [
            "/var/folders/59/0dhfqywn3jld8bd1k8dfjg640000gn/T/ipykernel_29659/2769502317.py:72: DeprecationWarning: Conversion of an array with ndim > 0 to a scalar is deprecated, and will error in future. Ensure you extract a single element from your array before performing this operation. (Deprecated NumPy 1.25.)\n",
            "  predict_file.write(f\"{id},{int(pre_test[i])}\\n\")\n"
          ]
        },
        {
          "name": "stdout",
          "output_type": "stream",
          "text": [
            "Epoch 1/3\n",
            "12911/12911 [==============================] - 8s 608us/step - loss: 237.6934\n",
            "Epoch 2/3\n",
            "12911/12911 [==============================] - 7s 527us/step - loss: 195.9360\n",
            "Epoch 3/3\n",
            "12911/12911 [==============================] - 7s 565us/step - loss: 189.4045\n",
            "12911/12911 [==============================] - 4s 306us/step\n",
            "315/315 [==============================] - 0s 443us/step\n"
          ]
        },
        {
          "name": "stderr",
          "output_type": "stream",
          "text": [
            "/var/folders/59/0dhfqywn3jld8bd1k8dfjg640000gn/T/ipykernel_29659/2686421191.py:5: DeprecationWarning: Conversion of an array with ndim > 0 to a scalar is deprecated, and will error in future. Ensure you extract a single element from your array before performing this operation. (Deprecated NumPy 1.25.)\n",
            "  err += Err_func(float(predic_y[i]), float(y[i]), float(total))\n"
          ]
        },
        {
          "name": "stdout",
          "output_type": "stream",
          "text": [
            "500101181: train: 0.21038460882431523, \u001b[34mval: 0.31954597730388923\u001b[0m, avg_train: 0.23292880247554149, avg_val: 0.3109136291598301 \n",
            "495/495 [==============================] - 0s 296us/step\n"
          ]
        },
        {
          "name": "stderr",
          "output_type": "stream",
          "text": [
            "/var/folders/59/0dhfqywn3jld8bd1k8dfjg640000gn/T/ipykernel_29659/2769502317.py:72: DeprecationWarning: Conversion of an array with ndim > 0 to a scalar is deprecated, and will error in future. Ensure you extract a single element from your array before performing this operation. (Deprecated NumPy 1.25.)\n",
            "  predict_file.write(f\"{id},{int(pre_test[i])}\\n\")\n"
          ]
        },
        {
          "name": "stdout",
          "output_type": "stream",
          "text": [
            "Epoch 1/3\n",
            "12364/12364 [==============================] - 7s 576us/step - loss: 9.4090\n",
            "Epoch 2/3\n",
            "12364/12364 [==============================] - 6s 499us/step - loss: 8.3101\n",
            "Epoch 3/3\n",
            "12364/12364 [==============================] - 6s 506us/step - loss: 8.1592\n",
            "12364/12364 [==============================] - 4s 299us/step\n",
            "315/315 [==============================] - 0s 344us/step\n"
          ]
        },
        {
          "name": "stderr",
          "output_type": "stream",
          "text": [
            "/var/folders/59/0dhfqywn3jld8bd1k8dfjg640000gn/T/ipykernel_29659/2686421191.py:5: DeprecationWarning: Conversion of an array with ndim > 0 to a scalar is deprecated, and will error in future. Ensure you extract a single element from your array before performing this operation. (Deprecated NumPy 1.25.)\n",
            "  err += Err_func(float(predic_y[i]), float(y[i]), float(total))\n"
          ]
        },
        {
          "name": "stdout",
          "output_type": "stream",
          "text": [
            "500101184: train: 0.2865339615680228 , \u001b[34mval: 0.2958516476537894 \u001b[0m, avg_train: 0.2340009056573911 , avg_val: 0.3106123895297093 \n",
            "495/495 [==============================] - 0s 277us/step\n"
          ]
        },
        {
          "name": "stderr",
          "output_type": "stream",
          "text": [
            "/var/folders/59/0dhfqywn3jld8bd1k8dfjg640000gn/T/ipykernel_29659/2769502317.py:72: DeprecationWarning: Conversion of an array with ndim > 0 to a scalar is deprecated, and will error in future. Ensure you extract a single element from your array before performing this operation. (Deprecated NumPy 1.25.)\n",
            "  predict_file.write(f\"{id},{int(pre_test[i])}\\n\")\n"
          ]
        },
        {
          "name": "stdout",
          "output_type": "stream",
          "text": [
            "Epoch 1/3\n",
            "11644/11644 [==============================] - 6s 511us/step - loss: 8.1493\n",
            "Epoch 2/3\n",
            "11644/11644 [==============================] - 6s 500us/step - loss: 7.4838\n",
            "Epoch 3/3\n",
            "11644/11644 [==============================] - 6s 495us/step - loss: 7.3611\n",
            "11644/11644 [==============================] - 3s 278us/step\n",
            "315/315 [==============================] - 0s 283us/step\n"
          ]
        },
        {
          "name": "stderr",
          "output_type": "stream",
          "text": [
            "/var/folders/59/0dhfqywn3jld8bd1k8dfjg640000gn/T/ipykernel_29659/2686421191.py:5: DeprecationWarning: Conversion of an array with ndim > 0 to a scalar is deprecated, and will error in future. Ensure you extract a single element from your array before performing this operation. (Deprecated NumPy 1.25.)\n",
            "  err += Err_func(float(predic_y[i]), float(y[i]), float(total))\n"
          ]
        },
        {
          "name": "stdout",
          "output_type": "stream",
          "text": [
            "500101185: train: 0.3593076888348443 , \u001b[34mval: 0.4304646692663138 \u001b[0m, avg_train: 0.23645790140596862, avg_val: 0.3129624342304271 \n",
            "495/495 [==============================] - 0s 280us/step\n"
          ]
        },
        {
          "name": "stderr",
          "output_type": "stream",
          "text": [
            "/var/folders/59/0dhfqywn3jld8bd1k8dfjg640000gn/T/ipykernel_29659/2769502317.py:72: DeprecationWarning: Conversion of an array with ndim > 0 to a scalar is deprecated, and will error in future. Ensure you extract a single element from your array before performing this operation. (Deprecated NumPy 1.25.)\n",
            "  predict_file.write(f\"{id},{int(pre_test[i])}\\n\")\n"
          ]
        },
        {
          "name": "stdout",
          "output_type": "stream",
          "text": [
            "Epoch 1/3\n",
            "10925/10925 [==============================] - 6s 496us/step - loss: 5.7151\n",
            "Epoch 2/3\n",
            "10925/10925 [==============================] - 5s 493us/step - loss: 5.2872\n",
            "Epoch 3/3\n",
            "10925/10925 [==============================] - 5s 481us/step - loss: 5.1985\n",
            "10925/10925 [==============================] - 3s 275us/step\n",
            "315/315 [==============================] - 0s 276us/step\n"
          ]
        },
        {
          "name": "stderr",
          "output_type": "stream",
          "text": [
            "/var/folders/59/0dhfqywn3jld8bd1k8dfjg640000gn/T/ipykernel_29659/2686421191.py:5: DeprecationWarning: Conversion of an array with ndim > 0 to a scalar is deprecated, and will error in future. Ensure you extract a single element from your array before performing this operation. (Deprecated NumPy 1.25.)\n",
            "  err += Err_func(float(predic_y[i]), float(y[i]), float(total))\n"
          ]
        },
        {
          "name": "stdout",
          "output_type": "stream",
          "text": [
            "500101188: train: 0.15021276000022868, \u001b[34mval: 0.22495579289296816\u001b[0m, avg_train: 0.23479934099431976, avg_val: 0.31126999882009126\n",
            "495/495 [==============================] - 0s 286us/step\n"
          ]
        },
        {
          "name": "stderr",
          "output_type": "stream",
          "text": [
            "/var/folders/59/0dhfqywn3jld8bd1k8dfjg640000gn/T/ipykernel_29659/2769502317.py:72: DeprecationWarning: Conversion of an array with ndim > 0 to a scalar is deprecated, and will error in future. Ensure you extract a single element from your array before performing this operation. (Deprecated NumPy 1.25.)\n",
            "  predict_file.write(f\"{id},{int(pre_test[i])}\\n\")\n"
          ]
        },
        {
          "name": "stdout",
          "output_type": "stream",
          "text": [
            "Epoch 1/3\n",
            "12242/12242 [==============================] - 6s 499us/step - loss: 16.6211\n",
            "Epoch 2/3\n",
            "12242/12242 [==============================] - 6s 509us/step - loss: 14.8216\n",
            "Epoch 3/3\n",
            "12242/12242 [==============================] - 6s 494us/step - loss: 14.5405\n",
            "12242/12242 [==============================] - 3s 277us/step\n",
            "315/315 [==============================] - 0s 280us/step\n"
          ]
        },
        {
          "name": "stderr",
          "output_type": "stream",
          "text": [
            "/var/folders/59/0dhfqywn3jld8bd1k8dfjg640000gn/T/ipykernel_29659/2686421191.py:5: DeprecationWarning: Conversion of an array with ndim > 0 to a scalar is deprecated, and will error in future. Ensure you extract a single element from your array before performing this operation. (Deprecated NumPy 1.25.)\n",
            "  err += Err_func(float(predic_y[i]), float(y[i]), float(total))\n"
          ]
        },
        {
          "name": "stdout",
          "output_type": "stream",
          "text": [
            "500101189: train: 0.39585665313231905, \u001b[34mval: 0.5741842976251352 \u001b[0m, avg_train: 0.23783815820447066, avg_val: 0.3162306459673562 \n",
            "495/495 [==============================] - 0s 282us/step\n"
          ]
        },
        {
          "name": "stderr",
          "output_type": "stream",
          "text": [
            "/var/folders/59/0dhfqywn3jld8bd1k8dfjg640000gn/T/ipykernel_29659/2769502317.py:72: DeprecationWarning: Conversion of an array with ndim > 0 to a scalar is deprecated, and will error in future. Ensure you extract a single element from your array before performing this operation. (Deprecated NumPy 1.25.)\n",
            "  predict_file.write(f\"{id},{int(pre_test[i])}\\n\")\n"
          ]
        },
        {
          "name": "stdout",
          "output_type": "stream",
          "text": [
            "Epoch 1/3\n",
            "10868/10868 [==============================] - 5s 488us/step - loss: 18.1789\n",
            "Epoch 2/3\n",
            "10868/10868 [==============================] - 5s 501us/step - loss: 15.9148\n",
            "Epoch 3/3\n",
            "10868/10868 [==============================] - 6s 507us/step - loss: 15.3491\n",
            "10868/10868 [==============================] - 3s 281us/step\n",
            "315/315 [==============================] - 0s 283us/step\n"
          ]
        },
        {
          "name": "stderr",
          "output_type": "stream",
          "text": [
            "/var/folders/59/0dhfqywn3jld8bd1k8dfjg640000gn/T/ipykernel_29659/2686421191.py:5: DeprecationWarning: Conversion of an array with ndim > 0 to a scalar is deprecated, and will error in future. Ensure you extract a single element from your array before performing this operation. (Deprecated NumPy 1.25.)\n",
            "  err += Err_func(float(predic_y[i]), float(y[i]), float(total))\n"
          ]
        },
        {
          "name": "stdout",
          "output_type": "stream",
          "text": [
            "500101190: train: 0.2017610151700174 , \u001b[34mval: 0.2795016829382506 \u001b[0m, avg_train: 0.2371700629630919 , avg_val: 0.31555047998533575\n",
            "495/495 [==============================] - 0s 282us/step\n"
          ]
        },
        {
          "name": "stderr",
          "output_type": "stream",
          "text": [
            "/var/folders/59/0dhfqywn3jld8bd1k8dfjg640000gn/T/ipykernel_29659/2769502317.py:72: DeprecationWarning: Conversion of an array with ndim > 0 to a scalar is deprecated, and will error in future. Ensure you extract a single element from your array before performing this operation. (Deprecated NumPy 1.25.)\n",
            "  predict_file.write(f\"{id},{int(pre_test[i])}\\n\")\n"
          ]
        },
        {
          "name": "stdout",
          "output_type": "stream",
          "text": [
            "Epoch 1/3\n",
            "15890/15890 [==============================] - 8s 502us/step - loss: 17.4430\n",
            "Epoch 2/3\n",
            "15890/15890 [==============================] - 8s 493us/step - loss: 15.4134\n",
            "Epoch 3/3\n",
            "15890/15890 [==============================] - 8s 493us/step - loss: 15.1200\n",
            "15890/15890 [==============================] - 5s 290us/step\n",
            "315/315 [==============================] - 0s 282us/step\n"
          ]
        },
        {
          "name": "stderr",
          "output_type": "stream",
          "text": [
            "/var/folders/59/0dhfqywn3jld8bd1k8dfjg640000gn/T/ipykernel_29659/2686421191.py:5: DeprecationWarning: Conversion of an array with ndim > 0 to a scalar is deprecated, and will error in future. Ensure you extract a single element from your array before performing this operation. (Deprecated NumPy 1.25.)\n",
            "  err += Err_func(float(predic_y[i]), float(y[i]), float(total))\n"
          ]
        },
        {
          "name": "stdout",
          "output_type": "stream",
          "text": [
            "500101191: train: 0.16806916777097702, \u001b[34mval: 0.29786923624166617\u001b[0m, avg_train: 0.235913683050508  , avg_val: 0.31522900282635996\n",
            "495/495 [==============================] - 0s 277us/step\n"
          ]
        },
        {
          "name": "stderr",
          "output_type": "stream",
          "text": [
            "/var/folders/59/0dhfqywn3jld8bd1k8dfjg640000gn/T/ipykernel_29659/2769502317.py:72: DeprecationWarning: Conversion of an array with ndim > 0 to a scalar is deprecated, and will error in future. Ensure you extract a single element from your array before performing this operation. (Deprecated NumPy 1.25.)\n",
            "  predict_file.write(f\"{id},{int(pre_test[i])}\\n\")\n"
          ]
        },
        {
          "name": "stdout",
          "output_type": "stream",
          "text": [
            "Epoch 1/3\n",
            "16865/16865 [==============================] - 8s 485us/step - loss: 30.6111\n",
            "Epoch 2/3\n",
            "16865/16865 [==============================] - 8s 483us/step - loss: 29.0419\n",
            "Epoch 3/3\n",
            "16865/16865 [==============================] - 8s 494us/step - loss: 28.8410\n",
            "16865/16865 [==============================] - 5s 272us/step\n",
            "315/315 [==============================] - 0s 285us/step\n"
          ]
        },
        {
          "name": "stderr",
          "output_type": "stream",
          "text": [
            "/var/folders/59/0dhfqywn3jld8bd1k8dfjg640000gn/T/ipykernel_29659/2686421191.py:5: DeprecationWarning: Conversion of an array with ndim > 0 to a scalar is deprecated, and will error in future. Ensure you extract a single element from your array before performing this operation. (Deprecated NumPy 1.25.)\n",
            "  err += Err_func(float(predic_y[i]), float(y[i]), float(total))\n"
          ]
        },
        {
          "name": "stdout",
          "output_type": "stream",
          "text": [
            "500101193: train: 0.14137230997429903, \u001b[34mval: 0.17781322880142908\u001b[0m, avg_train: 0.2342254442455757 , avg_val: 0.3127751497187719 \n",
            "495/495 [==============================] - 0s 278us/step\n"
          ]
        },
        {
          "name": "stderr",
          "output_type": "stream",
          "text": [
            "/var/folders/59/0dhfqywn3jld8bd1k8dfjg640000gn/T/ipykernel_29659/2769502317.py:72: DeprecationWarning: Conversion of an array with ndim > 0 to a scalar is deprecated, and will error in future. Ensure you extract a single element from your array before performing this operation. (Deprecated NumPy 1.25.)\n",
            "  predict_file.write(f\"{id},{int(pre_test[i])}\\n\")\n"
          ]
        },
        {
          "name": "stdout",
          "output_type": "stream",
          "text": [
            "Epoch 1/3\n",
            "11834/11834 [==============================] - 6s 485us/step - loss: 7.8485\n",
            "Epoch 2/3\n",
            "11834/11834 [==============================] - 6s 484us/step - loss: 6.7720\n",
            "Epoch 3/3\n",
            "11834/11834 [==============================] - 6s 485us/step - loss: 6.6057\n",
            "11834/11834 [==============================] - 3s 272us/step\n",
            "315/315 [==============================] - 0s 360us/step\n"
          ]
        },
        {
          "name": "stderr",
          "output_type": "stream",
          "text": [
            "/var/folders/59/0dhfqywn3jld8bd1k8dfjg640000gn/T/ipykernel_29659/2686421191.py:5: DeprecationWarning: Conversion of an array with ndim > 0 to a scalar is deprecated, and will error in future. Ensure you extract a single element from your array before performing this operation. (Deprecated NumPy 1.25.)\n",
            "  err += Err_func(float(predic_y[i]), float(y[i]), float(total))\n"
          ]
        },
        {
          "name": "stdout",
          "output_type": "stream",
          "text": [
            "500101199: train: 0.30405388794963045, \u001b[34mval: 0.3454743650897315 \u001b[0m, avg_train: 0.2354505046614363 , avg_val: 0.3133488201638765 \n",
            "495/495 [==============================] - 0s 280us/step\n"
          ]
        },
        {
          "name": "stderr",
          "output_type": "stream",
          "text": [
            "/var/folders/59/0dhfqywn3jld8bd1k8dfjg640000gn/T/ipykernel_29659/2769502317.py:72: DeprecationWarning: Conversion of an array with ndim > 0 to a scalar is deprecated, and will error in future. Ensure you extract a single element from your array before performing this operation. (Deprecated NumPy 1.25.)\n",
            "  predict_file.write(f\"{id},{int(pre_test[i])}\\n\")\n"
          ]
        },
        {
          "name": "stdout",
          "output_type": "stream",
          "text": [
            "Epoch 1/3\n",
            "16260/16260 [==============================] - 8s 482us/step - loss: 25.2609\n",
            "Epoch 2/3\n",
            "16260/16260 [==============================] - 8s 479us/step - loss: 21.9252\n",
            "Epoch 3/3\n",
            "16260/16260 [==============================] - 8s 482us/step - loss: 21.5141\n",
            "16260/16260 [==============================] - 4s 269us/step\n",
            "315/315 [==============================] - 0s 279us/step\n"
          ]
        },
        {
          "name": "stderr",
          "output_type": "stream",
          "text": [
            "/var/folders/59/0dhfqywn3jld8bd1k8dfjg640000gn/T/ipykernel_29659/2686421191.py:5: DeprecationWarning: Conversion of an array with ndim > 0 to a scalar is deprecated, and will error in future. Ensure you extract a single element from your array before performing this operation. (Deprecated NumPy 1.25.)\n",
            "  err += Err_func(float(predic_y[i]), float(y[i]), float(total))\n"
          ]
        },
        {
          "name": "stdout",
          "output_type": "stream",
          "text": [
            "500101209: train: 0.11640541685032517, \u001b[34mval: 0.2544287129707678 \u001b[0m, avg_train: 0.23339800314745163, avg_val: 0.3123329562467539 \n",
            "495/495 [==============================] - 0s 277us/step\n"
          ]
        },
        {
          "name": "stderr",
          "output_type": "stream",
          "text": [
            "/var/folders/59/0dhfqywn3jld8bd1k8dfjg640000gn/T/ipykernel_29659/2769502317.py:72: DeprecationWarning: Conversion of an array with ndim > 0 to a scalar is deprecated, and will error in future. Ensure you extract a single element from your array before performing this operation. (Deprecated NumPy 1.25.)\n",
            "  predict_file.write(f\"{id},{int(pre_test[i])}\\n\")\n"
          ]
        },
        {
          "name": "stdout",
          "output_type": "stream",
          "text": [
            "Epoch 1/3\n",
            "11227/11227 [==============================] - 6s 479us/step - loss: 27.5157\n",
            "Epoch 2/3\n",
            "11227/11227 [==============================] - 5s 480us/step - loss: 25.3425\n",
            "Epoch 3/3\n",
            "11227/11227 [==============================] - 5s 485us/step - loss: 25.0363\n",
            "11227/11227 [==============================] - 3s 270us/step\n",
            "315/315 [==============================] - 0s 279us/step\n"
          ]
        },
        {
          "name": "stderr",
          "output_type": "stream",
          "text": [
            "/var/folders/59/0dhfqywn3jld8bd1k8dfjg640000gn/T/ipykernel_29659/2686421191.py:5: DeprecationWarning: Conversion of an array with ndim > 0 to a scalar is deprecated, and will error in future. Ensure you extract a single element from your array before performing this operation. (Deprecated NumPy 1.25.)\n",
            "  err += Err_func(float(predic_y[i]), float(y[i]), float(total))\n"
          ]
        },
        {
          "name": "stdout",
          "output_type": "stream",
          "text": [
            "500101216: train: 0.31916376627115567, \u001b[34mval: 0.3085575320279945 \u001b[0m, avg_train: 0.2348516601495483 , avg_val: 0.312268966005758  \n",
            "495/495 [==============================] - 0s 278us/step\n"
          ]
        },
        {
          "name": "stderr",
          "output_type": "stream",
          "text": [
            "/var/folders/59/0dhfqywn3jld8bd1k8dfjg640000gn/T/ipykernel_29659/2769502317.py:72: DeprecationWarning: Conversion of an array with ndim > 0 to a scalar is deprecated, and will error in future. Ensure you extract a single element from your array before performing this operation. (Deprecated NumPy 1.25.)\n",
            "  predict_file.write(f\"{id},{int(pre_test[i])}\\n\")\n"
          ]
        },
        {
          "name": "stdout",
          "output_type": "stream",
          "text": [
            "Epoch 1/3\n",
            "10872/10872 [==============================] - 6s 522us/step - loss: 11.1266\n",
            "Epoch 2/3\n",
            "10872/10872 [==============================] - 5s 490us/step - loss: 10.7377\n",
            "Epoch 3/3\n",
            "10872/10872 [==============================] - 5s 479us/step - loss: 10.6802\n",
            "10872/10872 [==============================] - 3s 273us/step\n",
            "315/315 [==============================] - 0s 278us/step\n"
          ]
        },
        {
          "name": "stderr",
          "output_type": "stream",
          "text": [
            "/var/folders/59/0dhfqywn3jld8bd1k8dfjg640000gn/T/ipykernel_29659/2686421191.py:5: DeprecationWarning: Conversion of an array with ndim > 0 to a scalar is deprecated, and will error in future. Ensure you extract a single element from your array before performing this operation. (Deprecated NumPy 1.25.)\n",
            "  err += Err_func(float(predic_y[i]), float(y[i]), float(total))\n"
          ]
        },
        {
          "name": "stdout",
          "output_type": "stream",
          "text": [
            "500101219: train: 0.3888349732764281 , \u001b[34mval: 0.36606195463259106\u001b[0m, avg_train: 0.23741804870166297, avg_val: 0.3131655158162052 \n",
            "495/495 [==============================] - 0s 279us/step\n"
          ]
        },
        {
          "name": "stderr",
          "output_type": "stream",
          "text": [
            "/var/folders/59/0dhfqywn3jld8bd1k8dfjg640000gn/T/ipykernel_29659/2769502317.py:72: DeprecationWarning: Conversion of an array with ndim > 0 to a scalar is deprecated, and will error in future. Ensure you extract a single element from your array before performing this operation. (Deprecated NumPy 1.25.)\n",
            "  predict_file.write(f\"{id},{int(pre_test[i])}\\n\")\n"
          ]
        },
        {
          "name": "stdout",
          "output_type": "stream",
          "text": [
            "Epoch 1/3\n",
            "13275/13275 [==============================] - 7s 485us/step - loss: 9.1352\n",
            "Epoch 2/3\n",
            "13275/13275 [==============================] - 6s 482us/step - loss: 8.4154\n",
            "Epoch 3/3\n",
            "13275/13275 [==============================] - 7s 494us/step - loss: 8.3044\n",
            "13275/13275 [==============================] - 4s 280us/step\n",
            "315/315 [==============================] - 0s 282us/step\n"
          ]
        },
        {
          "name": "stderr",
          "output_type": "stream",
          "text": [
            "/var/folders/59/0dhfqywn3jld8bd1k8dfjg640000gn/T/ipykernel_29659/2686421191.py:5: DeprecationWarning: Conversion of an array with ndim > 0 to a scalar is deprecated, and will error in future. Ensure you extract a single element from your array before performing this operation. (Deprecated NumPy 1.25.)\n",
            "  err += Err_func(float(predic_y[i]), float(y[i]), float(total))\n"
          ]
        },
        {
          "name": "stdout",
          "output_type": "stream",
          "text": [
            "500105066: train: 0.28518630872083134, \u001b[34mval: 0.4347743799555936 \u001b[0m, avg_train: 0.2382011349314854 , avg_val: 0.3151591037529165 \n",
            "495/495 [==============================] - 0s 283us/step\n"
          ]
        },
        {
          "name": "stderr",
          "output_type": "stream",
          "text": [
            "/var/folders/59/0dhfqywn3jld8bd1k8dfjg640000gn/T/ipykernel_29659/2769502317.py:72: DeprecationWarning: Conversion of an array with ndim > 0 to a scalar is deprecated, and will error in future. Ensure you extract a single element from your array before performing this operation. (Deprecated NumPy 1.25.)\n",
            "  predict_file.write(f\"{id},{int(pre_test[i])}\\n\")\n"
          ]
        },
        {
          "name": "stdout",
          "output_type": "stream",
          "text": [
            "Epoch 1/3\n",
            "14308/14308 [==============================] - 7s 475us/step - loss: 8.8687\n",
            "Epoch 2/3\n",
            "14308/14308 [==============================] - 7s 477us/step - loss: 8.0973\n",
            "Epoch 3/3\n",
            "14308/14308 [==============================] - 7s 491us/step - loss: 7.9451\n",
            "14308/14308 [==============================] - 4s 271us/step\n",
            "315/315 [==============================] - 0s 280us/step\n"
          ]
        },
        {
          "name": "stderr",
          "output_type": "stream",
          "text": [
            "/var/folders/59/0dhfqywn3jld8bd1k8dfjg640000gn/T/ipykernel_29659/2686421191.py:5: DeprecationWarning: Conversion of an array with ndim > 0 to a scalar is deprecated, and will error in future. Ensure you extract a single element from your array before performing this operation. (Deprecated NumPy 1.25.)\n",
            "  err += Err_func(float(predic_y[i]), float(y[i]), float(total))\n"
          ]
        },
        {
          "name": "stdout",
          "output_type": "stream",
          "text": [
            "500106002: train: 0.19614858703754123, \u001b[34mval: 0.31754087790690155\u001b[0m, avg_train: 0.23752286802997016, avg_val: 0.3151975194650775 \n",
            "495/495 [==============================] - 0s 276us/step\n"
          ]
        },
        {
          "name": "stderr",
          "output_type": "stream",
          "text": [
            "/var/folders/59/0dhfqywn3jld8bd1k8dfjg640000gn/T/ipykernel_29659/2769502317.py:72: DeprecationWarning: Conversion of an array with ndim > 0 to a scalar is deprecated, and will error in future. Ensure you extract a single element from your array before performing this operation. (Deprecated NumPy 1.25.)\n",
            "  predict_file.write(f\"{id},{int(pre_test[i])}\\n\")\n"
          ]
        },
        {
          "name": "stdout",
          "output_type": "stream",
          "text": [
            "Epoch 1/3\n",
            "12978/12978 [==============================] - 6s 464us/step - loss: 3.0544\n",
            "Epoch 2/3\n",
            "12978/12978 [==============================] - 6s 468us/step - loss: 2.7246\n",
            "Epoch 3/3\n",
            "12978/12978 [==============================] - 6s 469us/step - loss: 2.6542\n",
            "12978/12978 [==============================] - 4s 273us/step\n",
            "315/315 [==============================] - 0s 283us/step\n"
          ]
        },
        {
          "name": "stderr",
          "output_type": "stream",
          "text": [
            "/var/folders/59/0dhfqywn3jld8bd1k8dfjg640000gn/T/ipykernel_29659/2686421191.py:5: DeprecationWarning: Conversion of an array with ndim > 0 to a scalar is deprecated, and will error in future. Ensure you extract a single element from your array before performing this operation. (Deprecated NumPy 1.25.)\n",
            "  err += Err_func(float(predic_y[i]), float(y[i]), float(total))\n"
          ]
        },
        {
          "name": "stdout",
          "output_type": "stream",
          "text": [
            "500106003: train: 0.18944958545025223, \u001b[34mval: 0.3106319137356155 \u001b[0m, avg_train: 0.23675980005251432, avg_val: 0.31512504953286385\n",
            "495/495 [==============================] - 0s 280us/step\n"
          ]
        },
        {
          "name": "stderr",
          "output_type": "stream",
          "text": [
            "/var/folders/59/0dhfqywn3jld8bd1k8dfjg640000gn/T/ipykernel_29659/2769502317.py:72: DeprecationWarning: Conversion of an array with ndim > 0 to a scalar is deprecated, and will error in future. Ensure you extract a single element from your array before performing this operation. (Deprecated NumPy 1.25.)\n",
            "  predict_file.write(f\"{id},{int(pre_test[i])}\\n\")\n"
          ]
        },
        {
          "name": "stdout",
          "output_type": "stream",
          "text": [
            "Epoch 1/3\n",
            "13698/13698 [==============================] - 7s 482us/step - loss: 6.3540\n",
            "Epoch 2/3\n",
            "13698/13698 [==============================] - 7s 485us/step - loss: 5.5917\n",
            "Epoch 3/3\n",
            "13698/13698 [==============================] - 7s 482us/step - loss: 5.4847\n",
            "13698/13698 [==============================] - 4s 270us/step\n",
            "315/315 [==============================] - 0s 277us/step\n"
          ]
        },
        {
          "name": "stderr",
          "output_type": "stream",
          "text": [
            "/var/folders/59/0dhfqywn3jld8bd1k8dfjg640000gn/T/ipykernel_29659/2686421191.py:5: DeprecationWarning: Conversion of an array with ndim > 0 to a scalar is deprecated, and will error in future. Ensure you extract a single element from your array before performing this operation. (Deprecated NumPy 1.25.)\n",
            "  err += Err_func(float(predic_y[i]), float(y[i]), float(total))\n"
          ]
        },
        {
          "name": "stdout",
          "output_type": "stream",
          "text": [
            "500106004: train: 0.301906369452265  , \u001b[34mval: 0.29826828351074375\u001b[0m, avg_train: 0.23777771519938543, avg_val: 0.31486166256376824\n",
            "495/495 [==============================] - 0s 294us/step\n"
          ]
        },
        {
          "name": "stderr",
          "output_type": "stream",
          "text": [
            "/var/folders/59/0dhfqywn3jld8bd1k8dfjg640000gn/T/ipykernel_29659/2769502317.py:72: DeprecationWarning: Conversion of an array with ndim > 0 to a scalar is deprecated, and will error in future. Ensure you extract a single element from your array before performing this operation. (Deprecated NumPy 1.25.)\n",
            "  predict_file.write(f\"{id},{int(pre_test[i])}\\n\")\n"
          ]
        },
        {
          "name": "stdout",
          "output_type": "stream",
          "text": [
            "Epoch 1/3\n",
            "14910/14910 [==============================] - 7s 482us/step - loss: 18.0496\n",
            "Epoch 2/3\n",
            "14910/14910 [==============================] - 7s 471us/step - loss: 15.7381\n",
            "Epoch 3/3\n",
            "14910/14910 [==============================] - 7s 477us/step - loss: 15.5887\n",
            "14910/14910 [==============================] - 4s 271us/step\n",
            "315/315 [==============================] - 0s 274us/step\n"
          ]
        },
        {
          "name": "stderr",
          "output_type": "stream",
          "text": [
            "/var/folders/59/0dhfqywn3jld8bd1k8dfjg640000gn/T/ipykernel_29659/2686421191.py:5: DeprecationWarning: Conversion of an array with ndim > 0 to a scalar is deprecated, and will error in future. Ensure you extract a single element from your array before performing this operation. (Deprecated NumPy 1.25.)\n",
            "  err += Err_func(float(predic_y[i]), float(y[i]), float(total))\n"
          ]
        },
        {
          "name": "stdout",
          "output_type": "stream",
          "text": [
            "500119043: train: 0.11092479321307015, \u001b[34mval: 0.23011280757797056\u001b[0m, avg_train: 0.23582613178421136, avg_val: 0.31355783402552523\n",
            "495/495 [==============================] - 0s 274us/step\n"
          ]
        },
        {
          "name": "stderr",
          "output_type": "stream",
          "text": [
            "/var/folders/59/0dhfqywn3jld8bd1k8dfjg640000gn/T/ipykernel_29659/2769502317.py:72: DeprecationWarning: Conversion of an array with ndim > 0 to a scalar is deprecated, and will error in future. Ensure you extract a single element from your array before performing this operation. (Deprecated NumPy 1.25.)\n",
            "  predict_file.write(f\"{id},{int(pre_test[i])}\\n\")\n"
          ]
        },
        {
          "name": "stdout",
          "output_type": "stream",
          "text": [
            "Epoch 1/3\n",
            "13784/13784 [==============================] - 7s 488us/step - loss: 15.7380\n",
            "Epoch 2/3\n",
            "13784/13784 [==============================] - 7s 478us/step - loss: 14.3009\n",
            "Epoch 3/3\n",
            "13784/13784 [==============================] - 7s 479us/step - loss: 14.0446\n",
            "13784/13784 [==============================] - 4s 277us/step\n",
            "315/315 [==============================] - 0s 278us/step\n"
          ]
        },
        {
          "name": "stderr",
          "output_type": "stream",
          "text": [
            "/var/folders/59/0dhfqywn3jld8bd1k8dfjg640000gn/T/ipykernel_29659/2686421191.py:5: DeprecationWarning: Conversion of an array with ndim > 0 to a scalar is deprecated, and will error in future. Ensure you extract a single element from your array before performing this operation. (Deprecated NumPy 1.25.)\n",
            "  err += Err_func(float(predic_y[i]), float(y[i]), float(total))\n"
          ]
        },
        {
          "name": "stdout",
          "output_type": "stream",
          "text": [
            "500119044: train: 0.2139029111015613 , \u001b[34mval: 0.26502172383004463\u001b[0m, avg_train: 0.23549396177386817, avg_val: 0.3128224384165028 \n",
            "495/495 [==============================] - 0s 289us/step\n"
          ]
        },
        {
          "name": "stderr",
          "output_type": "stream",
          "text": [
            "/var/folders/59/0dhfqywn3jld8bd1k8dfjg640000gn/T/ipykernel_29659/2769502317.py:72: DeprecationWarning: Conversion of an array with ndim > 0 to a scalar is deprecated, and will error in future. Ensure you extract a single element from your array before performing this operation. (Deprecated NumPy 1.25.)\n",
            "  predict_file.write(f\"{id},{int(pre_test[i])}\\n\")\n"
          ]
        },
        {
          "name": "stdout",
          "output_type": "stream",
          "text": [
            "Epoch 1/3\n",
            "12863/12863 [==============================] - 6s 478us/step - loss: 53.1219\n",
            "Epoch 2/3\n",
            "12863/12863 [==============================] - 6s 490us/step - loss: 48.7204\n",
            "Epoch 3/3\n",
            "12863/12863 [==============================] - 6s 478us/step - loss: 48.1712\n",
            "12863/12863 [==============================] - 3s 268us/step\n",
            "315/315 [==============================] - 0s 275us/step\n"
          ]
        },
        {
          "name": "stderr",
          "output_type": "stream",
          "text": [
            "/var/folders/59/0dhfqywn3jld8bd1k8dfjg640000gn/T/ipykernel_29659/2686421191.py:5: DeprecationWarning: Conversion of an array with ndim > 0 to a scalar is deprecated, and will error in future. Ensure you extract a single element from your array before performing this operation. (Deprecated NumPy 1.25.)\n",
            "  err += Err_func(float(predic_y[i]), float(y[i]), float(total))\n"
          ]
        },
        {
          "name": "stdout",
          "output_type": "stream",
          "text": [
            "500119045: train: 0.1907780323620034 , \u001b[34mval: 0.36948228226704627\u001b[0m, avg_train: 0.2348265598423478 , avg_val: 0.3136681077277049 \n",
            "495/495 [==============================] - 0s 275us/step\n"
          ]
        },
        {
          "name": "stderr",
          "output_type": "stream",
          "text": [
            "/var/folders/59/0dhfqywn3jld8bd1k8dfjg640000gn/T/ipykernel_29659/2769502317.py:72: DeprecationWarning: Conversion of an array with ndim > 0 to a scalar is deprecated, and will error in future. Ensure you extract a single element from your array before performing this operation. (Deprecated NumPy 1.25.)\n",
            "  predict_file.write(f\"{id},{int(pre_test[i])}\\n\")\n"
          ]
        },
        {
          "name": "stdout",
          "output_type": "stream",
          "text": [
            "Epoch 1/3\n",
            "12960/12960 [==============================] - 6s 481us/step - loss: 37.5413\n",
            "Epoch 2/3\n",
            "12960/12960 [==============================] - 6s 470us/step - loss: 33.8893\n",
            "Epoch 3/3\n",
            "12960/12960 [==============================] - 6s 483us/step - loss: 33.4153\n",
            "12960/12960 [==============================] - 4s 273us/step\n",
            "315/315 [==============================] - 0s 278us/step\n"
          ]
        },
        {
          "name": "stderr",
          "output_type": "stream",
          "text": [
            "/var/folders/59/0dhfqywn3jld8bd1k8dfjg640000gn/T/ipykernel_29659/2686421191.py:5: DeprecationWarning: Conversion of an array with ndim > 0 to a scalar is deprecated, and will error in future. Ensure you extract a single element from your array before performing this operation. (Deprecated NumPy 1.25.)\n",
            "  err += Err_func(float(predic_y[i]), float(y[i]), float(total))\n"
          ]
        },
        {
          "name": "stdout",
          "output_type": "stream",
          "text": [
            "500119046: train: 0.1732416295799935 , \u001b[34mval: 0.2463615389371967 \u001b[0m, avg_train: 0.23392089910319555, avg_val: 0.31267830524549156\n",
            "495/495 [==============================] - 0s 280us/step\n"
          ]
        },
        {
          "name": "stderr",
          "output_type": "stream",
          "text": [
            "/var/folders/59/0dhfqywn3jld8bd1k8dfjg640000gn/T/ipykernel_29659/2769502317.py:72: DeprecationWarning: Conversion of an array with ndim > 0 to a scalar is deprecated, and will error in future. Ensure you extract a single element from your array before performing this operation. (Deprecated NumPy 1.25.)\n",
            "  predict_file.write(f\"{id},{int(pre_test[i])}\\n\")\n"
          ]
        },
        {
          "name": "stdout",
          "output_type": "stream",
          "text": [
            "Epoch 1/3\n",
            "16680/16680 [==============================] - 8s 476us/step - loss: 27.4430\n",
            "Epoch 2/3\n",
            "16680/16680 [==============================] - 8s 478us/step - loss: 25.7492\n",
            "Epoch 3/3\n",
            "16680/16680 [==============================] - 8s 479us/step - loss: 25.4390\n",
            "16680/16680 [==============================] - 5s 268us/step\n",
            "315/315 [==============================] - 0s 275us/step\n"
          ]
        },
        {
          "name": "stderr",
          "output_type": "stream",
          "text": [
            "/var/folders/59/0dhfqywn3jld8bd1k8dfjg640000gn/T/ipykernel_29659/2686421191.py:5: DeprecationWarning: Conversion of an array with ndim > 0 to a scalar is deprecated, and will error in future. Ensure you extract a single element from your array before performing this operation. (Deprecated NumPy 1.25.)\n",
            "  err += Err_func(float(predic_y[i]), float(y[i]), float(total))\n"
          ]
        },
        {
          "name": "stdout",
          "output_type": "stream",
          "text": [
            "500119047: train: 0.22352933632237085, \u001b[34mval: 0.19479937373275147\u001b[0m, avg_train: 0.23377029674405317, avg_val: 0.3109699149337128 \n",
            "495/495 [==============================] - 0s 278us/step\n"
          ]
        },
        {
          "name": "stderr",
          "output_type": "stream",
          "text": [
            "/var/folders/59/0dhfqywn3jld8bd1k8dfjg640000gn/T/ipykernel_29659/2769502317.py:72: DeprecationWarning: Conversion of an array with ndim > 0 to a scalar is deprecated, and will error in future. Ensure you extract a single element from your array before performing this operation. (Deprecated NumPy 1.25.)\n",
            "  predict_file.write(f\"{id},{int(pre_test[i])}\\n\")\n"
          ]
        },
        {
          "name": "stdout",
          "output_type": "stream",
          "text": [
            "Epoch 1/3\n",
            "15378/15378 [==============================] - 7s 475us/step - loss: 47.7410\n",
            "Epoch 2/3\n",
            "15378/15378 [==============================] - 7s 471us/step - loss: 41.6611\n",
            "Epoch 3/3\n",
            "15378/15378 [==============================] - 7s 475us/step - loss: 41.1754\n",
            "15378/15378 [==============================] - 4s 272us/step\n",
            "315/315 [==============================] - 0s 275us/step\n"
          ]
        },
        {
          "name": "stderr",
          "output_type": "stream",
          "text": [
            "/var/folders/59/0dhfqywn3jld8bd1k8dfjg640000gn/T/ipykernel_29659/2686421191.py:5: DeprecationWarning: Conversion of an array with ndim > 0 to a scalar is deprecated, and will error in future. Ensure you extract a single element from your array before performing this operation. (Deprecated NumPy 1.25.)\n",
            "  err += Err_func(float(predic_y[i]), float(y[i]), float(total))\n"
          ]
        },
        {
          "name": "stdout",
          "output_type": "stream",
          "text": [
            "500119048: train: 0.14449782055348515, \u001b[34mval: 0.3768131197552333 \u001b[0m, avg_train: 0.2324949756556165 , avg_val: 0.3119105321454488 \n",
            "495/495 [==============================] - 0s 277us/step\n"
          ]
        },
        {
          "name": "stderr",
          "output_type": "stream",
          "text": [
            "/var/folders/59/0dhfqywn3jld8bd1k8dfjg640000gn/T/ipykernel_29659/2769502317.py:72: DeprecationWarning: Conversion of an array with ndim > 0 to a scalar is deprecated, and will error in future. Ensure you extract a single element from your array before performing this operation. (Deprecated NumPy 1.25.)\n",
            "  predict_file.write(f\"{id},{int(pre_test[i])}\\n\")\n"
          ]
        },
        {
          "name": "stdout",
          "output_type": "stream",
          "text": [
            "Epoch 1/3\n",
            "12359/12359 [==============================] - 6s 479us/step - loss: 37.1463\n",
            "Epoch 2/3\n",
            "12359/12359 [==============================] - 6s 478us/step - loss: 32.1276\n",
            "Epoch 3/3\n",
            "12359/12359 [==============================] - 6s 481us/step - loss: 31.3316\n",
            "12359/12359 [==============================] - 3s 273us/step\n",
            "315/315 [==============================] - 0s 277us/step\n"
          ]
        },
        {
          "name": "stderr",
          "output_type": "stream",
          "text": [
            "/var/folders/59/0dhfqywn3jld8bd1k8dfjg640000gn/T/ipykernel_29659/2686421191.py:5: DeprecationWarning: Conversion of an array with ndim > 0 to a scalar is deprecated, and will error in future. Ensure you extract a single element from your array before performing this operation. (Deprecated NumPy 1.25.)\n",
            "  err += Err_func(float(predic_y[i]), float(y[i]), float(total))\n"
          ]
        },
        {
          "name": "stdout",
          "output_type": "stream",
          "text": [
            "500119049: train: 0.11009267176021421, \u001b[34mval: 0.19511358812832394\u001b[0m, avg_train: 0.23077099954441363, avg_val: 0.3102655047649259 \n",
            "495/495 [==============================] - 0s 275us/step\n"
          ]
        },
        {
          "name": "stderr",
          "output_type": "stream",
          "text": [
            "/var/folders/59/0dhfqywn3jld8bd1k8dfjg640000gn/T/ipykernel_29659/2769502317.py:72: DeprecationWarning: Conversion of an array with ndim > 0 to a scalar is deprecated, and will error in future. Ensure you extract a single element from your array before performing this operation. (Deprecated NumPy 1.25.)\n",
            "  predict_file.write(f\"{id},{int(pre_test[i])}\\n\")\n"
          ]
        },
        {
          "name": "stdout",
          "output_type": "stream",
          "text": [
            "Epoch 1/3\n",
            "12581/12581 [==============================] - 6s 484us/step - loss: 23.1651\n",
            "Epoch 2/3\n",
            "12581/12581 [==============================] - 6s 478us/step - loss: 20.4110\n",
            "Epoch 3/3\n",
            "12581/12581 [==============================] - 6s 487us/step - loss: 19.9506\n",
            "12581/12581 [==============================] - 3s 267us/step\n",
            "315/315 [==============================] - 0s 272us/step\n"
          ]
        },
        {
          "name": "stderr",
          "output_type": "stream",
          "text": [
            "/var/folders/59/0dhfqywn3jld8bd1k8dfjg640000gn/T/ipykernel_29659/2686421191.py:5: DeprecationWarning: Conversion of an array with ndim > 0 to a scalar is deprecated, and will error in future. Ensure you extract a single element from your array before performing this operation. (Deprecated NumPy 1.25.)\n",
            "  err += Err_func(float(predic_y[i]), float(y[i]), float(total))\n"
          ]
        },
        {
          "name": "stdout",
          "output_type": "stream",
          "text": [
            "500119050: train: 0.17160628421007237, \u001b[34mval: 0.32269704208062616\u001b[0m, avg_train: 0.2299492673869922 , avg_val: 0.31043816500542176\n",
            "495/495 [==============================] - 0s 341us/step\n"
          ]
        },
        {
          "name": "stderr",
          "output_type": "stream",
          "text": [
            "/var/folders/59/0dhfqywn3jld8bd1k8dfjg640000gn/T/ipykernel_29659/2769502317.py:72: DeprecationWarning: Conversion of an array with ndim > 0 to a scalar is deprecated, and will error in future. Ensure you extract a single element from your array before performing this operation. (Deprecated NumPy 1.25.)\n",
            "  predict_file.write(f\"{id},{int(pre_test[i])}\\n\")\n"
          ]
        },
        {
          "name": "stdout",
          "output_type": "stream",
          "text": [
            "Epoch 1/3\n",
            "15426/15426 [==============================] - 7s 471us/step - loss: 6.0839\n",
            "Epoch 2/3\n",
            "15426/15426 [==============================] - 7s 462us/step - loss: 5.6197\n",
            "Epoch 3/3\n",
            "15426/15426 [==============================] - 7s 465us/step - loss: 5.5361\n",
            "15426/15426 [==============================] - 4s 272us/step\n",
            "315/315 [==============================] - 0s 281us/step\n"
          ]
        },
        {
          "name": "stderr",
          "output_type": "stream",
          "text": [
            "/var/folders/59/0dhfqywn3jld8bd1k8dfjg640000gn/T/ipykernel_29659/2686421191.py:5: DeprecationWarning: Conversion of an array with ndim > 0 to a scalar is deprecated, and will error in future. Ensure you extract a single element from your array before performing this operation. (Deprecated NumPy 1.25.)\n",
            "  err += Err_func(float(predic_y[i]), float(y[i]), float(total))\n"
          ]
        },
        {
          "name": "stdout",
          "output_type": "stream",
          "text": [
            "500119051: train: 0.11865070499782182, \u001b[34mval: 0.14214970252163772\u001b[0m, avg_train: 0.22842462954604467, avg_val: 0.3081328436015343 \n",
            "495/495 [==============================] - 0s 278us/step\n"
          ]
        },
        {
          "name": "stderr",
          "output_type": "stream",
          "text": [
            "/var/folders/59/0dhfqywn3jld8bd1k8dfjg640000gn/T/ipykernel_29659/2769502317.py:72: DeprecationWarning: Conversion of an array with ndim > 0 to a scalar is deprecated, and will error in future. Ensure you extract a single element from your array before performing this operation. (Deprecated NumPy 1.25.)\n",
            "  predict_file.write(f\"{id},{int(pre_test[i])}\\n\")\n"
          ]
        },
        {
          "name": "stdout",
          "output_type": "stream",
          "text": [
            "Epoch 1/3\n",
            "10775/10775 [==============================] - 5s 479us/step - loss: 19.8393\n",
            "Epoch 2/3\n",
            "10775/10775 [==============================] - 5s 475us/step - loss: 17.6977\n",
            "Epoch 3/3\n",
            "10775/10775 [==============================] - 5s 479us/step - loss: 17.1173\n",
            "10775/10775 [==============================] - 3s 269us/step\n",
            "315/315 [==============================] - 0s 275us/step\n"
          ]
        },
        {
          "name": "stderr",
          "output_type": "stream",
          "text": [
            "/var/folders/59/0dhfqywn3jld8bd1k8dfjg640000gn/T/ipykernel_29659/2686421191.py:5: DeprecationWarning: Conversion of an array with ndim > 0 to a scalar is deprecated, and will error in future. Ensure you extract a single element from your array before performing this operation. (Deprecated NumPy 1.25.)\n",
            "  err += Err_func(float(predic_y[i]), float(y[i]), float(total))\n"
          ]
        },
        {
          "name": "stdout",
          "output_type": "stream",
          "text": [
            "500119052: train: 0.1976112345895815 , \u001b[34mval: 0.29979753701644907\u001b[0m, avg_train: 0.22800823231690326, avg_val: 0.30802020432335747\n",
            "495/495 [==============================] - 0s 275us/step\n"
          ]
        },
        {
          "name": "stderr",
          "output_type": "stream",
          "text": [
            "/var/folders/59/0dhfqywn3jld8bd1k8dfjg640000gn/T/ipykernel_29659/2769502317.py:72: DeprecationWarning: Conversion of an array with ndim > 0 to a scalar is deprecated, and will error in future. Ensure you extract a single element from your array before performing this operation. (Deprecated NumPy 1.25.)\n",
            "  predict_file.write(f\"{id},{int(pre_test[i])}\\n\")\n"
          ]
        },
        {
          "name": "stdout",
          "output_type": "stream",
          "text": [
            "Epoch 1/3\n",
            "11772/11772 [==============================] - 6s 480us/step - loss: 10.6093\n",
            "Epoch 2/3\n",
            "11772/11772 [==============================] - 6s 481us/step - loss: 9.4665\n",
            "Epoch 3/3\n",
            "11772/11772 [==============================] - 6s 476us/step - loss: 9.1456\n",
            "11772/11772 [==============================] - 3s 272us/step\n",
            "315/315 [==============================] - 0s 279us/step\n"
          ]
        },
        {
          "name": "stderr",
          "output_type": "stream",
          "text": [
            "/var/folders/59/0dhfqywn3jld8bd1k8dfjg640000gn/T/ipykernel_29659/2686421191.py:5: DeprecationWarning: Conversion of an array with ndim > 0 to a scalar is deprecated, and will error in future. Ensure you extract a single element from your array before performing this operation. (Deprecated NumPy 1.25.)\n",
            "  err += Err_func(float(predic_y[i]), float(y[i]), float(total))\n"
          ]
        },
        {
          "name": "stdout",
          "output_type": "stream",
          "text": [
            "500119053: train: 0.211218464733899  , \u001b[34mval: 0.29412816392998026\u001b[0m, avg_train: 0.22778436874912988, avg_val: 0.3078349771181125 \n",
            "495/495 [==============================] - 0s 279us/step\n"
          ]
        },
        {
          "name": "stderr",
          "output_type": "stream",
          "text": [
            "/var/folders/59/0dhfqywn3jld8bd1k8dfjg640000gn/T/ipykernel_29659/2769502317.py:72: DeprecationWarning: Conversion of an array with ndim > 0 to a scalar is deprecated, and will error in future. Ensure you extract a single element from your array before performing this operation. (Deprecated NumPy 1.25.)\n",
            "  predict_file.write(f\"{id},{int(pre_test[i])}\\n\")\n"
          ]
        },
        {
          "name": "stdout",
          "output_type": "stream",
          "text": [
            "Epoch 1/3\n",
            "12351/12351 [==============================] - 6s 487us/step - loss: 14.5272\n",
            "Epoch 2/3\n",
            "12351/12351 [==============================] - 6s 471us/step - loss: 12.5017\n",
            "Epoch 3/3\n",
            "12351/12351 [==============================] - 6s 474us/step - loss: 12.1953\n",
            "12351/12351 [==============================] - 4s 299us/step\n",
            "315/315 [==============================] - 0s 279us/step\n"
          ]
        },
        {
          "name": "stderr",
          "output_type": "stream",
          "text": [
            "/var/folders/59/0dhfqywn3jld8bd1k8dfjg640000gn/T/ipykernel_29659/2686421191.py:5: DeprecationWarning: Conversion of an array with ndim > 0 to a scalar is deprecated, and will error in future. Ensure you extract a single element from your array before performing this operation. (Deprecated NumPy 1.25.)\n",
            "  err += Err_func(float(predic_y[i]), float(y[i]), float(total))\n"
          ]
        },
        {
          "name": "stdout",
          "output_type": "stream",
          "text": [
            "500119054: train: 0.17086941876150202, \u001b[34mval: 0.22204303754217608\u001b[0m, avg_train: 0.22703548782824004, avg_val: 0.30670613580790274\n",
            "495/495 [==============================] - 0s 283us/step\n"
          ]
        },
        {
          "name": "stderr",
          "output_type": "stream",
          "text": [
            "/var/folders/59/0dhfqywn3jld8bd1k8dfjg640000gn/T/ipykernel_29659/2769502317.py:72: DeprecationWarning: Conversion of an array with ndim > 0 to a scalar is deprecated, and will error in future. Ensure you extract a single element from your array before performing this operation. (Deprecated NumPy 1.25.)\n",
            "  predict_file.write(f\"{id},{int(pre_test[i])}\\n\")\n"
          ]
        },
        {
          "name": "stdout",
          "output_type": "stream",
          "text": [
            "Epoch 1/3\n",
            "12302/12302 [==============================] - 6s 486us/step - loss: 39.4663\n",
            "Epoch 2/3\n",
            "12302/12302 [==============================] - 6s 482us/step - loss: 34.6352\n",
            "Epoch 3/3\n",
            "12302/12302 [==============================] - 6s 485us/step - loss: 33.7114\n",
            "12302/12302 [==============================] - 3s 269us/step\n",
            "315/315 [==============================] - 0s 280us/step\n"
          ]
        },
        {
          "name": "stderr",
          "output_type": "stream",
          "text": [
            "/var/folders/59/0dhfqywn3jld8bd1k8dfjg640000gn/T/ipykernel_29659/2686421191.py:5: DeprecationWarning: Conversion of an array with ndim > 0 to a scalar is deprecated, and will error in future. Ensure you extract a single element from your array before performing this operation. (Deprecated NumPy 1.25.)\n",
            "  err += Err_func(float(predic_y[i]), float(y[i]), float(total))\n"
          ]
        },
        {
          "name": "stdout",
          "output_type": "stream",
          "text": [
            "500119055: train: 0.3145064675979062 , \u001b[34mval: 0.3314993001096224 \u001b[0m, avg_train: 0.22817147457849543, avg_val: 0.30702812495467835\n",
            "495/495 [==============================] - 0s 341us/step\n"
          ]
        },
        {
          "name": "stderr",
          "output_type": "stream",
          "text": [
            "/var/folders/59/0dhfqywn3jld8bd1k8dfjg640000gn/T/ipykernel_29659/2769502317.py:72: DeprecationWarning: Conversion of an array with ndim > 0 to a scalar is deprecated, and will error in future. Ensure you extract a single element from your array before performing this operation. (Deprecated NumPy 1.25.)\n",
            "  predict_file.write(f\"{id},{int(pre_test[i])}\\n\")\n"
          ]
        },
        {
          "name": "stdout",
          "output_type": "stream",
          "text": [
            "Epoch 1/3\n",
            "13868/13868 [==============================] - 7s 477us/step - loss: 3.5089\n",
            "Epoch 2/3\n",
            "13868/13868 [==============================] - 7s 478us/step - loss: 3.3143\n",
            "Epoch 3/3\n",
            "13868/13868 [==============================] - 7s 481us/step - loss: 3.2674\n",
            "13868/13868 [==============================] - 4s 271us/step\n",
            "315/315 [==============================] - 0s 276us/step\n"
          ]
        },
        {
          "name": "stderr",
          "output_type": "stream",
          "text": [
            "/var/folders/59/0dhfqywn3jld8bd1k8dfjg640000gn/T/ipykernel_29659/2686421191.py:5: DeprecationWarning: Conversion of an array with ndim > 0 to a scalar is deprecated, and will error in future. Ensure you extract a single element from your array before performing this operation. (Deprecated NumPy 1.25.)\n",
            "  err += Err_func(float(predic_y[i]), float(y[i]), float(total))\n"
          ]
        },
        {
          "name": "stdout",
          "output_type": "stream",
          "text": [
            "500119056: train: 0.2618331804912    , \u001b[34mval: 0.2257329313202743 \u001b[0m, avg_train: 0.2286030349107096 , avg_val: 0.3059858788824424 \n",
            "495/495 [==============================] - 0s 275us/step\n"
          ]
        },
        {
          "name": "stderr",
          "output_type": "stream",
          "text": [
            "/var/folders/59/0dhfqywn3jld8bd1k8dfjg640000gn/T/ipykernel_29659/2769502317.py:72: DeprecationWarning: Conversion of an array with ndim > 0 to a scalar is deprecated, and will error in future. Ensure you extract a single element from your array before performing this operation. (Deprecated NumPy 1.25.)\n",
            "  predict_file.write(f\"{id},{int(pre_test[i])}\\n\")\n"
          ]
        },
        {
          "name": "stdout",
          "output_type": "stream",
          "text": [
            "Epoch 1/3\n",
            "16649/16649 [==============================] - 8s 484us/step - loss: 12.8465\n",
            "Epoch 2/3\n",
            "16649/16649 [==============================] - 8s 484us/step - loss: 11.7899\n",
            "Epoch 3/3\n",
            "16649/16649 [==============================] - 8s 483us/step - loss: 11.6239\n",
            "16649/16649 [==============================] - 5s 269us/step\n",
            "315/315 [==============================] - 0s 288us/step\n"
          ]
        },
        {
          "name": "stderr",
          "output_type": "stream",
          "text": [
            "/var/folders/59/0dhfqywn3jld8bd1k8dfjg640000gn/T/ipykernel_29659/2686421191.py:5: DeprecationWarning: Conversion of an array with ndim > 0 to a scalar is deprecated, and will error in future. Ensure you extract a single element from your array before performing this operation. (Deprecated NumPy 1.25.)\n",
            "  err += Err_func(float(predic_y[i]), float(y[i]), float(total))\n"
          ]
        },
        {
          "name": "stdout",
          "output_type": "stream",
          "text": [
            "500119057: train: 0.21666129467681175, \u001b[34mval: 0.3253207070746634 \u001b[0m, avg_train: 0.2284518736419261 , avg_val: 0.30623062354310343\n",
            "495/495 [==============================] - 0s 278us/step\n"
          ]
        },
        {
          "name": "stderr",
          "output_type": "stream",
          "text": [
            "/var/folders/59/0dhfqywn3jld8bd1k8dfjg640000gn/T/ipykernel_29659/2769502317.py:72: DeprecationWarning: Conversion of an array with ndim > 0 to a scalar is deprecated, and will error in future. Ensure you extract a single element from your array before performing this operation. (Deprecated NumPy 1.25.)\n",
            "  predict_file.write(f\"{id},{int(pre_test[i])}\\n\")\n"
          ]
        },
        {
          "name": "stdout",
          "output_type": "stream",
          "text": [
            "Epoch 1/3\n",
            "14457/14457 [==============================] - 7s 480us/step - loss: 42.1188\n",
            "Epoch 2/3\n",
            "14457/14457 [==============================] - 7s 487us/step - loss: 34.4916\n",
            "Epoch 3/3\n",
            "14457/14457 [==============================] - 7s 480us/step - loss: 32.8073\n",
            "14457/14457 [==============================] - 4s 272us/step\n",
            "315/315 [==============================] - 0s 279us/step\n"
          ]
        },
        {
          "name": "stderr",
          "output_type": "stream",
          "text": [
            "/var/folders/59/0dhfqywn3jld8bd1k8dfjg640000gn/T/ipykernel_29659/2686421191.py:5: DeprecationWarning: Conversion of an array with ndim > 0 to a scalar is deprecated, and will error in future. Ensure you extract a single element from your array before performing this operation. (Deprecated NumPy 1.25.)\n",
            "  err += Err_func(float(predic_y[i]), float(y[i]), float(total))\n"
          ]
        },
        {
          "name": "stdout",
          "output_type": "stream",
          "text": [
            "500119058: train: 0.23034824811612062, \u001b[34mval: 0.3433716792123118 \u001b[0m, avg_train: 0.2284755783228535 , avg_val: 0.3066948867389685 \n",
            "495/495 [==============================] - 0s 295us/step\n"
          ]
        },
        {
          "name": "stderr",
          "output_type": "stream",
          "text": [
            "/var/folders/59/0dhfqywn3jld8bd1k8dfjg640000gn/T/ipykernel_29659/2769502317.py:72: DeprecationWarning: Conversion of an array with ndim > 0 to a scalar is deprecated, and will error in future. Ensure you extract a single element from your array before performing this operation. (Deprecated NumPy 1.25.)\n",
            "  predict_file.write(f\"{id},{int(pre_test[i])}\\n\")\n"
          ]
        },
        {
          "name": "stdout",
          "output_type": "stream",
          "text": [
            "Epoch 1/3\n",
            "21201/21201 [==============================] - 10s 479us/step - loss: 6.5022\n",
            "Epoch 2/3\n",
            "21201/21201 [==============================] - 10s 481us/step - loss: 6.1238\n",
            "Epoch 3/3\n",
            "21201/21201 [==============================] - 10s 481us/step - loss: 6.0397\n",
            "21201/21201 [==============================] - 6s 270us/step\n",
            "315/315 [==============================] - 0s 277us/step\n"
          ]
        },
        {
          "name": "stderr",
          "output_type": "stream",
          "text": [
            "/var/folders/59/0dhfqywn3jld8bd1k8dfjg640000gn/T/ipykernel_29659/2686421191.py:5: DeprecationWarning: Conversion of an array with ndim > 0 to a scalar is deprecated, and will error in future. Ensure you extract a single element from your array before performing this operation. (Deprecated NumPy 1.25.)\n",
            "  err += Err_func(float(predic_y[i]), float(y[i]), float(total))\n"
          ]
        },
        {
          "name": "stdout",
          "output_type": "stream",
          "text": [
            "500119059: train: 0.1271952316497058 , \u001b[34mval: 0.20718077217406147\u001b[0m, avg_train: 0.2272252036725677 , avg_val: 0.3054663174233524 \n",
            "495/495 [==============================] - 0s 276us/step\n"
          ]
        },
        {
          "name": "stderr",
          "output_type": "stream",
          "text": [
            "/var/folders/59/0dhfqywn3jld8bd1k8dfjg640000gn/T/ipykernel_29659/2769502317.py:72: DeprecationWarning: Conversion of an array with ndim > 0 to a scalar is deprecated, and will error in future. Ensure you extract a single element from your array before performing this operation. (Deprecated NumPy 1.25.)\n",
            "  predict_file.write(f\"{id},{int(pre_test[i])}\\n\")\n"
          ]
        },
        {
          "name": "stdout",
          "output_type": "stream",
          "text": [
            "Epoch 1/3\n",
            "16482/16482 [==============================] - 8s 483us/step - loss: 4.9641\n",
            "Epoch 2/3\n",
            "16482/16482 [==============================] - 8s 481us/step - loss: 4.2907\n",
            "Epoch 3/3\n",
            "16482/16482 [==============================] - 8s 482us/step - loss: 4.1705\n",
            "16482/16482 [==============================] - 5s 279us/step\n",
            "315/315 [==============================] - 0s 280us/step\n"
          ]
        },
        {
          "name": "stderr",
          "output_type": "stream",
          "text": [
            "/var/folders/59/0dhfqywn3jld8bd1k8dfjg640000gn/T/ipykernel_29659/2686421191.py:5: DeprecationWarning: Conversion of an array with ndim > 0 to a scalar is deprecated, and will error in future. Ensure you extract a single element from your array before performing this operation. (Deprecated NumPy 1.25.)\n",
            "  err += Err_func(float(predic_y[i]), float(y[i]), float(total))\n"
          ]
        },
        {
          "name": "stdout",
          "output_type": "stream",
          "text": [
            "500119060: train: 0.2277760997244495 , \u001b[34mval: 0.30249187323897964\u001b[0m, avg_train: 0.22723192191710284, avg_val: 0.3054300437137869 \n",
            "495/495 [==============================] - 0s 280us/step\n"
          ]
        },
        {
          "name": "stderr",
          "output_type": "stream",
          "text": [
            "/var/folders/59/0dhfqywn3jld8bd1k8dfjg640000gn/T/ipykernel_29659/2769502317.py:72: DeprecationWarning: Conversion of an array with ndim > 0 to a scalar is deprecated, and will error in future. Ensure you extract a single element from your array before performing this operation. (Deprecated NumPy 1.25.)\n",
            "  predict_file.write(f\"{id},{int(pre_test[i])}\\n\")\n"
          ]
        },
        {
          "name": "stdout",
          "output_type": "stream",
          "text": [
            "Epoch 1/3\n",
            "14123/14123 [==============================] - 7s 478us/step - loss: 22.2835\n",
            "Epoch 2/3\n",
            "14123/14123 [==============================] - 7s 479us/step - loss: 19.8042\n",
            "Epoch 3/3\n",
            "14123/14123 [==============================] - 7s 481us/step - loss: 19.1639\n",
            "14123/14123 [==============================] - 4s 276us/step\n",
            "315/315 [==============================] - 0s 281us/step\n"
          ]
        },
        {
          "name": "stderr",
          "output_type": "stream",
          "text": [
            "/var/folders/59/0dhfqywn3jld8bd1k8dfjg640000gn/T/ipykernel_29659/2686421191.py:5: DeprecationWarning: Conversion of an array with ndim > 0 to a scalar is deprecated, and will error in future. Ensure you extract a single element from your array before performing this operation. (Deprecated NumPy 1.25.)\n",
            "  err += Err_func(float(predic_y[i]), float(y[i]), float(total))\n"
          ]
        },
        {
          "name": "stdout",
          "output_type": "stream",
          "text": [
            "500119061: train: 0.2134045326478069 , \u001b[34mval: 0.33787178687509906\u001b[0m, avg_train: 0.22706532686566552, avg_val: 0.30582090808922435\n",
            "495/495 [==============================] - 0s 283us/step\n"
          ]
        },
        {
          "name": "stderr",
          "output_type": "stream",
          "text": [
            "/var/folders/59/0dhfqywn3jld8bd1k8dfjg640000gn/T/ipykernel_29659/2769502317.py:72: DeprecationWarning: Conversion of an array with ndim > 0 to a scalar is deprecated, and will error in future. Ensure you extract a single element from your array before performing this operation. (Deprecated NumPy 1.25.)\n",
            "  predict_file.write(f\"{id},{int(pre_test[i])}\\n\")\n"
          ]
        },
        {
          "name": "stdout",
          "output_type": "stream",
          "text": [
            "Epoch 1/3\n",
            "16249/16249 [==============================] - 8s 478us/step - loss: 2.6166\n",
            "Epoch 2/3\n",
            "16249/16249 [==============================] - 8s 481us/step - loss: 2.5300\n",
            "Epoch 3/3\n",
            "16249/16249 [==============================] - 8s 478us/step - loss: 2.5128\n",
            "16249/16249 [==============================] - 5s 275us/step\n",
            "315/315 [==============================] - 0s 283us/step\n"
          ]
        },
        {
          "name": "stderr",
          "output_type": "stream",
          "text": [
            "/var/folders/59/0dhfqywn3jld8bd1k8dfjg640000gn/T/ipykernel_29659/2686421191.py:5: DeprecationWarning: Conversion of an array with ndim > 0 to a scalar is deprecated, and will error in future. Ensure you extract a single element from your array before performing this operation. (Deprecated NumPy 1.25.)\n",
            "  err += Err_func(float(predic_y[i]), float(y[i]), float(total))\n"
          ]
        },
        {
          "name": "stdout",
          "output_type": "stream",
          "text": [
            "500119062: train: 0.18516243177483221, \u001b[34mval: 0.26928818918075986\u001b[0m, avg_train: 0.22656648287648892, avg_val: 0.3053859947688855 \n",
            "495/495 [==============================] - 0s 283us/step\n"
          ]
        },
        {
          "name": "stderr",
          "output_type": "stream",
          "text": [
            "/var/folders/59/0dhfqywn3jld8bd1k8dfjg640000gn/T/ipykernel_29659/2769502317.py:72: DeprecationWarning: Conversion of an array with ndim > 0 to a scalar is deprecated, and will error in future. Ensure you extract a single element from your array before performing this operation. (Deprecated NumPy 1.25.)\n",
            "  predict_file.write(f\"{id},{int(pre_test[i])}\\n\")\n"
          ]
        },
        {
          "name": "stdout",
          "output_type": "stream",
          "text": [
            "Epoch 1/3\n",
            "17697/17697 [==============================] - 9s 478us/step - loss: 15.5456\n",
            "Epoch 2/3\n",
            "17697/17697 [==============================] - 8s 479us/step - loss: 14.8100\n",
            "Epoch 3/3\n",
            "17697/17697 [==============================] - 8s 475us/step - loss: 14.6872\n",
            "17697/17697 [==============================] - 5s 274us/step\n",
            "315/315 [==============================] - 0s 386us/step\n"
          ]
        },
        {
          "name": "stderr",
          "output_type": "stream",
          "text": [
            "/var/folders/59/0dhfqywn3jld8bd1k8dfjg640000gn/T/ipykernel_29659/2686421191.py:5: DeprecationWarning: Conversion of an array with ndim > 0 to a scalar is deprecated, and will error in future. Ensure you extract a single element from your array before performing this operation. (Deprecated NumPy 1.25.)\n",
            "  err += Err_func(float(predic_y[i]), float(y[i]), float(total))\n"
          ]
        },
        {
          "name": "stdout",
          "output_type": "stream",
          "text": [
            "500119063: train: 0.16854785384319626, \u001b[34mval: 0.20950058519743361\u001b[0m, avg_train: 0.2258839107702149 , avg_val: 0.3042579311268684 \n",
            "495/495 [==============================] - 0s 281us/step\n"
          ]
        },
        {
          "name": "stderr",
          "output_type": "stream",
          "text": [
            "/var/folders/59/0dhfqywn3jld8bd1k8dfjg640000gn/T/ipykernel_29659/2769502317.py:72: DeprecationWarning: Conversion of an array with ndim > 0 to a scalar is deprecated, and will error in future. Ensure you extract a single element from your array before performing this operation. (Deprecated NumPy 1.25.)\n",
            "  predict_file.write(f\"{id},{int(pre_test[i])}\\n\")\n"
          ]
        },
        {
          "name": "stdout",
          "output_type": "stream",
          "text": [
            "Epoch 1/3\n",
            "17646/17646 [==============================] - 9s 478us/step - loss: 14.4854\n",
            "Epoch 2/3\n",
            "17646/17646 [==============================] - 8s 478us/step - loss: 13.4286\n",
            "Epoch 3/3\n",
            "17646/17646 [==============================] - 8s 478us/step - loss: 13.2718\n",
            "17646/17646 [==============================] - 5s 269us/step\n",
            "315/315 [==============================] - 0s 276us/step\n"
          ]
        },
        {
          "name": "stderr",
          "output_type": "stream",
          "text": [
            "/var/folders/59/0dhfqywn3jld8bd1k8dfjg640000gn/T/ipykernel_29659/2686421191.py:5: DeprecationWarning: Conversion of an array with ndim > 0 to a scalar is deprecated, and will error in future. Ensure you extract a single element from your array before performing this operation. (Deprecated NumPy 1.25.)\n",
            "  err += Err_func(float(predic_y[i]), float(y[i]), float(total))\n"
          ]
        },
        {
          "name": "stdout",
          "output_type": "stream",
          "text": [
            "500119064: train: 0.16417159453795704, \u001b[34mval: 0.15422489305939005\u001b[0m, avg_train: 0.2251663256977468 , avg_val: 0.30251336091678144\n",
            "495/495 [==============================] - 0s 273us/step\n"
          ]
        },
        {
          "name": "stderr",
          "output_type": "stream",
          "text": [
            "/var/folders/59/0dhfqywn3jld8bd1k8dfjg640000gn/T/ipykernel_29659/2769502317.py:72: DeprecationWarning: Conversion of an array with ndim > 0 to a scalar is deprecated, and will error in future. Ensure you extract a single element from your array before performing this operation. (Deprecated NumPy 1.25.)\n",
            "  predict_file.write(f\"{id},{int(pre_test[i])}\\n\")\n"
          ]
        },
        {
          "name": "stdout",
          "output_type": "stream",
          "text": [
            "Epoch 1/3\n",
            "17814/17814 [==============================] - 9s 479us/step - loss: 2.6625\n",
            "Epoch 2/3\n",
            "17814/17814 [==============================] - 9s 482us/step - loss: 2.5141\n",
            "Epoch 3/3\n",
            "17814/17814 [==============================] - 9s 485us/step - loss: 2.4880\n",
            "17814/17814 [==============================] - 5s 271us/step\n",
            "315/315 [==============================] - 0s 278us/step\n"
          ]
        },
        {
          "name": "stderr",
          "output_type": "stream",
          "text": [
            "/var/folders/59/0dhfqywn3jld8bd1k8dfjg640000gn/T/ipykernel_29659/2686421191.py:5: DeprecationWarning: Conversion of an array with ndim > 0 to a scalar is deprecated, and will error in future. Ensure you extract a single element from your array before performing this operation. (Deprecated NumPy 1.25.)\n",
            "  err += Err_func(float(predic_y[i]), float(y[i]), float(total))\n"
          ]
        },
        {
          "name": "stdout",
          "output_type": "stream",
          "text": [
            "500119065: train: 0.20215752961369268, \u001b[34mval: 0.32986940114616903\u001b[0m, avg_train: 0.22490185677724045, avg_val: 0.30282779816079736\n",
            "495/495 [==============================] - 0s 276us/step\n"
          ]
        },
        {
          "name": "stderr",
          "output_type": "stream",
          "text": [
            "/var/folders/59/0dhfqywn3jld8bd1k8dfjg640000gn/T/ipykernel_29659/2769502317.py:72: DeprecationWarning: Conversion of an array with ndim > 0 to a scalar is deprecated, and will error in future. Ensure you extract a single element from your array before performing this operation. (Deprecated NumPy 1.25.)\n",
            "  predict_file.write(f\"{id},{int(pre_test[i])}\\n\")\n"
          ]
        },
        {
          "name": "stdout",
          "output_type": "stream",
          "text": [
            "Epoch 1/3\n",
            "16185/16185 [==============================] - 8s 481us/step - loss: 9.1548\n",
            "Epoch 2/3\n",
            "16185/16185 [==============================] - 8s 487us/step - loss: 7.8325\n",
            "Epoch 3/3\n",
            "16185/16185 [==============================] - 8s 484us/step - loss: 7.6541\n",
            "16185/16185 [==============================] - 4s 276us/step\n",
            "315/315 [==============================] - 0s 276us/step\n"
          ]
        },
        {
          "name": "stderr",
          "output_type": "stream",
          "text": [
            "/var/folders/59/0dhfqywn3jld8bd1k8dfjg640000gn/T/ipykernel_29659/2686421191.py:5: DeprecationWarning: Conversion of an array with ndim > 0 to a scalar is deprecated, and will error in future. Ensure you extract a single element from your array before performing this operation. (Deprecated NumPy 1.25.)\n",
            "  err += Err_func(float(predic_y[i]), float(y[i]), float(total))\n"
          ]
        },
        {
          "name": "stdout",
          "output_type": "stream",
          "text": [
            "500119066: train: 0.17657348152493188, \u001b[34mval: 0.23080376603291722\u001b[0m, avg_train: 0.22435267069482787, avg_val: 0.3020093432502533 \n",
            "495/495 [==============================] - 0s 277us/step\n"
          ]
        },
        {
          "name": "stderr",
          "output_type": "stream",
          "text": [
            "/var/folders/59/0dhfqywn3jld8bd1k8dfjg640000gn/T/ipykernel_29659/2769502317.py:72: DeprecationWarning: Conversion of an array with ndim > 0 to a scalar is deprecated, and will error in future. Ensure you extract a single element from your array before performing this operation. (Deprecated NumPy 1.25.)\n",
            "  predict_file.write(f\"{id},{int(pre_test[i])}\\n\")\n"
          ]
        },
        {
          "name": "stdout",
          "output_type": "stream",
          "text": [
            "Epoch 1/3\n",
            "12213/12213 [==============================] - 6s 477us/step - loss: 22.2308\n",
            "Epoch 2/3\n",
            "12213/12213 [==============================] - 6s 477us/step - loss: 19.3638\n",
            "Epoch 3/3\n",
            "12213/12213 [==============================] - 6s 474us/step - loss: 18.1925\n",
            "12213/12213 [==============================] - 3s 271us/step\n",
            "315/315 [==============================] - 0s 280us/step\n"
          ]
        },
        {
          "name": "stderr",
          "output_type": "stream",
          "text": [
            "/var/folders/59/0dhfqywn3jld8bd1k8dfjg640000gn/T/ipykernel_29659/2686421191.py:5: DeprecationWarning: Conversion of an array with ndim > 0 to a scalar is deprecated, and will error in future. Ensure you extract a single element from your array before performing this operation. (Deprecated NumPy 1.25.)\n",
            "  err += Err_func(float(predic_y[i]), float(y[i]), float(total))\n"
          ]
        },
        {
          "name": "stdout",
          "output_type": "stream",
          "text": [
            "500119067: train: 0.1274075771438121 , \u001b[34mval: 0.2568086482286607 \u001b[0m, avg_train: 0.22326339998077152, avg_val: 0.3015014702724826 \n",
            "495/495 [==============================] - 0s 281us/step\n"
          ]
        },
        {
          "name": "stderr",
          "output_type": "stream",
          "text": [
            "/var/folders/59/0dhfqywn3jld8bd1k8dfjg640000gn/T/ipykernel_29659/2769502317.py:72: DeprecationWarning: Conversion of an array with ndim > 0 to a scalar is deprecated, and will error in future. Ensure you extract a single element from your array before performing this operation. (Deprecated NumPy 1.25.)\n",
            "  predict_file.write(f\"{id},{int(pre_test[i])}\\n\")\n"
          ]
        },
        {
          "name": "stdout",
          "output_type": "stream",
          "text": [
            "Epoch 1/3\n",
            "11345/11345 [==============================] - 6s 479us/step - loss: 17.6071\n",
            "Epoch 2/3\n",
            "11345/11345 [==============================] - 5s 476us/step - loss: 14.6620\n",
            "Epoch 3/3\n",
            "11345/11345 [==============================] - 5s 478us/step - loss: 14.1493\n",
            "11345/11345 [==============================] - 3s 269us/step\n",
            "315/315 [==============================] - 0s 277us/step\n"
          ]
        },
        {
          "name": "stderr",
          "output_type": "stream",
          "text": [
            "/var/folders/59/0dhfqywn3jld8bd1k8dfjg640000gn/T/ipykernel_29659/2686421191.py:5: DeprecationWarning: Conversion of an array with ndim > 0 to a scalar is deprecated, and will error in future. Ensure you extract a single element from your array before performing this operation. (Deprecated NumPy 1.25.)\n",
            "  err += Err_func(float(predic_y[i]), float(y[i]), float(total))\n"
          ]
        },
        {
          "name": "stdout",
          "output_type": "stream",
          "text": [
            "500119068: train: 0.12763485214367315, \u001b[34mval: 0.28324116106126074\u001b[0m, avg_train: 0.22220086056035931, avg_val: 0.3012985779479135 \n",
            "495/495 [==============================] - 0s 332us/step\n"
          ]
        },
        {
          "name": "stderr",
          "output_type": "stream",
          "text": [
            "/var/folders/59/0dhfqywn3jld8bd1k8dfjg640000gn/T/ipykernel_29659/2769502317.py:72: DeprecationWarning: Conversion of an array with ndim > 0 to a scalar is deprecated, and will error in future. Ensure you extract a single element from your array before performing this operation. (Deprecated NumPy 1.25.)\n",
            "  predict_file.write(f\"{id},{int(pre_test[i])}\\n\")\n"
          ]
        },
        {
          "name": "stdout",
          "output_type": "stream",
          "text": [
            "Epoch 1/3\n",
            "16238/16238 [==============================] - 8s 478us/step - loss: 2.2612\n",
            "Epoch 2/3\n",
            "16238/16238 [==============================] - 8s 478us/step - loss: 1.9349\n",
            "Epoch 3/3\n",
            "16238/16238 [==============================] - 8s 481us/step - loss: 1.9041\n",
            "16238/16238 [==============================] - 4s 270us/step\n",
            "315/315 [==============================] - 0s 281us/step\n"
          ]
        },
        {
          "name": "stderr",
          "output_type": "stream",
          "text": [
            "/var/folders/59/0dhfqywn3jld8bd1k8dfjg640000gn/T/ipykernel_29659/2686421191.py:5: DeprecationWarning: Conversion of an array with ndim > 0 to a scalar is deprecated, and will error in future. Ensure you extract a single element from your array before performing this operation. (Deprecated NumPy 1.25.)\n",
            "  err += Err_func(float(predic_y[i]), float(y[i]), float(total))\n"
          ]
        },
        {
          "name": "stdout",
          "output_type": "stream",
          "text": [
            "500119069: train: 0.18129205596237286, \u001b[34mval: 0.24490302381049575\u001b[0m, avg_train: 0.22175131325708472, avg_val: 0.30067884658376604\n",
            "495/495 [==============================] - 0s 287us/step\n"
          ]
        },
        {
          "name": "stderr",
          "output_type": "stream",
          "text": [
            "/var/folders/59/0dhfqywn3jld8bd1k8dfjg640000gn/T/ipykernel_29659/2769502317.py:72: DeprecationWarning: Conversion of an array with ndim > 0 to a scalar is deprecated, and will error in future. Ensure you extract a single element from your array before performing this operation. (Deprecated NumPy 1.25.)\n",
            "  predict_file.write(f\"{id},{int(pre_test[i])}\\n\")\n"
          ]
        },
        {
          "name": "stdout",
          "output_type": "stream",
          "text": [
            "Epoch 1/3\n",
            "14860/14860 [==============================] - 7s 485us/step - loss: 137.5523\n",
            "Epoch 2/3\n",
            "14860/14860 [==============================] - 8s 511us/step - loss: 130.6125\n",
            "Epoch 3/3\n",
            "14860/14860 [==============================] - 7s 484us/step - loss: 129.2457\n",
            "14860/14860 [==============================] - 4s 272us/step\n",
            "315/315 [==============================] - 0s 278us/step\n"
          ]
        },
        {
          "name": "stderr",
          "output_type": "stream",
          "text": [
            "/var/folders/59/0dhfqywn3jld8bd1k8dfjg640000gn/T/ipykernel_29659/2686421191.py:5: DeprecationWarning: Conversion of an array with ndim > 0 to a scalar is deprecated, and will error in future. Ensure you extract a single element from your array before performing this operation. (Deprecated NumPy 1.25.)\n",
            "  err += Err_func(float(predic_y[i]), float(y[i]), float(total))\n"
          ]
        },
        {
          "name": "stdout",
          "output_type": "stream",
          "text": [
            "500119070: train: 0.3829358233176119 , \u001b[34mval: 0.31265210089666173\u001b[0m, avg_train: 0.2235033188012209 , avg_val: 0.3008089906523845 \n",
            "495/495 [==============================] - 0s 279us/step\n"
          ]
        },
        {
          "name": "stderr",
          "output_type": "stream",
          "text": [
            "/var/folders/59/0dhfqywn3jld8bd1k8dfjg640000gn/T/ipykernel_29659/2769502317.py:72: DeprecationWarning: Conversion of an array with ndim > 0 to a scalar is deprecated, and will error in future. Ensure you extract a single element from your array before performing this operation. (Deprecated NumPy 1.25.)\n",
            "  predict_file.write(f\"{id},{int(pre_test[i])}\\n\")\n"
          ]
        },
        {
          "name": "stdout",
          "output_type": "stream",
          "text": [
            "Epoch 1/3\n",
            "12434/12434 [==============================] - 6s 482us/step - loss: 26.3922\n",
            "Epoch 2/3\n",
            "12434/12434 [==============================] - 6s 482us/step - loss: 22.7134\n",
            "Epoch 3/3\n",
            "12434/12434 [==============================] - 6s 476us/step - loss: 21.8922\n",
            "12434/12434 [==============================] - 3s 272us/step\n",
            "315/315 [==============================] - 0s 278us/step\n"
          ]
        },
        {
          "name": "stderr",
          "output_type": "stream",
          "text": [
            "/var/folders/59/0dhfqywn3jld8bd1k8dfjg640000gn/T/ipykernel_29659/2686421191.py:5: DeprecationWarning: Conversion of an array with ndim > 0 to a scalar is deprecated, and will error in future. Ensure you extract a single element from your array before performing this operation. (Deprecated NumPy 1.25.)\n",
            "  err += Err_func(float(predic_y[i]), float(y[i]), float(total))\n"
          ]
        },
        {
          "name": "stdout",
          "output_type": "stream",
          "text": [
            "500119071: train: 0.17188422587309693, \u001b[34mval: 0.2836689549383889 \u001b[0m, avg_train: 0.22294827479124107, avg_val: 0.3006246891930942 \n",
            "495/495 [==============================] - 0s 278us/step\n"
          ]
        },
        {
          "name": "stderr",
          "output_type": "stream",
          "text": [
            "/var/folders/59/0dhfqywn3jld8bd1k8dfjg640000gn/T/ipykernel_29659/2769502317.py:72: DeprecationWarning: Conversion of an array with ndim > 0 to a scalar is deprecated, and will error in future. Ensure you extract a single element from your array before performing this operation. (Deprecated NumPy 1.25.)\n",
            "  predict_file.write(f\"{id},{int(pre_test[i])}\\n\")\n"
          ]
        },
        {
          "name": "stdout",
          "output_type": "stream",
          "text": [
            "Epoch 1/3\n",
            "14713/14713 [==============================] - 7s 483us/step - loss: 4.1894\n",
            "Epoch 2/3\n",
            "14713/14713 [==============================] - 7s 483us/step - loss: 3.7750\n",
            "Epoch 3/3\n",
            "14713/14713 [==============================] - 7s 490us/step - loss: 3.6932\n",
            "14713/14713 [==============================] - 4s 271us/step\n",
            "315/315 [==============================] - 0s 275us/step\n"
          ]
        },
        {
          "name": "stderr",
          "output_type": "stream",
          "text": [
            "/var/folders/59/0dhfqywn3jld8bd1k8dfjg640000gn/T/ipykernel_29659/2686421191.py:5: DeprecationWarning: Conversion of an array with ndim > 0 to a scalar is deprecated, and will error in future. Ensure you extract a single element from your array before performing this operation. (Deprecated NumPy 1.25.)\n",
            "  err += Err_func(float(predic_y[i]), float(y[i]), float(total))\n"
          ]
        },
        {
          "name": "stdout",
          "output_type": "stream",
          "text": [
            "500119072: train: 0.2159365598080828 , \u001b[34mval: 0.3286664736448543 \u001b[0m, avg_train: 0.22287368207865427, avg_val: 0.300923006048964  \n",
            "495/495 [==============================] - 0s 280us/step\n"
          ]
        },
        {
          "name": "stderr",
          "output_type": "stream",
          "text": [
            "/var/folders/59/0dhfqywn3jld8bd1k8dfjg640000gn/T/ipykernel_29659/2769502317.py:72: DeprecationWarning: Conversion of an array with ndim > 0 to a scalar is deprecated, and will error in future. Ensure you extract a single element from your array before performing this operation. (Deprecated NumPy 1.25.)\n",
            "  predict_file.write(f\"{id},{int(pre_test[i])}\\n\")\n"
          ]
        },
        {
          "name": "stdout",
          "output_type": "stream",
          "text": [
            "Epoch 1/3\n",
            "14928/14928 [==============================] - 7s 474us/step - loss: 18.8747\n",
            "Epoch 2/3\n",
            "14928/14928 [==============================] - 7s 476us/step - loss: 17.3262\n",
            "Epoch 3/3\n",
            "14928/14928 [==============================] - 7s 479us/step - loss: 17.1063\n",
            "14928/14928 [==============================] - 4s 270us/step\n",
            "315/315 [==============================] - 0s 283us/step\n"
          ]
        },
        {
          "name": "stderr",
          "output_type": "stream",
          "text": [
            "/var/folders/59/0dhfqywn3jld8bd1k8dfjg640000gn/T/ipykernel_29659/2686421191.py:5: DeprecationWarning: Conversion of an array with ndim > 0 to a scalar is deprecated, and will error in future. Ensure you extract a single element from your array before performing this operation. (Deprecated NumPy 1.25.)\n",
            "  err += Err_func(float(predic_y[i]), float(y[i]), float(total))\n"
          ]
        },
        {
          "name": "stdout",
          "output_type": "stream",
          "text": [
            "500119074: train: 0.17807023630270835, \u001b[34mval: 0.25593862020218366\u001b[0m, avg_train: 0.2224020668599601 , avg_val: 0.30044948619794526\n",
            "495/495 [==============================] - 0s 278us/step\n"
          ]
        },
        {
          "name": "stderr",
          "output_type": "stream",
          "text": [
            "/var/folders/59/0dhfqywn3jld8bd1k8dfjg640000gn/T/ipykernel_29659/2769502317.py:72: DeprecationWarning: Conversion of an array with ndim > 0 to a scalar is deprecated, and will error in future. Ensure you extract a single element from your array before performing this operation. (Deprecated NumPy 1.25.)\n",
            "  predict_file.write(f\"{id},{int(pre_test[i])}\\n\")\n"
          ]
        },
        {
          "name": "stdout",
          "output_type": "stream",
          "text": [
            "Epoch 1/3\n",
            "11560/11560 [==============================] - 6s 476us/step - loss: 28.1635\n",
            "Epoch 2/3\n",
            "11560/11560 [==============================] - 6s 478us/step - loss: 25.2033\n",
            "Epoch 3/3\n",
            "11560/11560 [==============================] - 6s 480us/step - loss: 24.1724\n",
            "11560/11560 [==============================] - 3s 266us/step\n",
            "315/315 [==============================] - 0s 283us/step\n"
          ]
        },
        {
          "name": "stderr",
          "output_type": "stream",
          "text": [
            "/var/folders/59/0dhfqywn3jld8bd1k8dfjg640000gn/T/ipykernel_29659/2686421191.py:5: DeprecationWarning: Conversion of an array with ndim > 0 to a scalar is deprecated, and will error in future. Ensure you extract a single element from your array before performing this operation. (Deprecated NumPy 1.25.)\n",
            "  err += Err_func(float(predic_y[i]), float(y[i]), float(total))\n"
          ]
        },
        {
          "name": "stdout",
          "output_type": "stream",
          "text": [
            "500119075: train: 0.16018508107877213, \u001b[34mval: 0.25942177540124045\u001b[0m, avg_train: 0.22175397325807275, avg_val: 0.3000221142104796 \n",
            "495/495 [==============================] - 0s 278us/step\n"
          ]
        },
        {
          "name": "stderr",
          "output_type": "stream",
          "text": [
            "/var/folders/59/0dhfqywn3jld8bd1k8dfjg640000gn/T/ipykernel_29659/2769502317.py:72: DeprecationWarning: Conversion of an array with ndim > 0 to a scalar is deprecated, and will error in future. Ensure you extract a single element from your array before performing this operation. (Deprecated NumPy 1.25.)\n",
            "  predict_file.write(f\"{id},{int(pre_test[i])}\\n\")\n"
          ]
        },
        {
          "name": "stdout",
          "output_type": "stream",
          "text": [
            "Epoch 1/3\n",
            "15486/15486 [==============================] - 8s 476us/step - loss: 7.0492\n",
            "Epoch 2/3\n",
            "15486/15486 [==============================] - 12s 764us/step - loss: 6.0891\n",
            "Epoch 3/3\n",
            "15486/15486 [==============================] - 8s 526us/step - loss: 5.8597\n",
            "15486/15486 [==============================] - 5s 289us/step\n",
            "315/315 [==============================] - 0s 283us/step\n"
          ]
        },
        {
          "name": "stderr",
          "output_type": "stream",
          "text": [
            "/var/folders/59/0dhfqywn3jld8bd1k8dfjg640000gn/T/ipykernel_29659/2686421191.py:5: DeprecationWarning: Conversion of an array with ndim > 0 to a scalar is deprecated, and will error in future. Ensure you extract a single element from your array before performing this operation. (Deprecated NumPy 1.25.)\n",
            "  err += Err_func(float(predic_y[i]), float(y[i]), float(total))\n"
          ]
        },
        {
          "name": "stdout",
          "output_type": "stream",
          "text": [
            "500119076: train: 0.12372868607215003, \u001b[34mval: 0.23445997413749425\u001b[0m, avg_train: 0.22074340328708383, avg_val: 0.2993462158592117 \n",
            "495/495 [==============================] - 0s 283us/step\n"
          ]
        },
        {
          "name": "stderr",
          "output_type": "stream",
          "text": [
            "/var/folders/59/0dhfqywn3jld8bd1k8dfjg640000gn/T/ipykernel_29659/2769502317.py:72: DeprecationWarning: Conversion of an array with ndim > 0 to a scalar is deprecated, and will error in future. Ensure you extract a single element from your array before performing this operation. (Deprecated NumPy 1.25.)\n",
            "  predict_file.write(f\"{id},{int(pre_test[i])}\\n\")\n"
          ]
        },
        {
          "name": "stdout",
          "output_type": "stream",
          "text": [
            "Epoch 1/3\n",
            "12249/12249 [==============================] - 7s 520us/step - loss: 133.4295\n",
            "Epoch 2/3\n",
            "12249/12249 [==============================] - 6s 481us/step - loss: 121.0658\n",
            "Epoch 3/3\n",
            "12249/12249 [==============================] - 7s 532us/step - loss: 119.5681\n",
            "12249/12249 [==============================] - 3s 278us/step\n",
            "315/315 [==============================] - 0s 289us/step\n"
          ]
        },
        {
          "name": "stderr",
          "output_type": "stream",
          "text": [
            "/var/folders/59/0dhfqywn3jld8bd1k8dfjg640000gn/T/ipykernel_29659/2686421191.py:5: DeprecationWarning: Conversion of an array with ndim > 0 to a scalar is deprecated, and will error in future. Ensure you extract a single element from your array before performing this operation. (Deprecated NumPy 1.25.)\n",
            "  err += Err_func(float(predic_y[i]), float(y[i]), float(total))\n"
          ]
        },
        {
          "name": "stdout",
          "output_type": "stream",
          "text": [
            "500119077: train: 0.2753922960345294 , \u001b[34mval: 0.23928644130369944\u001b[0m, avg_train: 0.22130104504981285, avg_val: 0.2987333610168085 \n",
            "495/495 [==============================] - 0s 345us/step\n"
          ]
        },
        {
          "name": "stderr",
          "output_type": "stream",
          "text": [
            "/var/folders/59/0dhfqywn3jld8bd1k8dfjg640000gn/T/ipykernel_29659/2769502317.py:72: DeprecationWarning: Conversion of an array with ndim > 0 to a scalar is deprecated, and will error in future. Ensure you extract a single element from your array before performing this operation. (Deprecated NumPy 1.25.)\n",
            "  predict_file.write(f\"{id},{int(pre_test[i])}\\n\")\n"
          ]
        },
        {
          "name": "stdout",
          "output_type": "stream",
          "text": [
            "Epoch 1/3\n",
            "15116/15116 [==============================] - 7s 485us/step - loss: 6.9474\n",
            "Epoch 2/3\n",
            "15116/15116 [==============================] - 7s 480us/step - loss: 6.6182\n",
            "Epoch 3/3\n",
            "15116/15116 [==============================] - 8s 544us/step - loss: 6.5575\n",
            "15116/15116 [==============================] - 5s 298us/step\n",
            "315/315 [==============================] - 0s 282us/step\n"
          ]
        },
        {
          "name": "stderr",
          "output_type": "stream",
          "text": [
            "/var/folders/59/0dhfqywn3jld8bd1k8dfjg640000gn/T/ipykernel_29659/2686421191.py:5: DeprecationWarning: Conversion of an array with ndim > 0 to a scalar is deprecated, and will error in future. Ensure you extract a single element from your array before performing this operation. (Deprecated NumPy 1.25.)\n",
            "  err += Err_func(float(predic_y[i]), float(y[i]), float(total))\n"
          ]
        },
        {
          "name": "stdout",
          "output_type": "stream",
          "text": [
            "500119078: train: 0.4202859810441583 , \u001b[34mval: 0.36755917585682396\u001b[0m, avg_train: 0.2233109938982406 , avg_val: 0.2994285712677177 \n",
            "495/495 [==============================] - 0s 280us/step\n"
          ]
        },
        {
          "name": "stderr",
          "output_type": "stream",
          "text": [
            "/var/folders/59/0dhfqywn3jld8bd1k8dfjg640000gn/T/ipykernel_29659/2769502317.py:72: DeprecationWarning: Conversion of an array with ndim > 0 to a scalar is deprecated, and will error in future. Ensure you extract a single element from your array before performing this operation. (Deprecated NumPy 1.25.)\n",
            "  predict_file.write(f\"{id},{int(pre_test[i])}\\n\")\n"
          ]
        },
        {
          "name": "stdout",
          "output_type": "stream",
          "text": [
            "Epoch 1/3\n",
            "13253/13253 [==============================] - 8s 604us/step - loss: 24.6104\n",
            "Epoch 2/3\n",
            "13253/13253 [==============================] - 8s 570us/step - loss: 23.1069\n",
            "Epoch 3/3\n",
            "13253/13253 [==============================] - 6s 488us/step - loss: 22.7869\n",
            "13253/13253 [==============================] - 4s 312us/step\n",
            "315/315 [==============================] - 0s 292us/step\n"
          ]
        },
        {
          "name": "stderr",
          "output_type": "stream",
          "text": [
            "/var/folders/59/0dhfqywn3jld8bd1k8dfjg640000gn/T/ipykernel_29659/2686421191.py:5: DeprecationWarning: Conversion of an array with ndim > 0 to a scalar is deprecated, and will error in future. Ensure you extract a single element from your array before performing this operation. (Deprecated NumPy 1.25.)\n",
            "  err += Err_func(float(predic_y[i]), float(y[i]), float(total))\n"
          ]
        },
        {
          "name": "stdout",
          "output_type": "stream",
          "text": [
            "500119079: train: 0.4039917694900335 , \u001b[34mval: 0.44271946670472906\u001b[0m, avg_train: 0.22511780165415854, avg_val: 0.30086148022208786\n",
            "495/495 [==============================] - 0s 302us/step\n"
          ]
        },
        {
          "name": "stderr",
          "output_type": "stream",
          "text": [
            "/var/folders/59/0dhfqywn3jld8bd1k8dfjg640000gn/T/ipykernel_29659/2769502317.py:72: DeprecationWarning: Conversion of an array with ndim > 0 to a scalar is deprecated, and will error in future. Ensure you extract a single element from your array before performing this operation. (Deprecated NumPy 1.25.)\n",
            "  predict_file.write(f\"{id},{int(pre_test[i])}\\n\")\n"
          ]
        },
        {
          "name": "stdout",
          "output_type": "stream",
          "text": [
            "Epoch 1/3\n",
            "18528/18528 [==============================] - 10s 508us/step - loss: 3.4591\n",
            "Epoch 2/3\n",
            "18528/18528 [==============================] - 9s 499us/step - loss: 3.3354\n",
            "Epoch 3/3\n",
            "18528/18528 [==============================] - 9s 504us/step - loss: 3.3033\n",
            "18528/18528 [==============================] - 5s 279us/step\n",
            "315/315 [==============================] - 0s 278us/step\n"
          ]
        },
        {
          "name": "stderr",
          "output_type": "stream",
          "text": [
            "/var/folders/59/0dhfqywn3jld8bd1k8dfjg640000gn/T/ipykernel_29659/2686421191.py:5: DeprecationWarning: Conversion of an array with ndim > 0 to a scalar is deprecated, and will error in future. Ensure you extract a single element from your array before performing this operation. (Deprecated NumPy 1.25.)\n",
            "  err += Err_func(float(predic_y[i]), float(y[i]), float(total))\n"
          ]
        },
        {
          "name": "stdout",
          "output_type": "stream",
          "text": [
            "500119080: train: 0.24099776768503578, \u001b[34mval: 0.2544089709606082 \u001b[0m, avg_train: 0.22527502904060287, avg_val: 0.3004015543878158 \n",
            "495/495 [==============================] - 0s 285us/step\n"
          ]
        },
        {
          "name": "stderr",
          "output_type": "stream",
          "text": [
            "/var/folders/59/0dhfqywn3jld8bd1k8dfjg640000gn/T/ipykernel_29659/2769502317.py:72: DeprecationWarning: Conversion of an array with ndim > 0 to a scalar is deprecated, and will error in future. Ensure you extract a single element from your array before performing this operation. (Deprecated NumPy 1.25.)\n",
            "  predict_file.write(f\"{id},{int(pre_test[i])}\\n\")\n"
          ]
        },
        {
          "name": "stdout",
          "output_type": "stream",
          "text": [
            "Epoch 1/3\n",
            "16445/16445 [==============================] - 8s 501us/step - loss: 3.5451\n",
            "Epoch 2/3\n",
            "16445/16445 [==============================] - 8s 496us/step - loss: 3.2791\n",
            "Epoch 3/3\n",
            "16445/16445 [==============================] - 8s 500us/step - loss: 3.2078\n",
            "16445/16445 [==============================] - 5s 275us/step\n",
            "315/315 [==============================] - 0s 276us/step\n"
          ]
        },
        {
          "name": "stderr",
          "output_type": "stream",
          "text": [
            "/var/folders/59/0dhfqywn3jld8bd1k8dfjg640000gn/T/ipykernel_29659/2686421191.py:5: DeprecationWarning: Conversion of an array with ndim > 0 to a scalar is deprecated, and will error in future. Ensure you extract a single element from your array before performing this operation. (Deprecated NumPy 1.25.)\n",
            "  err += Err_func(float(predic_y[i]), float(y[i]), float(total))\n"
          ]
        },
        {
          "name": "stdout",
          "output_type": "stream",
          "text": [
            "500119081: train: 0.2194080354549141 , \u001b[34mval: 0.27124976806599765\u001b[0m, avg_train: 0.22521750949564515, avg_val: 0.3001157525611313 \n",
            "495/495 [==============================] - 0s 282us/step\n"
          ]
        },
        {
          "name": "stderr",
          "output_type": "stream",
          "text": [
            "/var/folders/59/0dhfqywn3jld8bd1k8dfjg640000gn/T/ipykernel_29659/2769502317.py:72: DeprecationWarning: Conversion of an array with ndim > 0 to a scalar is deprecated, and will error in future. Ensure you extract a single element from your array before performing this operation. (Deprecated NumPy 1.25.)\n",
            "  predict_file.write(f\"{id},{int(pre_test[i])}\\n\")\n"
          ]
        },
        {
          "name": "stdout",
          "output_type": "stream",
          "text": [
            "Epoch 1/3\n",
            "14485/14485 [==============================] - 7s 491us/step - loss: 4.2982\n",
            "Epoch 2/3\n",
            "14485/14485 [==============================] - 7s 496us/step - loss: 3.9918\n",
            "Epoch 3/3\n",
            "14485/14485 [==============================] - 7s 504us/step - loss: 3.9302\n",
            "14485/14485 [==============================] - 4s 297us/step\n",
            "315/315 [==============================] - 0s 298us/step\n"
          ]
        },
        {
          "name": "stderr",
          "output_type": "stream",
          "text": [
            "/var/folders/59/0dhfqywn3jld8bd1k8dfjg640000gn/T/ipykernel_29659/2686421191.py:5: DeprecationWarning: Conversion of an array with ndim > 0 to a scalar is deprecated, and will error in future. Ensure you extract a single element from your array before performing this operation. (Deprecated NumPy 1.25.)\n",
            "  err += Err_func(float(predic_y[i]), float(y[i]), float(total))\n"
          ]
        },
        {
          "name": "stdout",
          "output_type": "stream",
          "text": [
            "500119082: train: 0.28782534711589874, \u001b[34mval: 0.45367465876119745\u001b[0m, avg_train: 0.22582535257933695, avg_val: 0.30160661572812225\n",
            "495/495 [==============================] - 0s 280us/step\n"
          ]
        },
        {
          "name": "stderr",
          "output_type": "stream",
          "text": [
            "/var/folders/59/0dhfqywn3jld8bd1k8dfjg640000gn/T/ipykernel_29659/2769502317.py:72: DeprecationWarning: Conversion of an array with ndim > 0 to a scalar is deprecated, and will error in future. Ensure you extract a single element from your array before performing this operation. (Deprecated NumPy 1.25.)\n",
            "  predict_file.write(f\"{id},{int(pre_test[i])}\\n\")\n"
          ]
        },
        {
          "name": "stdout",
          "output_type": "stream",
          "text": [
            "Epoch 1/3\n",
            "13224/13224 [==============================] - 7s 503us/step - loss: 9.5593\n",
            "Epoch 2/3\n",
            "13224/13224 [==============================] - 7s 505us/step - loss: 7.6787\n",
            "Epoch 3/3\n",
            "13224/13224 [==============================] - 7s 510us/step - loss: 7.3967\n",
            "13224/13224 [==============================] - 4s 287us/step\n",
            "315/315 [==============================] - 0s 284us/step\n"
          ]
        },
        {
          "name": "stderr",
          "output_type": "stream",
          "text": [
            "/var/folders/59/0dhfqywn3jld8bd1k8dfjg640000gn/T/ipykernel_29659/2686421191.py:5: DeprecationWarning: Conversion of an array with ndim > 0 to a scalar is deprecated, and will error in future. Ensure you extract a single element from your array before performing this operation. (Deprecated NumPy 1.25.)\n",
            "  err += Err_func(float(predic_y[i]), float(y[i]), float(total))\n"
          ]
        },
        {
          "name": "stdout",
          "output_type": "stream",
          "text": [
            "500119083: train: 0.20549768089434672, \u001b[34mval: 0.39719332991888584\u001b[0m, avg_train: 0.22562989419775048, avg_val: 0.30252571874918727\n",
            "495/495 [==============================] - 0s 283us/step\n"
          ]
        },
        {
          "name": "stderr",
          "output_type": "stream",
          "text": [
            "/var/folders/59/0dhfqywn3jld8bd1k8dfjg640000gn/T/ipykernel_29659/2769502317.py:72: DeprecationWarning: Conversion of an array with ndim > 0 to a scalar is deprecated, and will error in future. Ensure you extract a single element from your array before performing this operation. (Deprecated NumPy 1.25.)\n",
            "  predict_file.write(f\"{id},{int(pre_test[i])}\\n\")\n"
          ]
        },
        {
          "name": "stdout",
          "output_type": "stream",
          "text": [
            "Epoch 1/3\n",
            "17649/17649 [==============================] - 9s 501us/step - loss: 2.0677\n",
            "Epoch 2/3\n",
            "17649/17649 [==============================] - 9s 501us/step - loss: 1.8148\n",
            "Epoch 3/3\n",
            "17649/17649 [==============================] - 9s 495us/step - loss: 1.7750\n",
            "17649/17649 [==============================] - 5s 287us/step\n",
            "315/315 [==============================] - 0s 286us/step\n"
          ]
        },
        {
          "name": "stderr",
          "output_type": "stream",
          "text": [
            "/var/folders/59/0dhfqywn3jld8bd1k8dfjg640000gn/T/ipykernel_29659/2686421191.py:5: DeprecationWarning: Conversion of an array with ndim > 0 to a scalar is deprecated, and will error in future. Ensure you extract a single element from your array before performing this operation. (Deprecated NumPy 1.25.)\n",
            "  err += Err_func(float(predic_y[i]), float(y[i]), float(total))\n"
          ]
        },
        {
          "name": "stdout",
          "output_type": "stream",
          "text": [
            "500119084: train: 0.17869647673039626, \u001b[34mval: 0.26929516310599616\u001b[0m, avg_train: 0.22518290926949   , avg_val: 0.30220923726687116\n",
            "495/495 [==============================] - 0s 285us/step\n"
          ]
        },
        {
          "name": "stderr",
          "output_type": "stream",
          "text": [
            "/var/folders/59/0dhfqywn3jld8bd1k8dfjg640000gn/T/ipykernel_29659/2769502317.py:72: DeprecationWarning: Conversion of an array with ndim > 0 to a scalar is deprecated, and will error in future. Ensure you extract a single element from your array before performing this operation. (Deprecated NumPy 1.25.)\n",
            "  predict_file.write(f\"{id},{int(pre_test[i])}\\n\")\n"
          ]
        },
        {
          "name": "stdout",
          "output_type": "stream",
          "text": [
            "Epoch 1/3\n",
            "14955/14955 [==============================] - 7s 490us/step - loss: 5.4274\n",
            "Epoch 2/3\n",
            "14955/14955 [==============================] - 7s 501us/step - loss: 4.5405\n",
            "Epoch 3/3\n",
            "14955/14955 [==============================] - 7s 493us/step - loss: 4.4391\n",
            "14955/14955 [==============================] - 4s 281us/step\n",
            "315/315 [==============================] - 0s 281us/step\n"
          ]
        },
        {
          "name": "stderr",
          "output_type": "stream",
          "text": [
            "/var/folders/59/0dhfqywn3jld8bd1k8dfjg640000gn/T/ipykernel_29659/2686421191.py:5: DeprecationWarning: Conversion of an array with ndim > 0 to a scalar is deprecated, and will error in future. Ensure you extract a single element from your array before performing this operation. (Deprecated NumPy 1.25.)\n",
            "  err += Err_func(float(predic_y[i]), float(y[i]), float(total))\n"
          ]
        },
        {
          "name": "stdout",
          "output_type": "stream",
          "text": [
            "500119085: train: 0.20682683659842907, \u001b[34mval: 0.3176810474259428 \u001b[0m, avg_train: 0.22500973877259317, avg_val: 0.30235519774006997\n",
            "495/495 [==============================] - 0s 281us/step\n"
          ]
        },
        {
          "name": "stderr",
          "output_type": "stream",
          "text": [
            "/var/folders/59/0dhfqywn3jld8bd1k8dfjg640000gn/T/ipykernel_29659/2769502317.py:72: DeprecationWarning: Conversion of an array with ndim > 0 to a scalar is deprecated, and will error in future. Ensure you extract a single element from your array before performing this operation. (Deprecated NumPy 1.25.)\n",
            "  predict_file.write(f\"{id},{int(pre_test[i])}\\n\")\n"
          ]
        },
        {
          "name": "stdout",
          "output_type": "stream",
          "text": [
            "Epoch 1/3\n",
            "14941/14941 [==============================] - 8s 501us/step - loss: 17.0520\n",
            "Epoch 2/3\n",
            "14941/14941 [==============================] - 8s 502us/step - loss: 15.0415\n",
            "Epoch 3/3\n",
            "14941/14941 [==============================] - 8s 545us/step - loss: 14.6610\n",
            "14941/14941 [==============================] - 4s 284us/step\n",
            "315/315 [==============================] - 0s 284us/step\n"
          ]
        },
        {
          "name": "stderr",
          "output_type": "stream",
          "text": [
            "/var/folders/59/0dhfqywn3jld8bd1k8dfjg640000gn/T/ipykernel_29659/2686421191.py:5: DeprecationWarning: Conversion of an array with ndim > 0 to a scalar is deprecated, and will error in future. Ensure you extract a single element from your array before performing this operation. (Deprecated NumPy 1.25.)\n",
            "  err += Err_func(float(predic_y[i]), float(y[i]), float(total))\n"
          ]
        },
        {
          "name": "stdout",
          "output_type": "stream",
          "text": [
            "500119086: train: 0.18553479399019676, \u001b[34mval: 0.22973086973597542\u001b[0m, avg_train: 0.2246408140550007 , avg_val: 0.3016764657026485 \n",
            "495/495 [==============================] - 0s 282us/step\n"
          ]
        },
        {
          "name": "stderr",
          "output_type": "stream",
          "text": [
            "/var/folders/59/0dhfqywn3jld8bd1k8dfjg640000gn/T/ipykernel_29659/2769502317.py:72: DeprecationWarning: Conversion of an array with ndim > 0 to a scalar is deprecated, and will error in future. Ensure you extract a single element from your array before performing this operation. (Deprecated NumPy 1.25.)\n",
            "  predict_file.write(f\"{id},{int(pre_test[i])}\\n\")\n"
          ]
        },
        {
          "name": "stdout",
          "output_type": "stream",
          "text": [
            "Epoch 1/3\n",
            "14983/14983 [==============================] - 7s 486us/step - loss: 24.4116\n",
            "Epoch 2/3\n",
            "14983/14983 [==============================] - 7s 490us/step - loss: 21.9359\n",
            "Epoch 3/3\n",
            "14983/14983 [==============================] - 8s 507us/step - loss: 21.5977\n",
            "14983/14983 [==============================] - 4s 289us/step\n",
            "315/315 [==============================] - 0s 291us/step\n"
          ]
        },
        {
          "name": "stderr",
          "output_type": "stream",
          "text": [
            "/var/folders/59/0dhfqywn3jld8bd1k8dfjg640000gn/T/ipykernel_29659/2686421191.py:5: DeprecationWarning: Conversion of an array with ndim > 0 to a scalar is deprecated, and will error in future. Ensure you extract a single element from your array before performing this operation. (Deprecated NumPy 1.25.)\n",
            "  err += Err_func(float(predic_y[i]), float(y[i]), float(total))\n"
          ]
        },
        {
          "name": "stdout",
          "output_type": "stream",
          "text": [
            "500119087: train: 0.20546437496301287, \u001b[34mval: 0.23000946693307686\u001b[0m, avg_train: 0.2244632544337786 , avg_val: 0.301012882380708  \n",
            "495/495 [==============================] - 0s 292us/step\n"
          ]
        },
        {
          "name": "stderr",
          "output_type": "stream",
          "text": [
            "/var/folders/59/0dhfqywn3jld8bd1k8dfjg640000gn/T/ipykernel_29659/2769502317.py:72: DeprecationWarning: Conversion of an array with ndim > 0 to a scalar is deprecated, and will error in future. Ensure you extract a single element from your array before performing this operation. (Deprecated NumPy 1.25.)\n",
            "  predict_file.write(f\"{id},{int(pre_test[i])}\\n\")\n"
          ]
        },
        {
          "name": "stdout",
          "output_type": "stream",
          "text": [
            "Epoch 1/3\n",
            "14007/14007 [==============================] - 7s 498us/step - loss: 12.6535\n",
            "Epoch 2/3\n",
            "14007/14007 [==============================] - 7s 498us/step - loss: 11.0699\n",
            "Epoch 3/3\n",
            "14007/14007 [==============================] - 7s 503us/step - loss: 10.7964\n",
            "14007/14007 [==============================] - 4s 282us/step\n",
            "315/315 [==============================] - 0s 311us/step\n"
          ]
        },
        {
          "name": "stderr",
          "output_type": "stream",
          "text": [
            "/var/folders/59/0dhfqywn3jld8bd1k8dfjg640000gn/T/ipykernel_29659/2686421191.py:5: DeprecationWarning: Conversion of an array with ndim > 0 to a scalar is deprecated, and will error in future. Ensure you extract a single element from your array before performing this operation. (Deprecated NumPy 1.25.)\n",
            "  err += Err_func(float(predic_y[i]), float(y[i]), float(total))\n"
          ]
        },
        {
          "name": "stdout",
          "output_type": "stream",
          "text": [
            "500119088: train: 0.24114982706028248, \u001b[34mval: 0.29760823785834545\u001b[0m, avg_train: 0.2246163422560401 , avg_val: 0.3009816471098607 \n",
            "495/495 [==============================] - 0s 302us/step\n"
          ]
        },
        {
          "name": "stderr",
          "output_type": "stream",
          "text": [
            "/var/folders/59/0dhfqywn3jld8bd1k8dfjg640000gn/T/ipykernel_29659/2769502317.py:72: DeprecationWarning: Conversion of an array with ndim > 0 to a scalar is deprecated, and will error in future. Ensure you extract a single element from your array before performing this operation. (Deprecated NumPy 1.25.)\n",
            "  predict_file.write(f\"{id},{int(pre_test[i])}\\n\")\n"
          ]
        },
        {
          "name": "stdout",
          "output_type": "stream",
          "text": [
            "Epoch 1/3\n",
            "12114/12114 [==============================] - 6s 518us/step - loss: 10.7960\n",
            "Epoch 2/3\n",
            "12114/12114 [==============================] - 6s 513us/step - loss: 9.3299\n",
            "Epoch 3/3\n",
            "12114/12114 [==============================] - 6s 502us/step - loss: 9.0620\n",
            "12114/12114 [==============================] - 3s 281us/step\n",
            "315/315 [==============================] - 0s 288us/step\n"
          ]
        },
        {
          "name": "stderr",
          "output_type": "stream",
          "text": [
            "/var/folders/59/0dhfqywn3jld8bd1k8dfjg640000gn/T/ipykernel_29659/2686421191.py:5: DeprecationWarning: Conversion of an array with ndim > 0 to a scalar is deprecated, and will error in future. Ensure you extract a single element from your array before performing this operation. (Deprecated NumPy 1.25.)\n",
            "  err += Err_func(float(predic_y[i]), float(y[i]), float(total))\n"
          ]
        },
        {
          "name": "stdout",
          "output_type": "stream",
          "text": [
            "500119089: train: 0.15449999293037087, \u001b[34mval: 0.24813185046056133\u001b[0m, avg_train: 0.22397892089853402, avg_val: 0.30050119441304884\n",
            "495/495 [==============================] - 0s 280us/step\n"
          ]
        },
        {
          "name": "stderr",
          "output_type": "stream",
          "text": [
            "/var/folders/59/0dhfqywn3jld8bd1k8dfjg640000gn/T/ipykernel_29659/2769502317.py:72: DeprecationWarning: Conversion of an array with ndim > 0 to a scalar is deprecated, and will error in future. Ensure you extract a single element from your array before performing this operation. (Deprecated NumPy 1.25.)\n",
            "  predict_file.write(f\"{id},{int(pre_test[i])}\\n\")\n"
          ]
        },
        {
          "name": "stdout",
          "output_type": "stream",
          "text": [
            "Epoch 1/3\n",
            "11519/11519 [==============================] - 6s 501us/step - loss: 65.7734\n",
            "Epoch 2/3\n",
            "11519/11519 [==============================] - 6s 492us/step - loss: 51.8764\n",
            "Epoch 3/3\n",
            "11519/11519 [==============================] - 6s 495us/step - loss: 48.2033\n",
            "11519/11519 [==============================] - 3s 276us/step\n",
            "315/315 [==============================] - 0s 301us/step\n"
          ]
        },
        {
          "name": "stderr",
          "output_type": "stream",
          "text": [
            "/var/folders/59/0dhfqywn3jld8bd1k8dfjg640000gn/T/ipykernel_29659/2686421191.py:5: DeprecationWarning: Conversion of an array with ndim > 0 to a scalar is deprecated, and will error in future. Ensure you extract a single element from your array before performing this operation. (Deprecated NumPy 1.25.)\n",
            "  err += Err_func(float(predic_y[i]), float(y[i]), float(total))\n"
          ]
        },
        {
          "name": "stdout",
          "output_type": "stream",
          "text": [
            "500119090: train: 0.23888216945940288, \u001b[34mval: 0.2706778715840995 \u001b[0m, avg_train: 0.22411318439908237, avg_val: 0.30023251582900423\n",
            "495/495 [==============================] - 0s 418us/step\n"
          ]
        },
        {
          "name": "stderr",
          "output_type": "stream",
          "text": [
            "/var/folders/59/0dhfqywn3jld8bd1k8dfjg640000gn/T/ipykernel_29659/2769502317.py:72: DeprecationWarning: Conversion of an array with ndim > 0 to a scalar is deprecated, and will error in future. Ensure you extract a single element from your array before performing this operation. (Deprecated NumPy 1.25.)\n",
            "  predict_file.write(f\"{id},{int(pre_test[i])}\\n\")\n"
          ]
        },
        {
          "name": "stdout",
          "output_type": "stream",
          "text": [
            "Epoch 1/3\n",
            "15140/15140 [==============================] - 8s 503us/step - loss: 11.0075\n",
            "Epoch 2/3\n",
            "15140/15140 [==============================] - 8s 504us/step - loss: 10.6718\n",
            "Epoch 3/3\n",
            "15140/15140 [==============================] - 8s 508us/step - loss: 10.5997\n",
            "15140/15140 [==============================] - 4s 291us/step\n",
            "315/315 [==============================] - 0s 295us/step\n"
          ]
        },
        {
          "name": "stderr",
          "output_type": "stream",
          "text": [
            "/var/folders/59/0dhfqywn3jld8bd1k8dfjg640000gn/T/ipykernel_29659/2686421191.py:5: DeprecationWarning: Conversion of an array with ndim > 0 to a scalar is deprecated, and will error in future. Ensure you extract a single element from your array before performing this operation. (Deprecated NumPy 1.25.)\n",
            "  err += Err_func(float(predic_y[i]), float(y[i]), float(total))\n"
          ]
        },
        {
          "name": "stdout",
          "output_type": "stream",
          "text": [
            "500119091: train: 0.2513921486377548 , \u001b[34mval: 0.27824083264262217\u001b[0m, avg_train: 0.22435674657978483, avg_val: 0.30003616151484014\n",
            "495/495 [==============================] - 0s 391us/step\n",
            "final: train: 0.22435674657978483, val: 0.30003616151484014\n"
          ]
        },
        {
          "name": "stderr",
          "output_type": "stream",
          "text": [
            "/var/folders/59/0dhfqywn3jld8bd1k8dfjg640000gn/T/ipykernel_29659/2769502317.py:72: DeprecationWarning: Conversion of an array with ndim > 0 to a scalar is deprecated, and will error in future. Ensure you extract a single element from your array before performing this operation. (Deprecated NumPy 1.25.)\n",
            "  predict_file.write(f\"{id},{int(pre_test[i])}\\n\")\n"
          ]
        }
      ],
      "source": [
        "import tensorflow as tf\n",
        "from keras import layers, models\n",
        "from sklearn.model_selection import train_test_split\n",
        "from sklearn.preprocessing import StandardScaler\n",
        "from sklearn.datasets import load_digits\n",
        "\n",
        "all_val_err = 0\n",
        "all_train_err = 0\n",
        "count = 0\n",
        "predict_file = open(\"./MLP_predict.csv\", 'w')\n",
        "predict_file.write(\"id,sbi\\n\")\n",
        "stn_tot = Load_stn_tot()\n",
        "# predict_stns = ['500101008']\n",
        "val_MLP_json = {}\n",
        "for stn in predict_stns:\n",
        "  global stn_pre \n",
        "  stn_pre= stn_tot[stn]\n",
        "  count += 1\n",
        "  data_train, x_train, y_train = read_data(stn, 'train')\n",
        "  data_val, x_val, y_val = read_data(stn, 'val')\n",
        "  data_test, x_test, y_test = read_data(stn, 'test')\n",
        "\n",
        "  # Train the model\n",
        "  \n",
        "  scaler = StandardScaler()\n",
        "  model = models.Sequential()\n",
        "  model.add(layers.Dense(128, activation='relu', input_shape=(x_train.shape[1],)))\n",
        "  model.add(layers.Dense(64, activation='relu'))\n",
        "  model.add(layers.Dense(32, activation='relu'))\n",
        "  model.add(layers.Dense(1))  # Assuming 10 classes for this example\n",
        "\n",
        "  # Compile the model\n",
        "  model.compile(optimizer='adam', \n",
        "                loss='mean_squared_error' \n",
        "                # loss=loss\n",
        "                ) # For classification tasks\n",
        "\n",
        "\n",
        "  # Train the model \n",
        "  model.fit(x_train, y_train, epochs=3)\n",
        "  # model.fit(x_train, y_train)\n",
        "  pre_train = model.predict(x_train)\n",
        "\n",
        "  \n",
        "  pre_val = model.predict(x_val)\n",
        "  train_err = val(pre_train, y_train, int(stn_tot[stn]))\n",
        "  val_err = val(pre_val, y_val, int(stn_tot[stn]))\n",
        "  \n",
        "  all_train_err += train_err\n",
        "  all_val_err += val_err\n",
        "  print(f\"{stn}: train: {train_err:<19}, \\033[34mval: {val_err:<19}\\033[0m, avg_train: {all_train_err / count:<19}, avg_val: {all_val_err/count:<19}\")\n",
        "  val_MLP_json[stn] = {}\n",
        "  val_MLP_json[stn]['val'] = val_err\n",
        "  val_MLP_json[stn]['train'] = train_err\n",
        "  \n",
        "  # plt.figure(figsize=(80, 5), dpi=300)\n",
        "  # plt.plot(pre_train, label='pre_train', color='b')\n",
        "  # plt.plot(y_train, label='truth', color='darkorange')\n",
        "  # plt.legend()\n",
        "  # plt.show()\n",
        "  \n",
        "  # plt.figure(figsize=(80, 5), dpi=300)\n",
        "  # plt.plot(pre_val, label='pre_train', color='b')\n",
        "  # plt.plot(y_val, label='truth', color='darkorange')\n",
        "  # plt.legend()\n",
        "  # plt.show()\n",
        "  \n",
        "  pre_test = model.predict(x_test)\n",
        "  for i in range(len(data_test)):\n",
        "    if data_test[i][2][3:] in [\"00\", \"20\", \"40\"]:\n",
        "      id = f'{data_test[i][1]}_{int(data_test[i][0])}_{data_test[i][2]}'\n",
        "      predict_file.write(f\"{id},{int(pre_test[i])}\\n\")\n",
        "\n",
        "predict_file.close()\n",
        "print(f\"final: train: {all_train_err / len(predict_stns)}, val: {all_val_err / len(predict_stns)}\")\n",
        "with open(\"./val_MLP.json\", 'w') as f:\n",
        "  json.dump(val_MLP_json, f, indent=2)\n"
      ]
    }
  ],
  "metadata": {
    "accelerator": "GPU",
    "colab": {
      "provenance": []
    },
    "kernelspec": {
      "display_name": "Python 3",
      "name": "python3"
    },
    "language_info": {
      "codemirror_mode": {
        "name": "ipython",
        "version": 3
      },
      "file_extension": ".py",
      "mimetype": "text/x-python",
      "name": "python",
      "nbconvert_exporter": "python",
      "pygments_lexer": "ipython3",
      "version": "3.11.6"
    }
  },
  "nbformat": 4,
  "nbformat_minor": 0
}
