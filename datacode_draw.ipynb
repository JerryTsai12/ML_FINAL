{
 "cells": [
  {
   "cell_type": "code",
   "execution_count": null,
   "metadata": {},
   "outputs": [],
   "source": [
    "import json\n",
    "import datetime\n",
    "import matplotlib.pyplot as plt"
   ]
  },
  {
   "cell_type": "code",
   "execution_count": 121,
   "metadata": {},
   "outputs": [],
   "source": [
    "def Read_data(stn, train, date_list):\n",
    "    count = 0\n",
    "    count_10 = 0\n",
    "    data = []\n",
    "    time_list = []\n",
    "    sbi_list = []\n",
    "    sbi = 0\n",
    "    N = 20\n",
    "    if train:\n",
    "        path = f\"./data_train/{stn}_train.txt\"\n",
    "    else:\n",
    "        path = f\"./data_test/{stn}_test.txt\"\n",
    "\n",
    "    prev_list = []\n",
    "    with open(path, 'r') as f:\n",
    "        for line in f.readlines():\n",
    "            tmp_list = line.split()\n",
    "            # sbi = 0\n",
    "                \n",
    "            if tmp_list[1] in date_list:\n",
    "                if count == 0:\n",
    "                    a = int(tmp_list[10])\n",
    "                    prev_list = list(tmp_list)\n",
    "                    # prev_sbi = sbi\n",
    "                # time_list.append(datetime.strptime(tmp_list[1] + tmp_list[2], \"%Y%m%d%H:%M\"))\n",
    "                time_list.append(count)\n",
    "                # sbi_list.append(int(tmp_list[10]) - a)\n",
    "                # sbi += int(tmp_list[10]) - int(prev_list[10])\n",
    "                count += 1\n",
    "                sbi_list.append(int(tmp_list[10]) - int(prev_list[10]))\n",
    "                # sbi += int(tmp_list[10])\n",
    "                data.append(tmp_list)\n",
    "                prev_list = list(tmp_list)\n",
    "                # count_10 += 1\n",
    "                # if count_10 == N:\n",
    "                #     time_list.append(count)\n",
    "                #     # if count == 10:\n",
    "                #     #     prev_sbi = sbi\n",
    "                #     sbi_list.append(sbi/N)\n",
    "                #     # sbi_list.append(sbi/10 - prev_sbi/10)\n",
    "                #     prev_sbi = sbi\n",
    "                #     sbi = 0\n",
    "                #     count += 1\n",
    "                #     count_10 = 0\n",
    "                    \n",
    "            \n",
    "    return data, time_list[:len(time_list) // 2], sbi_list[:len(sbi_list) // 2]"
   ]
  },
  {
   "cell_type": "code",
   "execution_count": 1,
   "metadata": {},
   "outputs": [
    {
     "name": "stdout",
     "output_type": "stream",
     "text": [
      "['20231002', '20231003', '20231004', '20231005', '20231006', '20231007', '20231008', '20231029', '20231030', '20231031', '20231101', '20231102', '20231103', '20231104', '20231105', '20231106', '20231107', '20231108', '20231109', '20231110', '20231111', '20231112', '20231113', '20231114', '20231115', '20231116', '20231117', '20231118', '20231119', '20231120', '20231121', '20231122', '20231123', '20231124', '20231125']\n",
      "['20231002', '20231003', '20231004', '20231005', '20231006', '20231007', '20231008', '20231029', '20231030', '20231031', '20231101', '20231102', '20231103', '20231104', '20231105', '20231106', '20231107', '20231108', '20231109', '20231110', '20231111', '20231112', '20231113', '20231114', '20231115', '20231116', '20231117', '20231118']\n"
     ]
    },
    {
     "ename": "NameError",
     "evalue": "name 'plt' is not defined",
     "output_type": "error",
     "traceback": [
      "\u001b[0;31m---------------------------------------------------------------------------\u001b[0m",
      "\u001b[0;31mNameError\u001b[0m                                 Traceback (most recent call last)",
      "\u001b[1;32m/Users/caichaowei/Library/CloudStorage/SynologyDrive-1 (2023-11-8 9:48 AM)/NTU/112_1/Machine_Learning/Final_Regular/datacode_draw.ipynb Cell 3\u001b[0m line \u001b[0;36m1\n\u001b[1;32m      <a href='vscode-notebook-cell:/Users/caichaowei/Library/CloudStorage/SynologyDrive-1%20%282023-11-8%209%3A48%E2%80%AFAM%29/NTU/112_1/Machine_Learning/Final_Regular/datacode_draw.ipynb#W2sZmlsZQ%3D%3D?line=6'>7</a>\u001b[0m \u001b[39mprint\u001b[39m(week1_list \u001b[39m+\u001b[39m week2_list \u001b[39m+\u001b[39m week3_list \u001b[39m+\u001b[39m week4_list \u001b[39m+\u001b[39m week5_list)\n\u001b[1;32m      <a href='vscode-notebook-cell:/Users/caichaowei/Library/CloudStorage/SynologyDrive-1%20%282023-11-8%209%3A48%E2%80%AFAM%29/NTU/112_1/Machine_Learning/Final_Regular/datacode_draw.ipynb#W2sZmlsZQ%3D%3D?line=8'>9</a>\u001b[0m \u001b[39mprint\u001b[39m(week1_list \u001b[39m+\u001b[39m week2_list \u001b[39m+\u001b[39m week3_list \u001b[39m+\u001b[39m week4_list)\n\u001b[0;32m---> <a href='vscode-notebook-cell:/Users/caichaowei/Library/CloudStorage/SynologyDrive-1%20%282023-11-8%209%3A48%E2%80%AFAM%29/NTU/112_1/Machine_Learning/Final_Regular/datacode_draw.ipynb#W2sZmlsZQ%3D%3D?line=9'>10</a>\u001b[0m plt\u001b[39m.\u001b[39mfigure(figsize\u001b[39m=\u001b[39m(\u001b[39m90\u001b[39m, \u001b[39m5\u001b[39m), dpi\u001b[39m=\u001b[39m\u001b[39m300\u001b[39m)\n\u001b[1;32m     <a href='vscode-notebook-cell:/Users/caichaowei/Library/CloudStorage/SynologyDrive-1%20%282023-11-8%209%3A48%E2%80%AFAM%29/NTU/112_1/Machine_Learning/Final_Regular/datacode_draw.ipynb#W2sZmlsZQ%3D%3D?line=10'>11</a>\u001b[0m \u001b[39m# data, time_list, sbi_list = Read_data(stn=500101001, train=True, date_list=week1_list)\u001b[39;00m\n\u001b[1;32m     <a href='vscode-notebook-cell:/Users/caichaowei/Library/CloudStorage/SynologyDrive-1%20%282023-11-8%209%3A48%E2%80%AFAM%29/NTU/112_1/Machine_Learning/Final_Regular/datacode_draw.ipynb#W2sZmlsZQ%3D%3D?line=11'>12</a>\u001b[0m \u001b[39m# plt.plot(time_list, sbi_list, marker='o', linestyle='-', label='數值', markersize=0)\u001b[39;00m\n\u001b[1;32m     <a href='vscode-notebook-cell:/Users/caichaowei/Library/CloudStorage/SynologyDrive-1%20%282023-11-8%209%3A48%E2%80%AFAM%29/NTU/112_1/Machine_Learning/Final_Regular/datacode_draw.ipynb#W2sZmlsZQ%3D%3D?line=13'>14</a>\u001b[0m data, time_list, sbi_list \u001b[39m=\u001b[39m Read_data(stn\u001b[39m=\u001b[39mstn_num, train\u001b[39m=\u001b[39m\u001b[39mTrue\u001b[39;00m, date_list\u001b[39m=\u001b[39mweek2_list)\n",
      "\u001b[0;31mNameError\u001b[0m: name 'plt' is not defined"
     ]
    }
   ],
   "source": [
    "stn_num = 500101001\n",
    "week1_list = [\"20231002\", \"20231003\", \"20231004\", \"20231005\", \"20231006\", \"20231007\", \"20231008\"]\n",
    "week2_list = [\"20231029\", \"20231030\", \"20231031\", \"20231101\", \"20231102\", \"20231103\", \"20231104\"]\n",
    "week3_list = [\"20231105\", \"20231106\", \"20231107\", \"20231108\", \"20231109\", \"20231110\", \"20231111\"]\n",
    "week4_list = [\"20231112\", \"20231113\", \"20231114\", \"20231115\", \"20231116\", \"20231117\", \"20231118\"]\n",
    "week5_list = [\"20231119\", \"20231120\", \"20231121\", \"20231122\", \"20231123\", \"20231124\", \"20231125\"]\n",
    "print(week1_list + week2_list + week3_list + week4_list + week5_list)\n",
    "\n",
    "print(week1_list + week2_list + week3_list + week4_list)\n",
    "plt.figure(figsize=(90, 5), dpi=300)\n",
    "# data, time_list, sbi_list = Read_data(stn=500101001, train=True, date_list=week1_list)\n",
    "# plt.plot(time_list, sbi_list, marker='o', linestyle='-', label='數值', markersize=0)\n",
    "\n",
    "data, time_list, sbi_list = Read_data(stn=stn_num, train=True, date_list=week2_list)\n",
    "plt.plot(time_list, sbi_list, marker='o', linestyle='-', label='數值', markersize=0)\n",
    "\n",
    "data, time_list, sbi_list = Read_data(stn=stn_num, train=True, date_list=week3_list)\n",
    "plt.plot(time_list, sbi_list, marker='o', linestyle='-', label='數值', markersize=0)\n",
    "\n",
    "data, time_list, sbi_list = Read_data(stn=stn_num, train=True, date_list=week4_list)\n",
    "plt.plot(time_list, sbi_list, marker='o', linestyle='-', label='數值', markersize=0)\n",
    "\n",
    "# plt.gca().xaxis.set_major_formatter(plt.matplotlib.dates.DateFormatter('%Y-%m-%d'))\n",
    "plt.gcf().autofmt_xdate()\n",
    "plt.savefig(\"test.png\")\n",
    "plt.show()\n",
    "\n",
    "\n",
    "\n",
    "# # 顯示圖例\n",
    "# # plt.legend()\n",
    "# # 顯示圖形\n",
    "# plt.figure(figsize=(25, 5), dpi=500)\n",
    "# plt.plot(time_list[1440 * 7:1440 * 7 * 2], sbi_list[1440 * 7:1440 * 7 * 2], marker='o', linestyle='-', color='b', label='數值', markersize=0)\n",
    "# plt.gca().xaxis.set_major_formatter(plt.matplotlib.dates.DateFormatter('%Y-%m-%d'))\n",
    "# plt.gcf().autofmt_xdate()\n",
    "# plt.show()"
   ]
  },
  {
   "cell_type": "code",
   "execution_count": null,
   "metadata": {},
   "outputs": [],
   "source": []
  },
  {
   "cell_type": "code",
   "execution_count": null,
   "metadata": {},
   "outputs": [],
   "source": []
  }
 ],
 "metadata": {
  "kernelspec": {
   "display_name": "Python 3",
   "language": "python",
   "name": "python3"
  },
  "language_info": {
   "codemirror_mode": {
    "name": "ipython",
    "version": 3
   },
   "file_extension": ".py",
   "mimetype": "text/x-python",
   "name": "python",
   "nbconvert_exporter": "python",
   "pygments_lexer": "ipython3",
   "version": "3.0.0"
  }
 },
 "nbformat": 4,
 "nbformat_minor": 2
}
